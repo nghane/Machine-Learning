{
 "cells": [
  {
   "cell_type": "code",
   "execution_count": 2,
   "metadata": {},
   "outputs": [],
   "source": [
    "import seaborn as sns\n",
    "import pandas as pd\n",
    "import os\n",
    "import matplotlib.pyplot as plt\n",
    "import numpy as np\n",
    "from sklearn import metrics \n",
    "from sklearn.model_selection import cross_val_score"
   ]
  },
  {
   "cell_type": "code",
   "execution_count": 3,
   "metadata": {},
   "outputs": [],
   "source": [
    "os.chdir(\"C:\\\\Nastaran\\\\Spring2019\\\\Python\\\\Online_shoppers_intention\")"
   ]
  },
  {
   "cell_type": "code",
   "execution_count": 4,
   "metadata": {},
   "outputs": [
    {
     "data": {
      "text/html": [
       "<div>\n",
       "<style scoped>\n",
       "    .dataframe tbody tr th:only-of-type {\n",
       "        vertical-align: middle;\n",
       "    }\n",
       "\n",
       "    .dataframe tbody tr th {\n",
       "        vertical-align: top;\n",
       "    }\n",
       "\n",
       "    .dataframe thead th {\n",
       "        text-align: right;\n",
       "    }\n",
       "</style>\n",
       "<table border=\"1\" class=\"dataframe\">\n",
       "  <thead>\n",
       "    <tr style=\"text-align: right;\">\n",
       "      <th></th>\n",
       "      <th>Administrative</th>\n",
       "      <th>Administrative_Duration</th>\n",
       "      <th>Informational</th>\n",
       "      <th>Informational_Duration</th>\n",
       "      <th>ProductRelated</th>\n",
       "      <th>ProductRelated_Duration</th>\n",
       "      <th>BounceRates</th>\n",
       "      <th>ExitRates</th>\n",
       "      <th>PageValues</th>\n",
       "      <th>SpecialDay</th>\n",
       "      <th>Month</th>\n",
       "      <th>OperatingSystems</th>\n",
       "      <th>Browser</th>\n",
       "      <th>Region</th>\n",
       "      <th>TrafficType</th>\n",
       "      <th>VisitorType</th>\n",
       "      <th>Weekend</th>\n",
       "      <th>Revenue</th>\n",
       "    </tr>\n",
       "  </thead>\n",
       "  <tbody>\n",
       "    <tr>\n",
       "      <th>0</th>\n",
       "      <td>0</td>\n",
       "      <td>0.0</td>\n",
       "      <td>0</td>\n",
       "      <td>0.0</td>\n",
       "      <td>1</td>\n",
       "      <td>0.000000</td>\n",
       "      <td>0.20</td>\n",
       "      <td>0.20</td>\n",
       "      <td>0.0</td>\n",
       "      <td>0.0</td>\n",
       "      <td>Feb</td>\n",
       "      <td>1</td>\n",
       "      <td>1</td>\n",
       "      <td>1</td>\n",
       "      <td>1</td>\n",
       "      <td>Returning_Visitor</td>\n",
       "      <td>False</td>\n",
       "      <td>False</td>\n",
       "    </tr>\n",
       "    <tr>\n",
       "      <th>1</th>\n",
       "      <td>0</td>\n",
       "      <td>0.0</td>\n",
       "      <td>0</td>\n",
       "      <td>0.0</td>\n",
       "      <td>2</td>\n",
       "      <td>64.000000</td>\n",
       "      <td>0.00</td>\n",
       "      <td>0.10</td>\n",
       "      <td>0.0</td>\n",
       "      <td>0.0</td>\n",
       "      <td>Feb</td>\n",
       "      <td>2</td>\n",
       "      <td>2</td>\n",
       "      <td>1</td>\n",
       "      <td>2</td>\n",
       "      <td>Returning_Visitor</td>\n",
       "      <td>False</td>\n",
       "      <td>False</td>\n",
       "    </tr>\n",
       "    <tr>\n",
       "      <th>2</th>\n",
       "      <td>0</td>\n",
       "      <td>0.0</td>\n",
       "      <td>0</td>\n",
       "      <td>0.0</td>\n",
       "      <td>1</td>\n",
       "      <td>0.000000</td>\n",
       "      <td>0.20</td>\n",
       "      <td>0.20</td>\n",
       "      <td>0.0</td>\n",
       "      <td>0.0</td>\n",
       "      <td>Feb</td>\n",
       "      <td>4</td>\n",
       "      <td>1</td>\n",
       "      <td>9</td>\n",
       "      <td>3</td>\n",
       "      <td>Returning_Visitor</td>\n",
       "      <td>False</td>\n",
       "      <td>False</td>\n",
       "    </tr>\n",
       "    <tr>\n",
       "      <th>3</th>\n",
       "      <td>0</td>\n",
       "      <td>0.0</td>\n",
       "      <td>0</td>\n",
       "      <td>0.0</td>\n",
       "      <td>2</td>\n",
       "      <td>2.666667</td>\n",
       "      <td>0.05</td>\n",
       "      <td>0.14</td>\n",
       "      <td>0.0</td>\n",
       "      <td>0.0</td>\n",
       "      <td>Feb</td>\n",
       "      <td>3</td>\n",
       "      <td>2</td>\n",
       "      <td>2</td>\n",
       "      <td>4</td>\n",
       "      <td>Returning_Visitor</td>\n",
       "      <td>False</td>\n",
       "      <td>False</td>\n",
       "    </tr>\n",
       "    <tr>\n",
       "      <th>4</th>\n",
       "      <td>0</td>\n",
       "      <td>0.0</td>\n",
       "      <td>0</td>\n",
       "      <td>0.0</td>\n",
       "      <td>10</td>\n",
       "      <td>627.500000</td>\n",
       "      <td>0.02</td>\n",
       "      <td>0.05</td>\n",
       "      <td>0.0</td>\n",
       "      <td>0.0</td>\n",
       "      <td>Feb</td>\n",
       "      <td>3</td>\n",
       "      <td>3</td>\n",
       "      <td>1</td>\n",
       "      <td>4</td>\n",
       "      <td>Returning_Visitor</td>\n",
       "      <td>True</td>\n",
       "      <td>False</td>\n",
       "    </tr>\n",
       "  </tbody>\n",
       "</table>\n",
       "</div>"
      ],
      "text/plain": [
       "   Administrative  Administrative_Duration  Informational  \\\n",
       "0               0                      0.0              0   \n",
       "1               0                      0.0              0   \n",
       "2               0                      0.0              0   \n",
       "3               0                      0.0              0   \n",
       "4               0                      0.0              0   \n",
       "\n",
       "   Informational_Duration  ProductRelated  ProductRelated_Duration  \\\n",
       "0                     0.0               1                 0.000000   \n",
       "1                     0.0               2                64.000000   \n",
       "2                     0.0               1                 0.000000   \n",
       "3                     0.0               2                 2.666667   \n",
       "4                     0.0              10               627.500000   \n",
       "\n",
       "   BounceRates  ExitRates  PageValues  SpecialDay Month  OperatingSystems  \\\n",
       "0         0.20       0.20         0.0         0.0   Feb                 1   \n",
       "1         0.00       0.10         0.0         0.0   Feb                 2   \n",
       "2         0.20       0.20         0.0         0.0   Feb                 4   \n",
       "3         0.05       0.14         0.0         0.0   Feb                 3   \n",
       "4         0.02       0.05         0.0         0.0   Feb                 3   \n",
       "\n",
       "   Browser  Region  TrafficType        VisitorType  Weekend  Revenue  \n",
       "0        1       1            1  Returning_Visitor    False    False  \n",
       "1        2       1            2  Returning_Visitor    False    False  \n",
       "2        1       9            3  Returning_Visitor    False    False  \n",
       "3        2       2            4  Returning_Visitor    False    False  \n",
       "4        3       1            4  Returning_Visitor     True    False  "
      ]
     },
     "execution_count": 4,
     "metadata": {},
     "output_type": "execute_result"
    }
   ],
   "source": [
    "data = pd.read_csv(\"online_shoppers_intention.csv\", sep=',')\n",
    "data.head()"
   ]
  },
  {
   "cell_type": "markdown",
   "metadata": {},
   "source": [
    "\"Administrative\", \"Administrative Duration\", \"Informational\", \"Informational Duration\", \"Product Related\" and \"Product Related Duration\" represent the number of different types of pages visited by the visitor in that session and total time spent in each of these page categories.\n",
    "\n",
    "The value of \"Bounce Rate\" feature for a web page refers to the percentage of visitors who enter the site from that page and then leave (\"bounce\") without triggering any other requests to the analytics server during that session.\n",
    "\n",
    "The value of \"Exit Rate\" feature for a specific web page is calculated as for all pageviews to the page, the percentage that were the last in the session.\n",
    "\n",
    "The \"Page Value\" feature represents the average value for a web page that a user visited before completing an e-commerce transaction.\n",
    "\n",
    "The \"Special Day\" feature indicates the closeness of the site visiting time to a specific special day (e.g. Mother’s Day, Valentine's Day) in which the sessions are more likely to be finalized with transaction. The value of this attribute is determined by considering the dynamics of e-commerce such as the duration between the order date and delivery date. For example, for Valentina’s day, this value takes a nonzero value between February 2 and February 12, zero before and after this date unless it is close to another special day, and its maximum value of 1 on February 8.\n",
    "\n",
    "The dataset also includes operating system, browser, region, traffic type, visitor type as returning or new visitor, a Boolean value indicating whether the date of the visit is weekend, and month of the year."
   ]
  },
  {
   "cell_type": "markdown",
   "metadata": {},
   "source": [
    "## Data Analysis"
   ]
  },
  {
   "cell_type": "markdown",
   "metadata": {},
   "source": [
    "### Revenue Based Analysis"
   ]
  },
  {
   "cell_type": "markdown",
   "metadata": {},
   "source": [
    "#### Revenue vs not revenue on the visits"
   ]
  },
  {
   "cell_type": "code",
   "execution_count": 25,
   "metadata": {},
   "outputs": [
    {
     "data": {
      "image/png": "[encoded data removed]",
      "text/plain": [
       "<Figure size 504x504 with 1 Axes>"
      ]
     },
     "metadata": {},
     "output_type": "display_data"
    }
   ],
   "source": [
    "plt.figure(figsize=(7,7))\n",
    "\n",
    "ax = sns.countplot(x='Revenue',data=data, palette='hls')\n",
    "\n",
    "# Adding respective values to the top of each bar\n",
    "for p in ax.patches: \n",
    "    ax.annotate(\"%i\" % p.get_height(), (p.get_x() + p.get_width() / 2, p.get_height()),\n",
    "                ha='center', va='center', fontsize=11, color='black', xytext=(0, 10), \n",
    "                textcoords='offset points')"
   ]
  },
  {
   "cell_type": "code",
   "execution_count": 12,
   "metadata": {},
   "outputs": [
    {
     "data": {
      "text/plain": [
       "False    10422\n",
       "True      1908\n",
       "Name: Revenue, dtype: int64"
      ]
     },
     "execution_count": 12,
     "metadata": {},
     "output_type": "execute_result"
    }
   ],
   "source": [
    "data.Revenue.value_counts()"
   ]
  },
  {
   "cell_type": "markdown",
   "metadata": {},
   "source": [
    "#### Most Revnue is made on weekends or not?"
   ]
  },
  {
   "cell_type": "code",
   "execution_count": 28,
   "metadata": {},
   "outputs": [
    {
     "data": {
      "image/png": "[encoded data removed]",
      "text/plain": [
       "<Figure size 504x504 with 1 Axes>"
      ]
     },
     "metadata": {},
     "output_type": "display_data"
    }
   ],
   "source": [
    "plt.figure(figsize=(7,7))\n",
    "\n",
    "ax = sns.barplot(x='Weekend', y='Revenue', data = data)\n",
    "\n",
    "# Adding respective values to the top of each bar\n",
    "for p in ax.patches: \n",
    "    ax.annotate(\"%i\" % p.get_height(), (p.get_x() + p.get_width() / 2, p.get_height()),\n",
    "                ha='center', va='center', fontsize=11, color='black', xytext=(0, 10), \n",
    "                textcoords='offset points')"
   ]
  },
  {
   "cell_type": "markdown",
   "metadata": {},
   "source": [
    "#### Region that had most revenue:"
   ]
  },
  {
   "cell_type": "code",
   "execution_count": 50,
   "metadata": {},
   "outputs": [
    {
     "data": {
      "text/plain": [
       "<matplotlib.axes._subplots.AxesSubplot at 0x1a8e1a56080>"
      ]
     },
     "execution_count": 50,
     "metadata": {},
     "output_type": "execute_result"
    },
    {
     "data": {
      "image/png": "[encoded data removed]",
      "text/plain": [
       "<Figure size 432x288 with 1 Axes>"
      ]
     },
     "metadata": {},
     "output_type": "display_data"
    }
   ],
   "source": [
    "a = data.groupby([\"Region\"]).mean().reset_index().sort_values([\"Revenue\"], ascending=False)\n",
    "sns.barplot(x=\"Region\", y=\"Revenue\", data=data, order=a['Region'])"
   ]
  },
  {
   "cell_type": "markdown",
   "metadata": {},
   "source": [
    "### Does the regions have same result if we consider the revenues on weekends?"
   ]
  },
  {
   "cell_type": "code",
   "execution_count": 53,
   "metadata": {},
   "outputs": [
    {
     "data": {
      "text/plain": [
       "<matplotlib.axes._subplots.AxesSubplot at 0x1a8e1b8ef28>"
      ]
     },
     "execution_count": 53,
     "metadata": {},
     "output_type": "execute_result"
    },
    {
     "data": {
      "image/png": "[encoded data removed]",
      "text/plain": [
       "<Figure size 432x288 with 1 Axes>"
      ]
     },
     "metadata": {},
     "output_type": "display_data"
    }
   ],
   "source": [
    "a = data.groupby([\"Region\"]).mean().reset_index().sort_values([\"Revenue\"], ascending=False)\n",
    "sns.barplot(x=\"Region\", y=\"Revenue\", hue = \"Weekend\", data=data, order=a['Region'])"
   ]
  },
  {
   "cell_type": "markdown",
   "metadata": {},
   "source": [
    "#### Which type of visitores made the mostRevenue?"
   ]
  },
  {
   "cell_type": "code",
   "execution_count": 69,
   "metadata": {},
   "outputs": [
    {
     "data": {
      "text/plain": [
       "<matplotlib.axes._subplots.AxesSubplot at 0x1a8e1d9bb38>"
      ]
     },
     "execution_count": 69,
     "metadata": {},
     "output_type": "execute_result"
    },
    {
     "data": {
      "image/png": "[encoded data removed]",
      "text/plain": [
       "<Figure size 432x288 with 1 Axes>"
      ]
     },
     "metadata": {},
     "output_type": "display_data"
    }
   ],
   "source": [
    "sns.barplot(x=\"VisitorType\", y=\"Revenue\",data=data)"
   ]
  },
  {
   "cell_type": "code",
   "execution_count": 102,
   "metadata": {},
   "outputs": [
    {
     "data": {
      "text/html": [
       "<div>\n",
       "<style scoped>\n",
       "    .dataframe tbody tr th:only-of-type {\n",
       "        vertical-align: middle;\n",
       "    }\n",
       "\n",
       "    .dataframe tbody tr th {\n",
       "        vertical-align: top;\n",
       "    }\n",
       "\n",
       "    .dataframe thead th {\n",
       "        text-align: right;\n",
       "    }\n",
       "</style>\n",
       "<table border=\"1\" class=\"dataframe\">\n",
       "  <thead>\n",
       "    <tr style=\"text-align: right;\">\n",
       "      <th></th>\n",
       "      <th>Region</th>\n",
       "      <th>Revenue</th>\n",
       "      <th>Weekend</th>\n",
       "    </tr>\n",
       "  </thead>\n",
       "  <tbody>\n",
       "    <tr>\n",
       "      <th>8</th>\n",
       "      <td>9</td>\n",
       "      <td>0.168297</td>\n",
       "      <td>0.191781</td>\n",
       "    </tr>\n",
       "    <tr>\n",
       "      <th>1</th>\n",
       "      <td>2</td>\n",
       "      <td>0.165493</td>\n",
       "      <td>0.244718</td>\n",
       "    </tr>\n",
       "    <tr>\n",
       "      <th>4</th>\n",
       "      <td>5</td>\n",
       "      <td>0.163522</td>\n",
       "      <td>0.223270</td>\n",
       "    </tr>\n",
       "    <tr>\n",
       "      <th>0</th>\n",
       "      <td>1</td>\n",
       "      <td>0.161297</td>\n",
       "      <td>0.225314</td>\n",
       "    </tr>\n",
       "    <tr>\n",
       "      <th>6</th>\n",
       "      <td>7</td>\n",
       "      <td>0.156373</td>\n",
       "      <td>0.239159</td>\n",
       "    </tr>\n",
       "    <tr>\n",
       "      <th>3</th>\n",
       "      <td>4</td>\n",
       "      <td>0.148054</td>\n",
       "      <td>0.256345</td>\n",
       "    </tr>\n",
       "    <tr>\n",
       "      <th>2</th>\n",
       "      <td>3</td>\n",
       "      <td>0.145235</td>\n",
       "      <td>0.234707</td>\n",
       "    </tr>\n",
       "    <tr>\n",
       "      <th>5</th>\n",
       "      <td>6</td>\n",
       "      <td>0.139130</td>\n",
       "      <td>0.242236</td>\n",
       "    </tr>\n",
       "    <tr>\n",
       "      <th>7</th>\n",
       "      <td>8</td>\n",
       "      <td>0.129032</td>\n",
       "      <td>0.230415</td>\n",
       "    </tr>\n",
       "  </tbody>\n",
       "</table>\n",
       "</div>"
      ],
      "text/plain": [
       "   Region   Revenue   Weekend\n",
       "8       9  0.168297  0.191781\n",
       "1       2  0.165493  0.244718\n",
       "4       5  0.163522  0.223270\n",
       "0       1  0.161297  0.225314\n",
       "6       7  0.156373  0.239159\n",
       "3       4  0.148054  0.256345\n",
       "2       3  0.145235  0.234707\n",
       "5       6  0.139130  0.242236\n",
       "7       8  0.129032  0.230415"
      ]
     },
     "execution_count": 102,
     "metadata": {},
     "output_type": "execute_result"
    }
   ],
   "source": [
    "df = data.groupby(\"Region\").mean()[[\"Revenue\",\"Weekend\"]].reset_index().sort_values(by=['Revenue'],ascending=False)\n",
    "df"
   ]
  },
  {
   "cell_type": "code",
   "execution_count": 101,
   "metadata": {},
   "outputs": [
    {
     "data": {
      "text/plain": [
       "Region  Revenue\n",
       "1       False      4009\n",
       "        True        771\n",
       "2       False       948\n",
       "        True        188\n",
       "3       False      2054\n",
       "        True        349\n",
       "4       False      1007\n",
       "        True        175\n",
       "5       False       266\n",
       "        True         52\n",
       "6       False       693\n",
       "        True        112\n",
       "7       False       642\n",
       "        True        119\n",
       "8       False       378\n",
       "        True         56\n",
       "9       False       425\n",
       "        True         86\n",
       "Name: Revenue, dtype: int64"
      ]
     },
     "execution_count": 101,
     "metadata": {},
     "output_type": "execute_result"
    }
   ],
   "source": [
    "df3 = data.groupby(\"Region\").Revenue.value_counts()\n",
    "df3"
   ]
  },
  {
   "cell_type": "code",
   "execution_count": 106,
   "metadata": {},
   "outputs": [
    {
     "data": {
      "text/plain": [
       "<matplotlib.axes._subplots.AxesSubplot at 0x1a8e2148278>"
      ]
     },
     "execution_count": 106,
     "metadata": {},
     "output_type": "execute_result"
    },
    {
     "data": {
      "image/png": "[encoded data removed]",
      "text/plain": [
       "<Figure size 432x288 with 1 Axes>"
      ]
     },
     "metadata": {},
     "output_type": "display_data"
    }
   ],
   "source": [
    "sns.barplot(x=\"Month\", y=\"SpecialDay\", hue = \"Revenue\",data=data)"
   ]
  },
  {
   "cell_type": "markdown",
   "metadata": {},
   "source": [
    "### How special days effect on revenue"
   ]
  },
  {
   "cell_type": "code",
   "execution_count": 110,
   "metadata": {},
   "outputs": [
    {
     "data": {
      "text/plain": [
       "<matplotlib.axes._subplots.AxesSubplot at 0x1a8e2372c50>"
      ]
     },
     "execution_count": 110,
     "metadata": {},
     "output_type": "execute_result"
    },
    {
     "data": {
      "image/png": "[encoded data removed]",
      "text/plain": [
       "<Figure size 432x288 with 1 Axes>"
      ]
     },
     "metadata": {},
     "output_type": "display_data"
    }
   ],
   "source": [
    "sns.barplot(x=\"SpecialDay\", y=\"Revenue\", data = data)"
   ]
  },
  {
   "cell_type": "markdown",
   "metadata": {},
   "source": [
    "## Visit Based Analysis"
   ]
  },
  {
   "cell_type": "markdown",
   "metadata": {},
   "source": [
    "### Which month had the most visit?"
   ]
  },
  {
   "cell_type": "code",
   "execution_count": 111,
   "metadata": {},
   "outputs": [
    {
     "data": {
      "text/plain": [
       "May     0.272830\n",
       "Nov     0.243147\n",
       "Mar     0.154663\n",
       "Dec     0.140065\n",
       "Oct     0.044526\n",
       "Sep     0.036334\n",
       "Aug     0.035118\n",
       "Jul     0.035036\n",
       "June    0.023358\n",
       "Feb     0.014923\n",
       "Name: Month, dtype: float64"
      ]
     },
     "execution_count": 111,
     "metadata": {},
     "output_type": "execute_result"
    }
   ],
   "source": [
    "data.Month.value_counts()/data.shape[0]"
   ]
  },
  {
   "cell_type": "markdown",
   "metadata": {},
   "source": [
    "###### Code for multiple measues in barchart"
   ]
  },
  {
   "cell_type": "code",
   "execution_count": 136,
   "metadata": {},
   "outputs": [],
   "source": [
    "#col should be less than 15 categories \n",
    "def plot_multiple_bar(col,list_of_measures,dataframe):\n",
    "    \n",
    "    temp_df = dataframe.groupby([col]).mean()[list_of_measures].reset_index()\n",
    "    temp_df_melt = pd.melt(temp_df, id_vars=col, var_name=\"Parameters\", value_name=\"Values\")\n",
    "    g =sns.factorplot(x=col, y='Values',hue ='Parameters', data=temp_df_melt, kind='bar',legend=False,size =7)\n",
    "    g.set_xticklabels(fontsize='20')\n",
    "    g.set_yticklabels(fontsize='20')\n",
    "    g.set_xlabels(fontsize='20')\n",
    "    g.set_ylabels(fontsize='20')\n",
    "    g.add_legend(fontsize='20')"
   ]
  },
  {
   "cell_type": "markdown",
   "metadata": {},
   "source": [
    "### Weekday/weekend effect on revenue"
   ]
  },
  {
   "cell_type": "code",
   "execution_count": 15,
   "metadata": {},
   "outputs": [
    {
     "data": {
      "image/png": "[encoded data removed]",
      "text/plain": [
       "<Figure size 687.875x504 with 1 Axes>"
      ]
     },
     "metadata": {},
     "output_type": "display_data"
    }
   ],
   "source": [
    "plot_multiple_bar(\"Revenue\",[\"Weekend\",\"SpecialDay\"],data)"
   ]
  },
  {
   "cell_type": "code",
   "execution_count": 16,
   "metadata": {},
   "outputs": [
    {
     "data": {
      "image/png": "[encoded data removed]",
      "text/plain": [
       "<Figure size 707.75x504 with 1 Axes>"
      ]
     },
     "metadata": {},
     "output_type": "display_data"
    }
   ],
   "source": [
    "plot_multiple_bar(\"Region\",[\"BounceRates\",\"ExitRates\"],data)"
   ]
  },
  {
   "cell_type": "markdown",
   "metadata": {},
   "source": [
    "## Is any product that has no revenue? How many?"
   ]
  },
  {
   "cell_type": "code",
   "execution_count": 115,
   "metadata": {},
   "outputs": [
    {
     "data": {
      "text/plain": [
       "86"
      ]
     },
     "execution_count": 115,
     "metadata": {},
     "output_type": "execute_result"
    }
   ],
   "source": [
    "df1 = data.groupby(\"ProductRelated\").mean()[[\"Revenue\"]].sort_values(by=['Revenue'],ascending=False)\n",
    "df2 = df1[df1.Revenue == False]\n",
    "df2.shape[0]  #86 products had no revenue"
   ]
  },
  {
   "cell_type": "code",
   "execution_count": 116,
   "metadata": {},
   "outputs": [
    {
     "data": {
      "text/plain": [
       "<matplotlib.axes._subplots.AxesSubplot at 0x1a8e23fb9b0>"
      ]
     },
     "execution_count": 116,
     "metadata": {},
     "output_type": "execute_result"
    },
    {
     "data": {
      "image/png": "[encoded data removed]",
      "text/plain": [
       "<Figure size 432x288 with 1 Axes>"
      ]
     },
     "metadata": {},
     "output_type": "display_data"
    }
   ],
   "source": [
    "sns.barplot(x='Month', y='Revenue', hue =\"Weekend\",data = data)"
   ]
  },
  {
   "cell_type": "markdown",
   "metadata": {},
   "source": [
    "### Is there multicolinearity problem among the features?"
   ]
  },
  {
   "cell_type": "code",
   "execution_count": 136,
   "metadata": {},
   "outputs": [
    {
     "name": "stdout",
     "output_type": "stream",
     "text": [
      "Administrative => Administrative_Duration : 0.6015833421250285\n",
      "Administrative_Duration => Administrative : 0.6015833421250285\n",
      "Informational => Informational_Duration : 0.618954861781397\n",
      "Informational_Duration => Informational : 0.618954861781397\n",
      "ProductRelated => ProductRelated_Duration : 0.8609268361763887\n",
      "ProductRelated_Duration => ProductRelated : 0.8609268361763887\n",
      "BounceRates => ExitRates : 0.9130043961814553\n",
      "ExitRates => BounceRates : 0.9130043961814553\n"
     ]
    }
   ],
   "source": [
    "correlationMatrix = data.corr()\n",
    "\n",
    "for index,rows in correlationMatrix.iterrows():\n",
    "    for i in rows.index.tolist():\n",
    "        if index != i and abs(rows[i])>0.5:\n",
    "            print(index ,'=>',i,\":\",rows[i])"
   ]
  },
  {
   "cell_type": "markdown",
   "metadata": {},
   "source": [
    "## Is threre class imbalance issue in dataset?"
   ]
  },
  {
   "cell_type": "code",
   "execution_count": 117,
   "metadata": {},
   "outputs": [
    {
     "data": {
      "text/plain": [
       "False    0.845255\n",
       "True     0.154745\n",
       "Name: Revenue, dtype: float64"
      ]
     },
     "execution_count": 117,
     "metadata": {},
     "output_type": "execute_result"
    }
   ],
   "source": [
    "data.Revenue.value_counts()/data.shape[0]   #Label Imbalance Issue exist in the dataset,\n",
    "                                            #so accuracy will not be enough as an evaluation matrix!"
   ]
  },
  {
   "cell_type": "markdown",
   "metadata": {},
   "source": [
    "## Preparing data to build model"
   ]
  },
  {
   "cell_type": "code",
   "execution_count": 118,
   "metadata": {
    "scrolled": false
   },
   "outputs": [],
   "source": [
    "### Independent Variables\n",
    "x = data.iloc[:, :-1]"
   ]
  },
  {
   "cell_type": "code",
   "execution_count": 119,
   "metadata": {},
   "outputs": [],
   "source": [
    "### dependent variable => Since we only have 2 different categories, those are mapped to 0 and 1.\n",
    "y = data.iloc[:, -1].map({True:1,False:0})\n"
   ]
  },
  {
   "cell_type": "code",
   "execution_count": 120,
   "metadata": {},
   "outputs": [],
   "source": [
    "from sklearn.preprocessing import LabelEncoder, OneHotEncoder\n",
    "labelencoder_x = LabelEncoder()\n",
    "x[\"VisitorType\"] = labelencoder_x.fit_transform(x[\"VisitorType\"])\n",
    "x[\"Month\"] = labelencoder_x.fit_transform(x[\"Month\"])\n",
    "x[\"Weekend\"] = labelencoder_x.fit_transform(x[\"Weekend\"])"
   ]
  },
  {
   "cell_type": "code",
   "execution_count": 121,
   "metadata": {},
   "outputs": [
    {
     "data": {
      "text/plain": [
       "0    0\n",
       "1    0\n",
       "2    0\n",
       "3    0\n",
       "4    0\n",
       "Name: Revenue, dtype: int64"
      ]
     },
     "execution_count": 121,
     "metadata": {},
     "output_type": "execute_result"
    }
   ],
   "source": [
    "y.head()"
   ]
  },
  {
   "cell_type": "code",
   "execution_count": 122,
   "metadata": {},
   "outputs": [],
   "source": [
    "onehotencoder = OneHotEncoder(categorical_features = [[11,12,13,14,15,16]])\n",
    "x = onehotencoder.fit_transform(x).toarray()"
   ]
  },
  {
   "cell_type": "code",
   "execution_count": 123,
   "metadata": {},
   "outputs": [],
   "source": [
    "from sklearn.linear_model import LogisticRegression\n",
    "classifier_LR = LogisticRegression(random_state = 0,penalty='l1')\n",
    "Log_Reg_clf = classifier_LR.fit(x, y)"
   ]
  },
  {
   "cell_type": "markdown",
   "metadata": {},
   "source": [
    "### Model 1: \n",
    "### Logistic Regression Classifier"
   ]
  },
  {
   "cell_type": "code",
   "execution_count": 125,
   "metadata": {},
   "outputs": [
    {
     "data": {
      "text/plain": [
       "array([0.89906769, 0.89217673, 0.87712895, 0.87626775, 0.86896552])"
      ]
     },
     "execution_count": 125,
     "metadata": {},
     "output_type": "execute_result"
    }
   ],
   "source": [
    "from sklearn.model_selection import cross_val_score\n",
    "LR_scores = cross_val_score(Log_Reg_clf, x, y, cv=5, scoring='accuracy')\n",
    "LR_scores                                              "
   ]
  },
  {
   "cell_type": "markdown",
   "metadata": {},
   "source": [
    "###### The mean score and the 95% confidence interval of the score estimate are hence given by:"
   ]
  },
  {
   "cell_type": "code",
   "execution_count": 126,
   "metadata": {},
   "outputs": [
    {
     "name": "stdout",
     "output_type": "stream",
     "text": [
      "Accuracy for Logistic Regression Model is: 88.27 % (+/- 0.02)\n"
     ]
    }
   ],
   "source": [
    "print(\"Accuracy for Logistic Regression Model is: %0.2f %% (+/- %0.2f)\" % (LR_scores.mean()*100, LR_scores.std() * 2))"
   ]
  },
  {
   "cell_type": "code",
   "execution_count": 127,
   "metadata": {
    "scrolled": true
   },
   "outputs": [
    {
     "name": "stdout",
     "output_type": "stream",
     "text": [
      "LR_Recall = 0.3762817605914444 [0.41361257 0.38743455 0.38219895 0.34383202 0.35433071]\n",
      "LR_Precision = 0.7424299475705951 [0.86338798 0.82222222 0.68544601 0.70430108 0.63679245]\n",
      "LR_F1 = 0.4988263662289317 [0.55929204 0.52669039 0.4907563  0.46208113 0.45531197]\n"
     ]
    }
   ],
   "source": [
    "# precision, recall and F1\n",
    "from sklearn.preprocessing import LabelBinarizer\n",
    "y1 = y\n",
    "lb = LabelBinarizer()\n",
    "y1 = np.array([number[0] for number in lb.fit_transform(y1)])\n",
    "LR_Recall = cross_val_score(classifier_LR, x, y1, cv=5, scoring='recall')\n",
    "print('LR_Recall =', np.mean(LR_Recall), LR_Recall)\n",
    "LR_precision = cross_val_score(classifier_LR, x, y1, cv=5, scoring='precision')\n",
    "print('LR_Precision =', np.mean(LR_precision), LR_precision)\n",
    "LR_F1 = cross_val_score(classifier_LR, x, y1, cv=5, scoring='f1')\n",
    "print('LR_F1 =', np.mean(LR_F1), LR_F1)"
   ]
  },
  {
   "cell_type": "markdown",
   "metadata": {},
   "source": [
    "### Model 2:\n",
    "### KNN Classifier\n",
    "Feature scalling is requierd!"
   ]
  },
  {
   "cell_type": "code",
   "execution_count": 128,
   "metadata": {},
   "outputs": [],
   "source": [
    "# Feature Scaling\n",
    "from sklearn.preprocessing import StandardScaler\n",
    "sc = StandardScaler()\n",
    "x_scaled= sc.fit_transform(x)"
   ]
  },
  {
   "cell_type": "code",
   "execution_count": 129,
   "metadata": {},
   "outputs": [],
   "source": [
    "# Fitting K-NN to data\n",
    "from sklearn.neighbors import KNeighborsClassifier\n",
    "classifier_KNN = KNeighborsClassifier(n_neighbors = 5, metric = 'minkowski', p = 2)\n",
    "KNN_clf = classifier_KNN.fit(x_scaled, y)"
   ]
  },
  {
   "cell_type": "code",
   "execution_count": 130,
   "metadata": {},
   "outputs": [
    {
     "data": {
      "text/plain": [
       "array([0.86461289, 0.85447912, 0.8487429 , 0.8474645 , 0.84665314])"
      ]
     },
     "execution_count": 130,
     "metadata": {},
     "output_type": "execute_result"
    }
   ],
   "source": [
    "KNN_scores = cross_val_score(KNN_clf, x_scaled, y, cv=5)\n",
    "KNN_scores  "
   ]
  },
  {
   "cell_type": "code",
   "execution_count": 131,
   "metadata": {},
   "outputs": [
    {
     "name": "stdout",
     "output_type": "stream",
     "text": [
      "Accuracy for KNN Model is: 85.24 % (+/- 0.01)\n"
     ]
    }
   ],
   "source": [
    "print(\"Accuracy for KNN Model is: %0.2f %% (+/- %0.2f)\" % (KNN_scores.mean()*100, KNN_scores.std() * 2))"
   ]
  },
  {
   "cell_type": "code",
   "execution_count": 132,
   "metadata": {},
   "outputs": [
    {
     "name": "stdout",
     "output_type": "stream",
     "text": [
      "KNN_Recall = 0.21804290170534965 [0.23560209 0.19633508 0.19633508 0.20209974 0.25984252]\n",
      "KNN_Precision = 0.5657510175439612 [0.68181818 0.59055118 0.53191489 0.51677852 0.50769231]\n",
      "KNN_F1 = 0.3132025909932371 [0.35019455 0.29469548 0.28680688 0.29056604 0.34375   ]\n"
     ]
    }
   ],
   "source": [
    "KNN_Recall = cross_val_score(classifier_KNN, x_scaled, y1, cv=5, scoring='recall')\n",
    "print('KNN_Recall =', np.mean(KNN_Recall), KNN_Recall)\n",
    "KNN_precision = cross_val_score(classifier_KNN, x_scaled, y1, cv=5, scoring='precision')\n",
    "print('KNN_Precision =', np.mean(KNN_precision), KNN_precision)\n",
    "KNN_F1 = cross_val_score(classifier_KNN, x_scaled, y1, cv=5, scoring='f1')\n",
    "print('KNN_F1 =', np.mean(KNN_F1), KNN_F1)"
   ]
  },
  {
   "cell_type": "markdown",
   "metadata": {},
   "source": [
    "### Model 3:\n",
    "### Linear SVM"
   ]
  },
  {
   "cell_type": "code",
   "execution_count": 77,
   "metadata": {},
   "outputs": [],
   "source": [
    "from sklearn.svm import SVC\n",
    "classifier_LSVM = SVC(kernel = 'linear', random_state = 0)\n",
    "LSVM_clf = classifier_SVR.fit(x_scaled, y1)"
   ]
  },
  {
   "cell_type": "code",
   "execution_count": 78,
   "metadata": {},
   "outputs": [
    {
     "data": {
      "text/plain": [
       "array([0.90271585, 0.89866234, 0.88158962, 0.8693712 , 0.86855984])"
      ]
     },
     "execution_count": 78,
     "metadata": {},
     "output_type": "execute_result"
    }
   ],
   "source": [
    "LSVM_scores = cross_val_score(LSVM_clf, x_scaled, y1, cv=5)\n",
    "LSVM_scores"
   ]
  },
  {
   "cell_type": "code",
   "execution_count": 79,
   "metadata": {},
   "outputs": [
    {
     "name": "stdout",
     "output_type": "stream",
     "text": [
      "Accuracy for SVM Model is: 88.42 % (+/- 0.03)\n"
     ]
    }
   ],
   "source": [
    "print(\"Accuracy for SVM Model is: %0.2f %% (+/- %0.2f)\" % (LSVM_scores.mean()*100, SVM_scores.std() * 2))"
   ]
  },
  {
   "cell_type": "code",
   "execution_count": 80,
   "metadata": {},
   "outputs": [
    {
     "name": "stdout",
     "output_type": "stream",
     "text": [
      "Accuracy for Linear SVM Model is: 88.42 % (+/- 0.03)\n",
      "LSVM_Recall = 0.3982561734756977 [0.44764398 0.45811518 0.41623037 0.33595801 0.33333333]\n",
      "LSVM_Precision = 0.7299073916570871 [0.855      0.80275229 0.69736842 0.64974619 0.64467005]\n",
      "LSVM_F1 = 0.5149253231798043 [0.58762887 0.58333333 0.52131148 0.44290657 0.43944637]\n"
     ]
    }
   ],
   "source": [
    "print(\"Accuracy for Linear SVM Model is: %0.2f %% (+/- %0.2f)\" % (LSVM_scores.mean()*100, SVM_scores.std() * 2))\n",
    "LSVM_Recall = cross_val_score(classifier_LSVM, x_scaled, y1, cv=5, scoring='recall')\n",
    "print('LSVM_Recall =', np.mean(LSVM_Recall), LSVM_Recall)\n",
    "LSVM_precision = cross_val_score(classifier_LSVM, x_scaled, y1, cv=5, scoring='precision')\n",
    "print('LSVM_Precision =', np.mean(LSVM_precision), LSVM_precision)\n",
    "LSVM_F1 = cross_val_score(classifier_LSVM, x_scaled, y1, cv=5, scoring='f1')\n",
    "print('LSVM_F1 =', np.mean(LSVM_F1), LSVM_F1)"
   ]
  },
  {
   "cell_type": "markdown",
   "metadata": {},
   "source": [
    "### Model 4:\n",
    "### Kernel SVM"
   ]
  },
  {
   "cell_type": "code",
   "execution_count": 56,
   "metadata": {},
   "outputs": [
    {
     "name": "stdout",
     "output_type": "stream",
     "text": [
      "Accuracy for SVM Model is: 88.42 % (+/- 0.03)\n",
      "Kernel_SVM_Recall = 0.3793887675035385 [0.42931937 0.43193717 0.40314136 0.31496063 0.3175853 ]\n",
      "Kernel_SVM_Precision = 0.7552811292520056 [0.86772487 0.81683168 0.72641509 0.68181818 0.68361582]\n",
      "Kernel_SVM_F1 = 0.5045178607611602 [0.57443082 0.56506849 0.51851852 0.43087971 0.43369176]\n"
     ]
    }
   ],
   "source": [
    "classifier_Kernel_SVM = SVC(kernel = 'rbf', random_state = 0)\n",
    "Kernel_SVM_clf = classifier_SVR.fit(x_scaled, y1)\n",
    "Kernel_SVM_scores = cross_val_score(Kernel_SVM_clf, x_scaled, y1, cv=5)\n",
    "print(\"Accuracy for Kernel SVM Model is: %0.2f %% (+/- %0.2f)\" % (Kernel_SVM_scores.mean()*100, Kernel_SVM_scores.std() * 2))\n",
    "Kernel_SVM_Recall = cross_val_score(classifier_Kernel_SVM, x_scaled, y1, cv=5, scoring='recall')\n",
    "print('Kernel_SVM_Recall =', np.mean(Kernel_SVM_Recall), Kernel_SVM_Recall)\n",
    "Kernel_SVM_precision = cross_val_score(classifier_Kernel_SVM, x_scaled, y1, cv=5, scoring='precision')\n",
    "print('Kernel_SVM_Precision =', np.mean(Kernel_SVM_precision), Kernel_SVM_precision)\n",
    "Kernel_SVM_F1 = cross_val_score(classifier_Kernel_SVM, x_scaled, y1, cv=5, scoring='f1')\n",
    "print('Kernel_SVM_F1 =', np.mean(Kernel_SVM_F1), Kernel_SVM_F1)"
   ]
  },
  {
   "cell_type": "markdown",
   "metadata": {},
   "source": [
    "### Model 5:\n",
    "### Naive Bayes"
   ]
  },
  {
   "cell_type": "code",
   "execution_count": 57,
   "metadata": {},
   "outputs": [
    {
     "name": "stdout",
     "output_type": "stream",
     "text": [
      "Accuracy for Naive Bayes Model is: 23.88 % (+/- 0.04)\n",
      "NB_Recall = 0.9874276841049319 [0.97382199 0.9895288  0.98691099 1.         0.98687664]\n",
      "NB_Precision = 0.1676310889422787 [0.16878403 0.17459584 0.16355748 0.16666667 0.16455142]\n",
      "NB_F1 = 0.28658359073635253 [0.28770302 0.29681979 0.28061035 0.28571429 0.28207052]\n"
     ]
    }
   ],
   "source": [
    "from sklearn.naive_bayes import GaussianNB\n",
    "classifier_NB = GaussianNB()\n",
    "NB_clf = classifier_NB.fit(x_scaled, y1)\n",
    "NB_scores = cross_val_score(NB_clf, x_scaled, y1, cv=5)\n",
    "print(\"Accuracy for Naive Bayes Model is: %0.2f %% (+/- %0.2f)\" % (NB_scores.mean()*100, NB_scores.std() * 2))\n",
    "NB_Recall = cross_val_score(classifier_NB, x_scaled, y1, cv=5, scoring='recall')\n",
    "print('NB_Recall =', np.mean(NB_Recall), NB_Recall)\n",
    "NB_precision = cross_val_score(classifier_NB, x_scaled, y1, cv=5, scoring='precision')\n",
    "print('NB_Precision =', np.mean(NB_precision), NB_precision)\n",
    "NB_F1 = cross_val_score(classifier_NB, x_scaled, y1, cv=5, scoring='f1')\n",
    "print('NB_F1 =', np.mean(NB_F1), NB_F1)"
   ]
  },
  {
   "cell_type": "markdown",
   "metadata": {},
   "source": [
    "### Model 6:\n",
    "### Decision Tree"
   ]
  },
  {
   "cell_type": "code",
   "execution_count": 59,
   "metadata": {},
   "outputs": [
    {
     "name": "stdout",
     "output_type": "stream",
     "text": [
      "Accuracy for Naive Bayes Model is: 84.69 % (+/- 0.08)\n",
      "DT_Recall = 0.5513542482582348 [0.55235602 0.55235602 0.56544503 0.53805774 0.54855643]\n",
      "DT_Precision = 0.5341952581170294 [0.71009772 0.67682927 0.46608315 0.42763158 0.39033457]\n",
      "DT_F1 = 0.5243908193830203 [0.60444444 0.59714286 0.51590106 0.46882217 0.43564356]\n"
     ]
    }
   ],
   "source": [
    "from sklearn import tree\n",
    "classifier_DT = tree.DecisionTreeClassifier()\n",
    "DT_clf = classifier_DT.fit(x, y1)\n",
    "DT_scores = cross_val_score(DT_clf, x, y1, cv=5)\n",
    "print(\"Accuracy for Decision Tree Model is: %0.2f %% (+/- %0.2f)\" % (DT_scores.mean()*100, DT_scores.std() * 2))\n",
    "DT_Recall = cross_val_score(classifier_DT, x_scaled, y1, cv=5, scoring='recall')\n",
    "print('DT_Recall =', np.mean(DT_Recall), DT_Recall)\n",
    "DT_precision = cross_val_score(classifier_DT, x, y1, cv=5, scoring='precision')\n",
    "print('DT_Precision =', np.mean(DT_precision), DT_precision)\n",
    "DT_F1 = cross_val_score(classifier_DT, x, y1, cv=5, scoring='f1')\n",
    "print('DT_F1 =', np.mean(DT_F1), DT_F1)"
   ]
  },
  {
   "cell_type": "markdown",
   "metadata": {},
   "source": [
    "### Model 7:\n",
    "### Random Forest"
   ]
  },
  {
   "cell_type": "code",
   "execution_count": 68,
   "metadata": {},
   "outputs": [
    {
     "name": "stdout",
     "output_type": "stream",
     "text": [
      "Accuracy for Random Forest Model is: 86.11 % (+/- 0.01)\n",
      "RF_Recall = 0.11584284948674609 [0.07329843 0.09947644 0.14659686 0.09973753 0.16010499]\n",
      "RF_Precision = 0.9200297000297001 [0.96428571 1.         0.86153846 0.95       0.82432432]\n",
      "RF_F1 = 0.20237468311888324 [0.13170732 0.18095238 0.25055928 0.18052257 0.26813187]\n"
     ]
    }
   ],
   "source": [
    "from sklearn.ensemble import RandomForestClassifier\n",
    "classifier_RF = RandomForestClassifier(n_estimators=100, max_depth=5,random_state=0)\n",
    "RF_clf = classifier_RF.fit(x, y1)\n",
    "RF_scores = cross_val_score(RF_clf, x, y1, cv=5)\n",
    "print(\"Accuracy for Random Forest Model is: %0.2f %% (+/- %0.2f)\" % (RF_scores.mean()*100, RF_scores.std() * 2))\n",
    "RF_Recall = cross_val_score(classifier_RF, x_scaled, y1, cv=5, scoring='recall')\n",
    "print('RF_Recall =', np.mean(RF_Recall), RF_Recall)\n",
    "RF_precision = cross_val_score(classifier_RF, x, y1, cv=5, scoring='precision')\n",
    "print('RF_Precision =', np.mean(RF_precision), RF_precision)\n",
    "RF_F1 = cross_val_score(classifier_RF, x, y1, cv=5, scoring='f1')\n",
    "print('RF_F1 =', np.mean(RF_F1), RF_F1)"
   ]
  },
  {
   "cell_type": "code",
   "execution_count": 69,
   "metadata": {},
   "outputs": [
    {
     "name": "stdout",
     "output_type": "stream",
     "text": [
      "Accuracy for Random Forest Model is: 89.03 % (+/- 0.01)\n",
      "RF2_Recall = 0.39042613128856274 [0.33246073 0.42146597 0.48429319 0.31233596 0.4015748 ]\n",
      "RF2_Precision = 0.806271134204494 [0.93283582 0.83419689 0.75819672 0.74375    0.76237624]\n",
      "RF2_F1 = 0.5207556773538166 [0.48449612 0.56       0.59105431 0.43992606 0.52830189]\n"
     ]
    }
   ],
   "source": [
    "classifier_RF2 = RandomForestClassifier(n_estimators=100, max_depth=8,random_state=0)\n",
    "RF2_clf = classifier_RF2.fit(x, y1)\n",
    "RF2_scores = cross_val_score(RF2_clf, x, y1, cv=5)\n",
    "print(\"Accuracy for Random Forest Model is: %0.2f %% (+/- %0.2f)\" % (RF2_scores.mean()*100, RF2_scores.std() * 2))\n",
    "RF2_Recall = cross_val_score(classifier_RF2, x_scaled, y1, cv=5, scoring='recall')\n",
    "print('RF2_Recall =', np.mean(RF2_Recall), RF2_Recall)\n",
    "RF2_precision = cross_val_score(classifier_RF2, x, y1, cv=5, scoring='precision')\n",
    "print('RF2_Precision =', np.mean(RF2_precision), RF2_precision)\n",
    "RF2_F1 = cross_val_score(classifier_RF2, x, y1, cv=5, scoring='f1')\n",
    "print('RF2_F1 =', np.mean(RF2_F1), RF2_F1)"
   ]
  },
  {
   "cell_type": "code",
   "execution_count": 70,
   "metadata": {},
   "outputs": [
    {
     "name": "stdout",
     "output_type": "stream",
     "text": [
      "Accuracy for Random Forest Model is: 89.47 % (+/- 0.02)\n",
      "RF3_Recall = 0.4606450371714007 [0.42670157 0.51570681 0.52879581 0.38582677 0.44619423]\n",
      "RF3_Precision = 0.7708055183327325 [0.90607735 0.76653696 0.75092937 0.71014493 0.72033898]\n",
      "RF3_F1 = 0.5741637743620397 [0.58259325 0.61658842 0.62058372 0.5        0.55105348]\n"
     ]
    }
   ],
   "source": [
    "classifier_RF3 = RandomForestClassifier(n_estimators=100, max_depth=10,random_state=0)\n",
    "RF3_clf = classifier_RF3.fit(x, y1)\n",
    "RF3_scores = cross_val_score(RF3_clf, x, y1, cv=5)\n",
    "print(\"Accuracy for Random Forest Model is: %0.2f %% (+/- %0.2f)\" % (RF3_scores.mean()*100, RF3_scores.std() * 2))\n",
    "RF3_Recall = cross_val_score(classifier_RF3, x_scaled, y1, cv=5, scoring='recall')\n",
    "print('RF3_Recall =', np.mean(RF3_Recall), RF3_Recall)\n",
    "RF3_precision = cross_val_score(classifier_RF3, x, y1, cv=5, scoring='precision')\n",
    "print('RF3_Precision =', np.mean(RF3_precision), RF3_precision)\n",
    "RF3_F1 = cross_val_score(classifier_RF3, x, y1, cv=5, scoring='f1')\n",
    "print('RF3_F1 =', np.mean(RF3_F1), RF3_F1)"
   ]
  },
  {
   "cell_type": "code",
   "execution_count": 95,
   "metadata": {},
   "outputs": [
    {
     "data": {
      "text/plain": [
       "[88.27, 85.24, 88.42, 88.42, 23.88, 84.69, 89.47]"
      ]
     },
     "execution_count": 95,
     "metadata": {},
     "output_type": "execute_result"
    }
   ],
   "source": [
    "Accuracies = [round(LR_scores.mean()*100,2),\n",
    "              round(KNN_scores.mean()*100,2),\n",
    "              round(LSVM_scores.mean()*100,2),\n",
    "              round(Kernel_SVM_scores.mean()*100,2),\n",
    "              round(NB_scores.mean()*100,2),\n",
    "              round(DT_scores.mean()*100,2),\n",
    "              round(RF3_scores.mean()*100,2)]\n",
    "Accuracies"
   ]
  },
  {
   "cell_type": "code",
   "execution_count": 100,
   "metadata": {},
   "outputs": [
    {
     "data": {
      "text/html": [
       "<div>\n",
       "<style scoped>\n",
       "    .dataframe tbody tr th:only-of-type {\n",
       "        vertical-align: middle;\n",
       "    }\n",
       "\n",
       "    .dataframe tbody tr th {\n",
       "        vertical-align: top;\n",
       "    }\n",
       "\n",
       "    .dataframe thead th {\n",
       "        text-align: right;\n",
       "    }\n",
       "</style>\n",
       "<table border=\"1\" class=\"dataframe\">\n",
       "  <thead>\n",
       "    <tr style=\"text-align: right;\">\n",
       "      <th></th>\n",
       "      <th>Model</th>\n",
       "      <th>Accuracy</th>\n",
       "    </tr>\n",
       "  </thead>\n",
       "  <tbody>\n",
       "    <tr>\n",
       "      <th>0</th>\n",
       "      <td>Logistic Regression</td>\n",
       "      <td>88.27</td>\n",
       "    </tr>\n",
       "    <tr>\n",
       "      <th>1</th>\n",
       "      <td>K-Nearest Neighbor</td>\n",
       "      <td>85.24</td>\n",
       "    </tr>\n",
       "    <tr>\n",
       "      <th>2</th>\n",
       "      <td>Linear SVM</td>\n",
       "      <td>88.42</td>\n",
       "    </tr>\n",
       "    <tr>\n",
       "      <th>3</th>\n",
       "      <td>Kernel SVM</td>\n",
       "      <td>88.42</td>\n",
       "    </tr>\n",
       "    <tr>\n",
       "      <th>4</th>\n",
       "      <td>Naive Bayes</td>\n",
       "      <td>23.88</td>\n",
       "    </tr>\n",
       "    <tr>\n",
       "      <th>5</th>\n",
       "      <td>Decision Tree</td>\n",
       "      <td>84.69</td>\n",
       "    </tr>\n",
       "    <tr>\n",
       "      <th>6</th>\n",
       "      <td>Random Forest</td>\n",
       "      <td>89.47</td>\n",
       "    </tr>\n",
       "  </tbody>\n",
       "</table>\n",
       "</div>"
      ],
      "text/plain": [
       "                 Model  Accuracy\n",
       "0  Logistic Regression     88.27\n",
       "1   K-Nearest Neighbor     85.24\n",
       "2           Linear SVM     88.42\n",
       "3           Kernel SVM     88.42\n",
       "4          Naive Bayes     23.88\n",
       "5        Decision Tree     84.69\n",
       "6        Random Forest     89.47"
      ]
     },
     "execution_count": 100,
     "metadata": {},
     "output_type": "execute_result"
    }
   ],
   "source": [
    "Classifiers = [\"Logistic Regression\", \"K-Nearest Neighbor\", \"Linear SVM\", \"Kernel SVM\", \"Naive Bayes\",\"Decision Tree\", \"Random Forest\"]\n",
    "df = pd.DataFrame(list(zip(Classifiers, Accuracies)), columns = [\"Model\", \"Accuracy\"])\n",
    "df"
   ]
  },
  {
   "cell_type": "code",
   "execution_count": 118,
   "metadata": {},
   "outputs": [
    {
     "data": {
      "image/png": "[encoded data removed]",
      "text/plain": [
       "<Figure size 1152x576 with 1 Axes>"
      ]
     },
     "metadata": {},
     "output_type": "display_data"
    }
   ],
   "source": [
    "fig,ax = plt.subplots()\n",
    "fig.set_size_inches(16,8)\n",
    "\n",
    "#to get different colors for each of the variable assign the variable to hue\n",
    "g=sns.barplot(x='Model',y='Accuracy',data=df,ax=ax)\n",
    "\n",
    "#Code for to put legend outside the plot\n",
    "box = ax.get_position()\n",
    "ax.set_position([box.x0, box.y0, box.width * 0.8, box.height])\n",
    "# Put a legend to the right of the current axis\n",
    "#ax.legend(loc='center left', bbox_to_anchor=(1, 0.5))\n",
    "\n",
    "# Adding respective values to the top of each bar\n",
    "for p in ax.patches: \n",
    "    ax.annotate(\"%.2f\" % p.get_height(), (p.get_x() + p.get_width() / 2, p.get_height()),\n",
    "                ha='center', va='center', fontsize=11, color='black', xytext=(0, 10), \n",
    "                textcoords='offset points')\n",
    "\n",
    "#To save the plot as 'SO.png'    \n",
    "plt.savefig('SO.png',dpi=100,bbox_inches='tight')\n",
    "plt.show()"
   ]
  },
  {
   "cell_type": "code",
   "execution_count": 132,
   "metadata": {},
   "outputs": [
    {
     "data": {
      "text/html": [
       "<div>\n",
       "<style scoped>\n",
       "    .dataframe tbody tr th:only-of-type {\n",
       "        vertical-align: middle;\n",
       "    }\n",
       "\n",
       "    .dataframe tbody tr th {\n",
       "        vertical-align: top;\n",
       "    }\n",
       "\n",
       "    .dataframe thead th {\n",
       "        text-align: right;\n",
       "    }\n",
       "</style>\n",
       "<table border=\"1\" class=\"dataframe\">\n",
       "  <thead>\n",
       "    <tr style=\"text-align: right;\">\n",
       "      <th></th>\n",
       "      <th>Model</th>\n",
       "      <th>Precision</th>\n",
       "      <th>Recall</th>\n",
       "      <th>F1</th>\n",
       "    </tr>\n",
       "  </thead>\n",
       "  <tbody>\n",
       "    <tr>\n",
       "      <th>0</th>\n",
       "      <td>Logistic Regression</td>\n",
       "      <td>0.74</td>\n",
       "      <td>0.38</td>\n",
       "      <td>0.50</td>\n",
       "    </tr>\n",
       "    <tr>\n",
       "      <th>1</th>\n",
       "      <td>K-Nearest Neighbor</td>\n",
       "      <td>0.57</td>\n",
       "      <td>0.22</td>\n",
       "      <td>0.31</td>\n",
       "    </tr>\n",
       "    <tr>\n",
       "      <th>2</th>\n",
       "      <td>Linear SVM</td>\n",
       "      <td>0.73</td>\n",
       "      <td>0.40</td>\n",
       "      <td>0.51</td>\n",
       "    </tr>\n",
       "    <tr>\n",
       "      <th>3</th>\n",
       "      <td>Kernel SVM</td>\n",
       "      <td>0.76</td>\n",
       "      <td>0.38</td>\n",
       "      <td>0.50</td>\n",
       "    </tr>\n",
       "    <tr>\n",
       "      <th>4</th>\n",
       "      <td>Naive Bayes</td>\n",
       "      <td>0.17</td>\n",
       "      <td>0.99</td>\n",
       "      <td>0.29</td>\n",
       "    </tr>\n",
       "  </tbody>\n",
       "</table>\n",
       "</div>"
      ],
      "text/plain": [
       "                 Model  Precision  Recall    F1\n",
       "0  Logistic Regression       0.74    0.38  0.50\n",
       "1   K-Nearest Neighbor       0.57    0.22  0.31\n",
       "2           Linear SVM       0.73    0.40  0.51\n",
       "3           Kernel SVM       0.76    0.38  0.50\n",
       "4          Naive Bayes       0.17    0.99  0.29"
      ]
     },
     "execution_count": 132,
     "metadata": {},
     "output_type": "execute_result"
    }
   ],
   "source": [
    "Precisions = [round(np.mean(LR_precision),2),\n",
    "              round(np.mean(KNN_precision),2),\n",
    "              round(np.mean(LSVM_precision),2),\n",
    "              round(np.mean(Kernel_SVM_precision),2),\n",
    "              round(np.mean(NB_precision),2),\n",
    "              round(np.mean(DT_precision),2),\n",
    "              round(np.mean(RF3_precision),2)]\n",
    "\n",
    "Recalls = [round(np.mean(LR_Recall),2),\n",
    "              round(np.mean(KNN_Recall),2),\n",
    "              round(np.mean(LSVM_Recall),2),\n",
    "              round(np.mean(Kernel_SVM_Recall),2),\n",
    "              round(np.mean(NB_Recall),2),\n",
    "              round(np.mean(DT_Recall),2),\n",
    "              round(np.mean(RF3_Recall),2)]\n",
    "\n",
    "F1s = [round(np.mean(LR_F1),2),\n",
    "              round(np.mean(KNN_F1),2),\n",
    "              round(np.mean(LSVM_F1),2),\n",
    "              round(np.mean(Kernel_SVM_F1),2),\n",
    "              round(np.mean(NB_F1),2),\n",
    "              round(np.mean(DT_F1),2),\n",
    "              round(np.mean(RF3_F1),2)]\n",
    "\n",
    "df1 = pd.DataFrame(list(zip(Classifiers, Precisions, Recalls, F1s)), columns = [\"Model\", \"Precision\", \"Recall\", \"F1\"])\n",
    "df1.head()"
   ]
  },
  {
   "cell_type": "code",
   "execution_count": null,
   "metadata": {},
   "outputs": [],
   "source": [
    "#col should be less than 15 categories \n",
    "def plot_multiple_bar2(col,list_of_measures,dataframe):\n",
    "    \n",
    "    temp_df = dataframe.groupby([col]).mean()[list_of_measures].reset_index()\n",
    "    temp_df_melt = pd.melt(temp_df, id_vars=col, var_name=\"Parameters\", value_name=\"Values\")\n",
    "    g =sns.factorplot(x=col, y='Values',hue ='Parameters', data=temp_df_melt, kind='bar',legend=False,size =7)\n",
    "    g.set_xticklabels(fontsize='10')\n",
    "    g.set_yticklabels(fontsize='20')\n",
    "    g.set_xlabels(fontsize='10')\n",
    "    g.set_ylabels(fontsize='20')\n",
    "    g.add_legend(fontsize='20')\n",
    "    g.set_xticklabels(ax.get_xticklabels(), rotation=40, ha=\"right\")"
   ]
  },
  {
   "cell_type": "code",
   "execution_count": 179,
   "metadata": {},
   "outputs": [
    {
     "data": {
      "image/png": "[encoded data removed]",
      "text/plain": [
       "<Figure size 666.125x504 with 1 Axes>"
      ]
     },
     "metadata": {},
     "output_type": "display_data"
    }
   ],
   "source": [
    "plot_multiple_bar2(\"Model\",[\"Precision\",\"Recall\",\"F1\"],df1)"
   ]
  },
  {
   "cell_type": "code",
   "execution_count": null,
   "metadata": {},
   "outputs": [],
   "source": []
  },
  {
   "cell_type": "code",
   "execution_count": null,
   "metadata": {},
   "outputs": [],
   "source": []
  }
 ],
 "metadata": {
  "kernelspec": {
   "display_name": "Python 3",
   "language": "python",
   "name": "python3"
  },
  "language_info": {
   "codemirror_mode": {
    "name": "ipython",
    "version": 3
   },
   "file_extension": ".py",
   "mimetype": "text/x-python",
   "name": "python",
   "nbconvert_exporter": "python",
   "pygments_lexer": "ipython3",
   "version": "3.6.5"
  }
 },
 "nbformat": 4,
 "nbformat_minor": 2
}
