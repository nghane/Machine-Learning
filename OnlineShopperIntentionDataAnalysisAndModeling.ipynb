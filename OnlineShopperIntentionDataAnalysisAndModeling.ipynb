{
 "cells": [
  {
   "cell_type": "code",
   "execution_count": 1,
   "metadata": {},
   "outputs": [],
   "source": [
    "import seaborn as sns\n",
    "import pandas as pd\n",
    "import os\n",
    "import matplotlib.pyplot as plt\n",
    "import numpy as np\n",
    "from sklearn import metrics \n",
    "from sklearn.model_selection import cross_val_score"
   ]
  },
  {
   "cell_type": "code",
   "execution_count": 2,
   "metadata": {},
   "outputs": [],
   "source": [
    "os.chdir(\"C:\\\\Nastaran\\\\Spring2019\\\\Python\\\\Online_shoppers_intention\")"
   ]
  },
  {
   "cell_type": "code",
   "execution_count": 3,
   "metadata": {},
   "outputs": [
    {
     "data": {
      "text/plain": [
       "18"
      ]
     },
     "execution_count": 3,
     "metadata": {},
     "output_type": "execute_result"
    }
   ],
   "source": [
    "data = pd.read_csv(\"online_shoppers_intention.csv\", sep=',')\n",
    "data.head()\n",
    "len(data.columns)"
   ]
  },
  {
   "cell_type": "code",
   "execution_count": 4,
   "metadata": {},
   "outputs": [
    {
     "data": {
      "text/plain": [
       "<matplotlib.axes._subplots.AxesSubplot at 0x1aee62f8ef0>"
      ]
     },
     "execution_count": 4,
     "metadata": {},
     "output_type": "execute_result"
    },
    {
     "data": {
      "image/png": "[encoded data removed]",
      "text/plain": [
       "<Figure size 432x288 with 1 Axes>"
      ]
     },
     "metadata": {},
     "output_type": "display_data"
    }
   ],
   "source": [
    "sns.countplot(x='Revenue',data=data, palette='hls')"
   ]
  },
  {
   "cell_type": "code",
   "execution_count": 5,
   "metadata": {},
   "outputs": [
    {
     "data": {
      "text/plain": [
       "<matplotlib.axes._subplots.AxesSubplot at 0x1aee76340f0>"
      ]
     },
     "execution_count": 5,
     "metadata": {},
     "output_type": "execute_result"
    },
    {
     "data": {
      "image/png": "[encoded data removed]",
      "text/plain": [
       "<Figure size 432x288 with 1 Axes>"
      ]
     },
     "metadata": {},
     "output_type": "display_data"
    }
   ],
   "source": [
    "sns.barplot(x=\"Region\", y=\"Revenue\", hue=\"Weekend\", data=data)"
   ]
  },
  {
   "cell_type": "markdown",
   "metadata": {},
   "source": [
    "## Which month has the most visit?"
   ]
  },
  {
   "cell_type": "code",
   "execution_count": 6,
   "metadata": {},
   "outputs": [
    {
     "data": {
      "text/plain": [
       "May     0.272830\n",
       "Nov     0.243147\n",
       "Mar     0.154663\n",
       "Dec     0.140065\n",
       "Oct     0.044526\n",
       "Sep     0.036334\n",
       "Aug     0.035118\n",
       "Jul     0.035036\n",
       "June    0.023358\n",
       "Feb     0.014923\n",
       "Name: Month, dtype: float64"
      ]
     },
     "execution_count": 6,
     "metadata": {},
     "output_type": "execute_result"
    }
   ],
   "source": [
    "data.Month.value_counts()/data.shape[0]"
   ]
  },
  {
   "cell_type": "code",
   "execution_count": 7,
   "metadata": {},
   "outputs": [
    {
     "data": {
      "text/plain": [
       "<matplotlib.axes._subplots.AxesSubplot at 0x1aee777de10>"
      ]
     },
     "execution_count": 7,
     "metadata": {},
     "output_type": "execute_result"
    },
    {
     "data": {
      "image/png": "[encoded data removed]",
      "text/plain": [
       "<Figure size 432x288 with 1 Axes>"
      ]
     },
     "metadata": {},
     "output_type": "display_data"
    }
   ],
   "source": [
    "sns.barplot(x=\"VisitorType\", y=\"Revenue\", hue = \"Region\", data=data)"
   ]
  },
  {
   "cell_type": "code",
   "execution_count": 8,
   "metadata": {},
   "outputs": [
    {
     "data": {
      "text/html": [
       "<div>\n",
       "<style scoped>\n",
       "    .dataframe tbody tr th:only-of-type {\n",
       "        vertical-align: middle;\n",
       "    }\n",
       "\n",
       "    .dataframe tbody tr th {\n",
       "        vertical-align: top;\n",
       "    }\n",
       "\n",
       "    .dataframe thead th {\n",
       "        text-align: right;\n",
       "    }\n",
       "</style>\n",
       "<table border=\"1\" class=\"dataframe\">\n",
       "  <thead>\n",
       "    <tr style=\"text-align: right;\">\n",
       "      <th></th>\n",
       "      <th>Revenue</th>\n",
       "      <th>ProductRelated_Duration</th>\n",
       "    </tr>\n",
       "    <tr>\n",
       "      <th>Region</th>\n",
       "      <th></th>\n",
       "      <th></th>\n",
       "    </tr>\n",
       "  </thead>\n",
       "  <tbody>\n",
       "    <tr>\n",
       "      <th>9</th>\n",
       "      <td>0.168297</td>\n",
       "      <td>1120.934196</td>\n",
       "    </tr>\n",
       "    <tr>\n",
       "      <th>2</th>\n",
       "      <td>0.165493</td>\n",
       "      <td>1182.445068</td>\n",
       "    </tr>\n",
       "    <tr>\n",
       "      <th>5</th>\n",
       "      <td>0.163522</td>\n",
       "      <td>1147.762954</td>\n",
       "    </tr>\n",
       "    <tr>\n",
       "      <th>1</th>\n",
       "      <td>0.161297</td>\n",
       "      <td>1276.107354</td>\n",
       "    </tr>\n",
       "    <tr>\n",
       "      <th>7</th>\n",
       "      <td>0.156373</td>\n",
       "      <td>1142.488546</td>\n",
       "    </tr>\n",
       "    <tr>\n",
       "      <th>4</th>\n",
       "      <td>0.148054</td>\n",
       "      <td>1113.594595</td>\n",
       "    </tr>\n",
       "    <tr>\n",
       "      <th>3</th>\n",
       "      <td>0.145235</td>\n",
       "      <td>1188.408424</td>\n",
       "    </tr>\n",
       "    <tr>\n",
       "      <th>6</th>\n",
       "      <td>0.139130</td>\n",
       "      <td>1035.237000</td>\n",
       "    </tr>\n",
       "    <tr>\n",
       "      <th>8</th>\n",
       "      <td>0.129032</td>\n",
       "      <td>1095.784162</td>\n",
       "    </tr>\n",
       "  </tbody>\n",
       "</table>\n",
       "</div>"
      ],
      "text/plain": [
       "         Revenue  ProductRelated_Duration\n",
       "Region                                   \n",
       "9       0.168297              1120.934196\n",
       "2       0.165493              1182.445068\n",
       "5       0.163522              1147.762954\n",
       "1       0.161297              1276.107354\n",
       "7       0.156373              1142.488546\n",
       "4       0.148054              1113.594595\n",
       "3       0.145235              1188.408424\n",
       "6       0.139130              1035.237000\n",
       "8       0.129032              1095.784162"
      ]
     },
     "execution_count": 8,
     "metadata": {},
     "output_type": "execute_result"
    }
   ],
   "source": [
    "df = data.groupby(\"Region\").mean()[[\"Revenue\",\"ProductRelated_Duration\"]].sort_values(by=['Revenue'],ascending=False)\n",
    "df"
   ]
  },
  {
   "cell_type": "code",
   "execution_count": 9,
   "metadata": {},
   "outputs": [
    {
     "data": {
      "text/html": [
       "<div>\n",
       "<style scoped>\n",
       "    .dataframe tbody tr th:only-of-type {\n",
       "        vertical-align: middle;\n",
       "    }\n",
       "\n",
       "    .dataframe tbody tr th {\n",
       "        vertical-align: top;\n",
       "    }\n",
       "\n",
       "    .dataframe thead th {\n",
       "        text-align: right;\n",
       "    }\n",
       "</style>\n",
       "<table border=\"1\" class=\"dataframe\">\n",
       "  <thead>\n",
       "    <tr style=\"text-align: right;\">\n",
       "      <th></th>\n",
       "      <th>Administrative</th>\n",
       "      <th>Administrative_Duration</th>\n",
       "      <th>Informational</th>\n",
       "      <th>Informational_Duration</th>\n",
       "      <th>ProductRelated</th>\n",
       "      <th>ProductRelated_Duration</th>\n",
       "      <th>BounceRates</th>\n",
       "      <th>ExitRates</th>\n",
       "      <th>PageValues</th>\n",
       "      <th>SpecialDay</th>\n",
       "      <th>OperatingSystems</th>\n",
       "      <th>Browser</th>\n",
       "      <th>Region</th>\n",
       "      <th>TrafficType</th>\n",
       "      <th>Weekend</th>\n",
       "    </tr>\n",
       "    <tr>\n",
       "      <th>Revenue</th>\n",
       "      <th></th>\n",
       "      <th></th>\n",
       "      <th></th>\n",
       "      <th></th>\n",
       "      <th></th>\n",
       "      <th></th>\n",
       "      <th></th>\n",
       "      <th></th>\n",
       "      <th></th>\n",
       "      <th></th>\n",
       "      <th></th>\n",
       "      <th></th>\n",
       "      <th></th>\n",
       "      <th></th>\n",
       "      <th></th>\n",
       "    </tr>\n",
       "  </thead>\n",
       "  <tbody>\n",
       "    <tr>\n",
       "      <th>False</th>\n",
       "      <td>2.117732</td>\n",
       "      <td>73.740111</td>\n",
       "      <td>0.451833</td>\n",
       "      <td>30.236237</td>\n",
       "      <td>28.714642</td>\n",
       "      <td>1069.987809</td>\n",
       "      <td>0.025317</td>\n",
       "      <td>0.047378</td>\n",
       "      <td>1.975998</td>\n",
       "      <td>0.068432</td>\n",
       "      <td>2.129726</td>\n",
       "      <td>2.339474</td>\n",
       "      <td>3.159278</td>\n",
       "      <td>4.078392</td>\n",
       "      <td>0.227308</td>\n",
       "    </tr>\n",
       "    <tr>\n",
       "      <th>True</th>\n",
       "      <td>3.393606</td>\n",
       "      <td>119.483244</td>\n",
       "      <td>0.786164</td>\n",
       "      <td>57.611427</td>\n",
       "      <td>48.210168</td>\n",
       "      <td>1876.209615</td>\n",
       "      <td>0.005117</td>\n",
       "      <td>0.019555</td>\n",
       "      <td>27.264518</td>\n",
       "      <td>0.023166</td>\n",
       "      <td>2.092767</td>\n",
       "      <td>2.453354</td>\n",
       "      <td>3.082285</td>\n",
       "      <td>4.021488</td>\n",
       "      <td>0.261530</td>\n",
       "    </tr>\n",
       "  </tbody>\n",
       "</table>\n",
       "</div>"
      ],
      "text/plain": [
       "         Administrative  Administrative_Duration  Informational  \\\n",
       "Revenue                                                           \n",
       "False          2.117732                73.740111       0.451833   \n",
       "True           3.393606               119.483244       0.786164   \n",
       "\n",
       "         Informational_Duration  ProductRelated  ProductRelated_Duration  \\\n",
       "Revenue                                                                    \n",
       "False                 30.236237       28.714642              1069.987809   \n",
       "True                  57.611427       48.210168              1876.209615   \n",
       "\n",
       "         BounceRates  ExitRates  PageValues  SpecialDay  OperatingSystems  \\\n",
       "Revenue                                                                     \n",
       "False       0.025317   0.047378    1.975998    0.068432          2.129726   \n",
       "True        0.005117   0.019555   27.264518    0.023166          2.092767   \n",
       "\n",
       "          Browser    Region  TrafficType   Weekend  \n",
       "Revenue                                             \n",
       "False    2.339474  3.159278     4.078392  0.227308  \n",
       "True     2.453354  3.082285     4.021488  0.261530  "
      ]
     },
     "execution_count": 9,
     "metadata": {},
     "output_type": "execute_result"
    }
   ],
   "source": [
    "df1 = data.groupby(\"Revenue\").mean()\n",
    "df1"
   ]
  },
  {
   "cell_type": "code",
   "execution_count": 10,
   "metadata": {},
   "outputs": [
    {
     "data": {
      "text/plain": [
       "Region  Revenue\n",
       "1       False      4009\n",
       "        True        771\n",
       "2       False       948\n",
       "        True        188\n",
       "3       False      2054\n",
       "        True        349\n",
       "4       False      1007\n",
       "        True        175\n",
       "5       False       266\n",
       "        True         52\n",
       "6       False       693\n",
       "        True        112\n",
       "7       False       642\n",
       "        True        119\n",
       "8       False       378\n",
       "        True         56\n",
       "9       False       425\n",
       "        True         86\n",
       "Name: Revenue, dtype: int64"
      ]
     },
     "execution_count": 10,
     "metadata": {},
     "output_type": "execute_result"
    }
   ],
   "source": [
    "df3 = data.groupby(\"Region\").Revenue.value_counts()\n",
    "df3"
   ]
  },
  {
   "cell_type": "code",
   "execution_count": 11,
   "metadata": {},
   "outputs": [
    {
     "data": {
      "text/plain": [
       "<matplotlib.axes._subplots.AxesSubplot at 0x1aee78890b8>"
      ]
     },
     "execution_count": 11,
     "metadata": {},
     "output_type": "execute_result"
    },
    {
     "data": {
      "image/png": "[encoded data removed]",
      "text/plain": [
       "<Figure size 432x288 with 1 Axes>"
      ]
     },
     "metadata": {},
     "output_type": "display_data"
    }
   ],
   "source": [
    "sns.barplot(x='Region', y='Revenue', data = data)"
   ]
  },
  {
   "cell_type": "code",
   "execution_count": 12,
   "metadata": {},
   "outputs": [
    {
     "data": {
      "text/plain": [
       "<matplotlib.axes._subplots.AxesSubplot at 0x1aee78d0438>"
      ]
     },
     "execution_count": 12,
     "metadata": {},
     "output_type": "execute_result"
    },
    {
     "data": {
      "image/png": "[encoded data removed]",
      "text/plain": [
       "<Figure size 432x288 with 1 Axes>"
      ]
     },
     "metadata": {},
     "output_type": "display_data"
    }
   ],
   "source": [
    "sns.barplot(x=data[\"Region\"], y=data[\"Browser\"], data=data)\n"
   ]
  },
  {
   "cell_type": "code",
   "execution_count": 13,
   "metadata": {},
   "outputs": [
    {
     "data": {
      "text/html": [
       "<div>\n",
       "<style scoped>\n",
       "    .dataframe tbody tr th:only-of-type {\n",
       "        vertical-align: middle;\n",
       "    }\n",
       "\n",
       "    .dataframe tbody tr th {\n",
       "        vertical-align: top;\n",
       "    }\n",
       "\n",
       "    .dataframe thead th {\n",
       "        text-align: right;\n",
       "    }\n",
       "</style>\n",
       "<table border=\"1\" class=\"dataframe\">\n",
       "  <thead>\n",
       "    <tr style=\"text-align: right;\">\n",
       "      <th></th>\n",
       "      <th>Revenue</th>\n",
       "      <th>Browser</th>\n",
       "    </tr>\n",
       "  </thead>\n",
       "  <tbody>\n",
       "    <tr>\n",
       "      <th>0</th>\n",
       "      <td>False</td>\n",
       "      <td>1</td>\n",
       "    </tr>\n",
       "    <tr>\n",
       "      <th>1</th>\n",
       "      <td>False</td>\n",
       "      <td>2</td>\n",
       "    </tr>\n",
       "    <tr>\n",
       "      <th>2</th>\n",
       "      <td>False</td>\n",
       "      <td>1</td>\n",
       "    </tr>\n",
       "    <tr>\n",
       "      <th>3</th>\n",
       "      <td>False</td>\n",
       "      <td>2</td>\n",
       "    </tr>\n",
       "    <tr>\n",
       "      <th>4</th>\n",
       "      <td>False</td>\n",
       "      <td>3</td>\n",
       "    </tr>\n",
       "  </tbody>\n",
       "</table>\n",
       "</div>"
      ],
      "text/plain": [
       "   Revenue  Browser\n",
       "0    False        1\n",
       "1    False        2\n",
       "2    False        1\n",
       "3    False        2\n",
       "4    False        3"
      ]
     },
     "execution_count": 13,
     "metadata": {},
     "output_type": "execute_result"
    }
   ],
   "source": [
    "data1 = data[[\"Revenue\",\"Browser\"]]\n",
    "data1.head()"
   ]
  },
  {
   "cell_type": "code",
   "execution_count": 136,
   "metadata": {},
   "outputs": [],
   "source": [
    "#col should be less than 15 categories \n",
    "def plot_multiple_bar(col,list_of_measures,dataframe):\n",
    "    \n",
    "    temp_df = dataframe.groupby([col]).mean()[list_of_measures].reset_index()\n",
    "    temp_df_melt = pd.melt(temp_df, id_vars=col, var_name=\"Parameters\", value_name=\"Values\")\n",
    "    g =sns.factorplot(x=col, y='Values',hue ='Parameters', data=temp_df_melt, kind='bar',legend=False,size =7)\n",
    "    g.set_xticklabels(fontsize='20')\n",
    "    g.set_yticklabels(fontsize='20')\n",
    "    g.set_xlabels(fontsize='20')\n",
    "    g.set_ylabels(fontsize='20')\n",
    "    g.add_legend(fontsize='20')"
   ]
  },
  {
   "cell_type": "code",
   "execution_count": 15,
   "metadata": {},
   "outputs": [
    {
     "data": {
      "image/png": "[encoded data removed]",
      "text/plain": [
       "<Figure size 687.875x504 with 1 Axes>"
      ]
     },
     "metadata": {},
     "output_type": "display_data"
    }
   ],
   "source": [
    "plot_multiple_bar(\"Revenue\",[\"Weekend\",\"SpecialDay\"],data)"
   ]
  },
  {
   "cell_type": "code",
   "execution_count": 16,
   "metadata": {},
   "outputs": [
    {
     "data": {
      "image/png": "[encoded data removed]",
      "text/plain": [
       "<Figure size 707.75x504 with 1 Axes>"
      ]
     },
     "metadata": {},
     "output_type": "display_data"
    }
   ],
   "source": [
    "plot_multiple_bar(\"Region\",[\"BounceRates\",\"ExitRates\"],data)"
   ]
  },
  {
   "cell_type": "code",
   "execution_count": 17,
   "metadata": {},
   "outputs": [
    {
     "data": {
      "text/html": [
       "<div>\n",
       "<style scoped>\n",
       "    .dataframe tbody tr th:only-of-type {\n",
       "        vertical-align: middle;\n",
       "    }\n",
       "\n",
       "    .dataframe tbody tr th {\n",
       "        vertical-align: top;\n",
       "    }\n",
       "\n",
       "    .dataframe thead th {\n",
       "        text-align: right;\n",
       "    }\n",
       "</style>\n",
       "<table border=\"1\" class=\"dataframe\">\n",
       "  <thead>\n",
       "    <tr style=\"text-align: right;\">\n",
       "      <th></th>\n",
       "      <th>Revenue</th>\n",
       "    </tr>\n",
       "    <tr>\n",
       "      <th>Region</th>\n",
       "      <th></th>\n",
       "    </tr>\n",
       "  </thead>\n",
       "  <tbody>\n",
       "    <tr>\n",
       "      <th>9</th>\n",
       "      <td>0.168297</td>\n",
       "    </tr>\n",
       "    <tr>\n",
       "      <th>2</th>\n",
       "      <td>0.165493</td>\n",
       "    </tr>\n",
       "    <tr>\n",
       "      <th>5</th>\n",
       "      <td>0.163522</td>\n",
       "    </tr>\n",
       "    <tr>\n",
       "      <th>1</th>\n",
       "      <td>0.161297</td>\n",
       "    </tr>\n",
       "    <tr>\n",
       "      <th>7</th>\n",
       "      <td>0.156373</td>\n",
       "    </tr>\n",
       "    <tr>\n",
       "      <th>4</th>\n",
       "      <td>0.148054</td>\n",
       "    </tr>\n",
       "    <tr>\n",
       "      <th>3</th>\n",
       "      <td>0.145235</td>\n",
       "    </tr>\n",
       "    <tr>\n",
       "      <th>6</th>\n",
       "      <td>0.139130</td>\n",
       "    </tr>\n",
       "    <tr>\n",
       "      <th>8</th>\n",
       "      <td>0.129032</td>\n",
       "    </tr>\n",
       "  </tbody>\n",
       "</table>\n",
       "</div>"
      ],
      "text/plain": [
       "         Revenue\n",
       "Region          \n",
       "9       0.168297\n",
       "2       0.165493\n",
       "5       0.163522\n",
       "1       0.161297\n",
       "7       0.156373\n",
       "4       0.148054\n",
       "3       0.145235\n",
       "6       0.139130\n",
       "8       0.129032"
      ]
     },
     "execution_count": 17,
     "metadata": {},
     "output_type": "execute_result"
    }
   ],
   "source": [
    "df = data.groupby(\"Region\").mean()[[\"Revenue\"]].sort_values(by=['Revenue'],ascending=False)\n",
    "df"
   ]
  },
  {
   "cell_type": "markdown",
   "metadata": {},
   "source": [
    "## Is any product that has no revenue?"
   ]
  },
  {
   "cell_type": "code",
   "execution_count": 18,
   "metadata": {},
   "outputs": [
    {
     "data": {
      "text/html": [
       "<div>\n",
       "<style scoped>\n",
       "    .dataframe tbody tr th:only-of-type {\n",
       "        vertical-align: middle;\n",
       "    }\n",
       "\n",
       "    .dataframe tbody tr th {\n",
       "        vertical-align: top;\n",
       "    }\n",
       "\n",
       "    .dataframe thead th {\n",
       "        text-align: right;\n",
       "    }\n",
       "</style>\n",
       "<table border=\"1\" class=\"dataframe\">\n",
       "  <thead>\n",
       "    <tr style=\"text-align: right;\">\n",
       "      <th></th>\n",
       "      <th>Revenue</th>\n",
       "    </tr>\n",
       "    <tr>\n",
       "      <th>ProductRelated</th>\n",
       "      <th></th>\n",
       "    </tr>\n",
       "  </thead>\n",
       "  <tbody>\n",
       "    <tr>\n",
       "      <th>313</th>\n",
       "      <td>0.0</td>\n",
       "    </tr>\n",
       "    <tr>\n",
       "      <th>312</th>\n",
       "      <td>0.0</td>\n",
       "    </tr>\n",
       "    <tr>\n",
       "      <th>311</th>\n",
       "      <td>0.0</td>\n",
       "    </tr>\n",
       "    <tr>\n",
       "      <th>305</th>\n",
       "      <td>0.0</td>\n",
       "    </tr>\n",
       "    <tr>\n",
       "      <th>328</th>\n",
       "      <td>0.0</td>\n",
       "    </tr>\n",
       "    <tr>\n",
       "      <th>292</th>\n",
       "      <td>0.0</td>\n",
       "    </tr>\n",
       "    <tr>\n",
       "      <th>315</th>\n",
       "      <td>0.0</td>\n",
       "    </tr>\n",
       "    <tr>\n",
       "      <th>192</th>\n",
       "      <td>0.0</td>\n",
       "    </tr>\n",
       "    <tr>\n",
       "      <th>337</th>\n",
       "      <td>0.0</td>\n",
       "    </tr>\n",
       "    <tr>\n",
       "      <th>391</th>\n",
       "      <td>0.0</td>\n",
       "    </tr>\n",
       "    <tr>\n",
       "      <th>686</th>\n",
       "      <td>0.0</td>\n",
       "    </tr>\n",
       "    <tr>\n",
       "      <th>584</th>\n",
       "      <td>0.0</td>\n",
       "    </tr>\n",
       "    <tr>\n",
       "      <th>518</th>\n",
       "      <td>0.0</td>\n",
       "    </tr>\n",
       "    <tr>\n",
       "      <th>486</th>\n",
       "      <td>0.0</td>\n",
       "    </tr>\n",
       "    <tr>\n",
       "      <th>449</th>\n",
       "      <td>0.0</td>\n",
       "    </tr>\n",
       "    <tr>\n",
       "      <th>440</th>\n",
       "      <td>0.0</td>\n",
       "    </tr>\n",
       "    <tr>\n",
       "      <th>429</th>\n",
       "      <td>0.0</td>\n",
       "    </tr>\n",
       "    <tr>\n",
       "      <th>423</th>\n",
       "      <td>0.0</td>\n",
       "    </tr>\n",
       "    <tr>\n",
       "      <th>414</th>\n",
       "      <td>0.0</td>\n",
       "    </tr>\n",
       "    <tr>\n",
       "      <th>409</th>\n",
       "      <td>0.0</td>\n",
       "    </tr>\n",
       "    <tr>\n",
       "      <th>385</th>\n",
       "      <td>0.0</td>\n",
       "    </tr>\n",
       "    <tr>\n",
       "      <th>339</th>\n",
       "      <td>0.0</td>\n",
       "    </tr>\n",
       "    <tr>\n",
       "      <th>378</th>\n",
       "      <td>0.0</td>\n",
       "    </tr>\n",
       "    <tr>\n",
       "      <th>377</th>\n",
       "      <td>0.0</td>\n",
       "    </tr>\n",
       "    <tr>\n",
       "      <th>374</th>\n",
       "      <td>0.0</td>\n",
       "    </tr>\n",
       "    <tr>\n",
       "      <th>362</th>\n",
       "      <td>0.0</td>\n",
       "    </tr>\n",
       "    <tr>\n",
       "      <th>358</th>\n",
       "      <td>0.0</td>\n",
       "    </tr>\n",
       "    <tr>\n",
       "      <th>351</th>\n",
       "      <td>0.0</td>\n",
       "    </tr>\n",
       "    <tr>\n",
       "      <th>349</th>\n",
       "      <td>0.0</td>\n",
       "    </tr>\n",
       "    <tr>\n",
       "      <th>290</th>\n",
       "      <td>0.0</td>\n",
       "    </tr>\n",
       "    <tr>\n",
       "      <th>...</th>\n",
       "      <td>...</td>\n",
       "    </tr>\n",
       "    <tr>\n",
       "      <th>187</th>\n",
       "      <td>0.0</td>\n",
       "    </tr>\n",
       "    <tr>\n",
       "      <th>188</th>\n",
       "      <td>0.0</td>\n",
       "    </tr>\n",
       "    <tr>\n",
       "      <th>190</th>\n",
       "      <td>0.0</td>\n",
       "    </tr>\n",
       "    <tr>\n",
       "      <th>141</th>\n",
       "      <td>0.0</td>\n",
       "    </tr>\n",
       "    <tr>\n",
       "      <th>227</th>\n",
       "      <td>0.0</td>\n",
       "    </tr>\n",
       "    <tr>\n",
       "      <th>230</th>\n",
       "      <td>0.0</td>\n",
       "    </tr>\n",
       "    <tr>\n",
       "      <th>256</th>\n",
       "      <td>0.0</td>\n",
       "    </tr>\n",
       "    <tr>\n",
       "      <th>282</th>\n",
       "      <td>0.0</td>\n",
       "    </tr>\n",
       "    <tr>\n",
       "      <th>281</th>\n",
       "      <td>0.0</td>\n",
       "    </tr>\n",
       "    <tr>\n",
       "      <th>280</th>\n",
       "      <td>0.0</td>\n",
       "    </tr>\n",
       "    <tr>\n",
       "      <th>191</th>\n",
       "      <td>0.0</td>\n",
       "    </tr>\n",
       "    <tr>\n",
       "      <th>275</th>\n",
       "      <td>0.0</td>\n",
       "    </tr>\n",
       "    <tr>\n",
       "      <th>274</th>\n",
       "      <td>0.0</td>\n",
       "    </tr>\n",
       "    <tr>\n",
       "      <th>272</th>\n",
       "      <td>0.0</td>\n",
       "    </tr>\n",
       "    <tr>\n",
       "      <th>271</th>\n",
       "      <td>0.0</td>\n",
       "    </tr>\n",
       "    <tr>\n",
       "      <th>266</th>\n",
       "      <td>0.0</td>\n",
       "    </tr>\n",
       "    <tr>\n",
       "      <th>262</th>\n",
       "      <td>0.0</td>\n",
       "    </tr>\n",
       "    <tr>\n",
       "      <th>255</th>\n",
       "      <td>0.0</td>\n",
       "    </tr>\n",
       "    <tr>\n",
       "      <th>231</th>\n",
       "      <td>0.0</td>\n",
       "    </tr>\n",
       "    <tr>\n",
       "      <th>254</th>\n",
       "      <td>0.0</td>\n",
       "    </tr>\n",
       "    <tr>\n",
       "      <th>251</th>\n",
       "      <td>0.0</td>\n",
       "    </tr>\n",
       "    <tr>\n",
       "      <th>247</th>\n",
       "      <td>0.0</td>\n",
       "    </tr>\n",
       "    <tr>\n",
       "      <th>246</th>\n",
       "      <td>0.0</td>\n",
       "    </tr>\n",
       "    <tr>\n",
       "      <th>241</th>\n",
       "      <td>0.0</td>\n",
       "    </tr>\n",
       "    <tr>\n",
       "      <th>103</th>\n",
       "      <td>0.0</td>\n",
       "    </tr>\n",
       "    <tr>\n",
       "      <th>105</th>\n",
       "      <td>0.0</td>\n",
       "    </tr>\n",
       "    <tr>\n",
       "      <th>121</th>\n",
       "      <td>0.0</td>\n",
       "    </tr>\n",
       "    <tr>\n",
       "      <th>128</th>\n",
       "      <td>0.0</td>\n",
       "    </tr>\n",
       "    <tr>\n",
       "      <th>135</th>\n",
       "      <td>0.0</td>\n",
       "    </tr>\n",
       "    <tr>\n",
       "      <th>705</th>\n",
       "      <td>0.0</td>\n",
       "    </tr>\n",
       "  </tbody>\n",
       "</table>\n",
       "<p>86 rows × 1 columns</p>\n",
       "</div>"
      ],
      "text/plain": [
       "                Revenue\n",
       "ProductRelated         \n",
       "313                 0.0\n",
       "312                 0.0\n",
       "311                 0.0\n",
       "305                 0.0\n",
       "328                 0.0\n",
       "292                 0.0\n",
       "315                 0.0\n",
       "192                 0.0\n",
       "337                 0.0\n",
       "391                 0.0\n",
       "686                 0.0\n",
       "584                 0.0\n",
       "518                 0.0\n",
       "486                 0.0\n",
       "449                 0.0\n",
       "440                 0.0\n",
       "429                 0.0\n",
       "423                 0.0\n",
       "414                 0.0\n",
       "409                 0.0\n",
       "385                 0.0\n",
       "339                 0.0\n",
       "378                 0.0\n",
       "377                 0.0\n",
       "374                 0.0\n",
       "362                 0.0\n",
       "358                 0.0\n",
       "351                 0.0\n",
       "349                 0.0\n",
       "290                 0.0\n",
       "...                 ...\n",
       "187                 0.0\n",
       "188                 0.0\n",
       "190                 0.0\n",
       "141                 0.0\n",
       "227                 0.0\n",
       "230                 0.0\n",
       "256                 0.0\n",
       "282                 0.0\n",
       "281                 0.0\n",
       "280                 0.0\n",
       "191                 0.0\n",
       "275                 0.0\n",
       "274                 0.0\n",
       "272                 0.0\n",
       "271                 0.0\n",
       "266                 0.0\n",
       "262                 0.0\n",
       "255                 0.0\n",
       "231                 0.0\n",
       "254                 0.0\n",
       "251                 0.0\n",
       "247                 0.0\n",
       "246                 0.0\n",
       "241                 0.0\n",
       "103                 0.0\n",
       "105                 0.0\n",
       "121                 0.0\n",
       "128                 0.0\n",
       "135                 0.0\n",
       "705                 0.0\n",
       "\n",
       "[86 rows x 1 columns]"
      ]
     },
     "execution_count": 18,
     "metadata": {},
     "output_type": "execute_result"
    }
   ],
   "source": [
    "df1 = data.groupby(\"ProductRelated\").mean()[[\"Revenue\"]].sort_values(by=['Revenue'],ascending=False)\n",
    "df2 = df1[df1.Revenue == False]\n",
    "df2  #86 products had no revenue"
   ]
  },
  {
   "cell_type": "markdown",
   "metadata": {},
   "source": [
    "#### Which group of visitors made most revenue"
   ]
  },
  {
   "cell_type": "code",
   "execution_count": 19,
   "metadata": {},
   "outputs": [
    {
     "data": {
      "text/plain": [
       "<matplotlib.axes._subplots.AxesSubplot at 0x1aee7acdcf8>"
      ]
     },
     "execution_count": 19,
     "metadata": {},
     "output_type": "execute_result"
    },
    {
     "data": {
      "image/png": "[encoded data removed]",
      "text/plain": [
       "<Figure size 432x288 with 1 Axes>"
      ]
     },
     "metadata": {},
     "output_type": "display_data"
    }
   ],
   "source": [
    "sns.barplot(x='VisitorType', y='Revenue', hue =\"Weekend\",data = data)"
   ]
  },
  {
   "cell_type": "code",
   "execution_count": 20,
   "metadata": {},
   "outputs": [
    {
     "data": {
      "text/plain": [
       "<matplotlib.axes._subplots.AxesSubplot at 0x1aee7b5c748>"
      ]
     },
     "execution_count": 20,
     "metadata": {},
     "output_type": "execute_result"
    },
    {
     "data": {
      "image/png": "[encoded data removed]",
      "text/plain": [
       "<Figure size 432x288 with 1 Axes>"
      ]
     },
     "metadata": {},
     "output_type": "display_data"
    }
   ],
   "source": [
    "sns.barplot(x='Month', y='Revenue', hue =\"Weekend\",data = data)"
   ]
  },
  {
   "cell_type": "markdown",
   "metadata": {},
   "source": [
    "## Is threre class imbalance issue in dataset?"
   ]
  },
  {
   "cell_type": "code",
   "execution_count": 21,
   "metadata": {},
   "outputs": [
    {
     "data": {
      "text/plain": [
       "False    0.845255\n",
       "True     0.154745\n",
       "Name: Revenue, dtype: float64"
      ]
     },
     "execution_count": 21,
     "metadata": {},
     "output_type": "execute_result"
    }
   ],
   "source": [
    "data.Revenue.value_counts()/data.shape[0]   #Label Imbalance Issue exist in the dataset,\n",
    "                                            #so accuracy will not be enough as an evaluation matrix!"
   ]
  },
  {
   "cell_type": "code",
   "execution_count": 22,
   "metadata": {},
   "outputs": [
    {
     "data": {
      "text/plain": [
       "May     0.272830\n",
       "Nov     0.243147\n",
       "Mar     0.154663\n",
       "Dec     0.140065\n",
       "Oct     0.044526\n",
       "Sep     0.036334\n",
       "Aug     0.035118\n",
       "Jul     0.035036\n",
       "June    0.023358\n",
       "Feb     0.014923\n",
       "Name: Month, dtype: float64"
      ]
     },
     "execution_count": 22,
     "metadata": {},
     "output_type": "execute_result"
    }
   ],
   "source": [
    "data.Month.value_counts()/data.shape[0]"
   ]
  },
  {
   "cell_type": "markdown",
   "metadata": {},
   "source": [
    "## Preparing data to build model"
   ]
  },
  {
   "cell_type": "code",
   "execution_count": 23,
   "metadata": {
    "scrolled": false
   },
   "outputs": [],
   "source": [
    "### Independent Variables\n",
    "x = data.iloc[:, :-1]"
   ]
  },
  {
   "cell_type": "code",
   "execution_count": 24,
   "metadata": {},
   "outputs": [],
   "source": [
    "### dependent variable => Since we only have 2 different categories, those are mapped to 0 and 1.\n",
    "y = data.iloc[:, -1].map({True:1,False:0})\n"
   ]
  },
  {
   "cell_type": "code",
   "execution_count": 25,
   "metadata": {},
   "outputs": [],
   "source": [
    "from sklearn.preprocessing import LabelEncoder, OneHotEncoder\n",
    "labelencoder_x = LabelEncoder()\n",
    "x[\"VisitorType\"] = labelencoder_x.fit_transform(x[\"VisitorType\"])\n",
    "x[\"Month\"] = labelencoder_x.fit_transform(x[\"Month\"])\n",
    "x[\"Weekend\"] = labelencoder_x.fit_transform(x[\"Weekend\"])"
   ]
  },
  {
   "cell_type": "code",
   "execution_count": 26,
   "metadata": {},
   "outputs": [
    {
     "data": {
      "text/plain": [
       "0    0\n",
       "1    0\n",
       "2    0\n",
       "3    0\n",
       "4    0\n",
       "Name: Revenue, dtype: int64"
      ]
     },
     "execution_count": 26,
     "metadata": {},
     "output_type": "execute_result"
    }
   ],
   "source": [
    "y.head()"
   ]
  },
  {
   "cell_type": "code",
   "execution_count": 27,
   "metadata": {},
   "outputs": [],
   "source": [
    "onehotencoder = OneHotEncoder(categorical_features = [[11,12,13,14,15,16]])\n",
    "x = onehotencoder.fit_transform(x).toarray()"
   ]
  },
  {
   "cell_type": "code",
   "execution_count": 61,
   "metadata": {},
   "outputs": [],
   "source": [
    "from sklearn.linear_model import LogisticRegression\n",
    "classifier_LR = LogisticRegression(random_state = 0,penalty='l1')\n",
    "Log_Reg_clf = classifier_LR.fit(x, y)"
   ]
  },
  {
   "cell_type": "code",
   "execution_count": 62,
   "metadata": {
    "scrolled": true
   },
   "outputs": [
    {
     "data": {
      "text/html": [
       "<div>\n",
       "<style scoped>\n",
       "    .dataframe tbody tr th:only-of-type {\n",
       "        vertical-align: middle;\n",
       "    }\n",
       "\n",
       "    .dataframe tbody tr th {\n",
       "        vertical-align: top;\n",
       "    }\n",
       "\n",
       "    .dataframe thead th {\n",
       "        text-align: right;\n",
       "    }\n",
       "</style>\n",
       "<table border=\"1\" class=\"dataframe\">\n",
       "  <thead>\n",
       "    <tr style=\"text-align: right;\">\n",
       "      <th></th>\n",
       "      <th>0</th>\n",
       "      <th>1</th>\n",
       "      <th>2</th>\n",
       "      <th>3</th>\n",
       "      <th>4</th>\n",
       "      <th>5</th>\n",
       "      <th>6</th>\n",
       "      <th>7</th>\n",
       "      <th>8</th>\n",
       "      <th>9</th>\n",
       "      <th>...</th>\n",
       "      <th>56</th>\n",
       "      <th>57</th>\n",
       "      <th>58</th>\n",
       "      <th>59</th>\n",
       "      <th>60</th>\n",
       "      <th>61</th>\n",
       "      <th>62</th>\n",
       "      <th>63</th>\n",
       "      <th>64</th>\n",
       "      <th>65</th>\n",
       "    </tr>\n",
       "  </thead>\n",
       "  <tbody>\n",
       "    <tr>\n",
       "      <th>0</th>\n",
       "      <td>1.0</td>\n",
       "      <td>0.0</td>\n",
       "      <td>0.0</td>\n",
       "      <td>0.0</td>\n",
       "      <td>0.0</td>\n",
       "      <td>0.0</td>\n",
       "      <td>0.0</td>\n",
       "      <td>0.0</td>\n",
       "      <td>1.0</td>\n",
       "      <td>0.0</td>\n",
       "      <td>...</td>\n",
       "      <td>0.0</td>\n",
       "      <td>0.0</td>\n",
       "      <td>0.0</td>\n",
       "      <td>1.0</td>\n",
       "      <td>0.000000</td>\n",
       "      <td>0.20</td>\n",
       "      <td>0.20</td>\n",
       "      <td>0.0</td>\n",
       "      <td>0.0</td>\n",
       "      <td>2.0</td>\n",
       "    </tr>\n",
       "    <tr>\n",
       "      <th>1</th>\n",
       "      <td>0.0</td>\n",
       "      <td>1.0</td>\n",
       "      <td>0.0</td>\n",
       "      <td>0.0</td>\n",
       "      <td>0.0</td>\n",
       "      <td>0.0</td>\n",
       "      <td>0.0</td>\n",
       "      <td>0.0</td>\n",
       "      <td>0.0</td>\n",
       "      <td>1.0</td>\n",
       "      <td>...</td>\n",
       "      <td>0.0</td>\n",
       "      <td>0.0</td>\n",
       "      <td>0.0</td>\n",
       "      <td>2.0</td>\n",
       "      <td>64.000000</td>\n",
       "      <td>0.00</td>\n",
       "      <td>0.10</td>\n",
       "      <td>0.0</td>\n",
       "      <td>0.0</td>\n",
       "      <td>2.0</td>\n",
       "    </tr>\n",
       "    <tr>\n",
       "      <th>2</th>\n",
       "      <td>0.0</td>\n",
       "      <td>0.0</td>\n",
       "      <td>0.0</td>\n",
       "      <td>1.0</td>\n",
       "      <td>0.0</td>\n",
       "      <td>0.0</td>\n",
       "      <td>0.0</td>\n",
       "      <td>0.0</td>\n",
       "      <td>1.0</td>\n",
       "      <td>0.0</td>\n",
       "      <td>...</td>\n",
       "      <td>0.0</td>\n",
       "      <td>0.0</td>\n",
       "      <td>0.0</td>\n",
       "      <td>1.0</td>\n",
       "      <td>0.000000</td>\n",
       "      <td>0.20</td>\n",
       "      <td>0.20</td>\n",
       "      <td>0.0</td>\n",
       "      <td>0.0</td>\n",
       "      <td>2.0</td>\n",
       "    </tr>\n",
       "    <tr>\n",
       "      <th>3</th>\n",
       "      <td>0.0</td>\n",
       "      <td>0.0</td>\n",
       "      <td>1.0</td>\n",
       "      <td>0.0</td>\n",
       "      <td>0.0</td>\n",
       "      <td>0.0</td>\n",
       "      <td>0.0</td>\n",
       "      <td>0.0</td>\n",
       "      <td>0.0</td>\n",
       "      <td>1.0</td>\n",
       "      <td>...</td>\n",
       "      <td>0.0</td>\n",
       "      <td>0.0</td>\n",
       "      <td>0.0</td>\n",
       "      <td>2.0</td>\n",
       "      <td>2.666667</td>\n",
       "      <td>0.05</td>\n",
       "      <td>0.14</td>\n",
       "      <td>0.0</td>\n",
       "      <td>0.0</td>\n",
       "      <td>2.0</td>\n",
       "    </tr>\n",
       "    <tr>\n",
       "      <th>4</th>\n",
       "      <td>0.0</td>\n",
       "      <td>0.0</td>\n",
       "      <td>1.0</td>\n",
       "      <td>0.0</td>\n",
       "      <td>0.0</td>\n",
       "      <td>0.0</td>\n",
       "      <td>0.0</td>\n",
       "      <td>0.0</td>\n",
       "      <td>0.0</td>\n",
       "      <td>0.0</td>\n",
       "      <td>...</td>\n",
       "      <td>0.0</td>\n",
       "      <td>0.0</td>\n",
       "      <td>0.0</td>\n",
       "      <td>10.0</td>\n",
       "      <td>627.500000</td>\n",
       "      <td>0.02</td>\n",
       "      <td>0.05</td>\n",
       "      <td>0.0</td>\n",
       "      <td>0.0</td>\n",
       "      <td>2.0</td>\n",
       "    </tr>\n",
       "  </tbody>\n",
       "</table>\n",
       "<p>5 rows × 66 columns</p>\n",
       "</div>"
      ],
      "text/plain": [
       "    0    1    2    3    4    5    6    7    8    9  ...    56   57   58    59  \\\n",
       "0  1.0  0.0  0.0  0.0  0.0  0.0  0.0  0.0  1.0  0.0 ...   0.0  0.0  0.0   1.0   \n",
       "1  0.0  1.0  0.0  0.0  0.0  0.0  0.0  0.0  0.0  1.0 ...   0.0  0.0  0.0   2.0   \n",
       "2  0.0  0.0  0.0  1.0  0.0  0.0  0.0  0.0  1.0  0.0 ...   0.0  0.0  0.0   1.0   \n",
       "3  0.0  0.0  1.0  0.0  0.0  0.0  0.0  0.0  0.0  1.0 ...   0.0  0.0  0.0   2.0   \n",
       "4  0.0  0.0  1.0  0.0  0.0  0.0  0.0  0.0  0.0  0.0 ...   0.0  0.0  0.0  10.0   \n",
       "\n",
       "           60    61    62   63   64   65  \n",
       "0    0.000000  0.20  0.20  0.0  0.0  2.0  \n",
       "1   64.000000  0.00  0.10  0.0  0.0  2.0  \n",
       "2    0.000000  0.20  0.20  0.0  0.0  2.0  \n",
       "3    2.666667  0.05  0.14  0.0  0.0  2.0  \n",
       "4  627.500000  0.02  0.05  0.0  0.0  2.0  \n",
       "\n",
       "[5 rows x 66 columns]"
      ]
     },
     "execution_count": 62,
     "metadata": {},
     "output_type": "execute_result"
    }
   ],
   "source": [
    "x1 = pd.DataFrame(x)\n",
    "x1.head()"
   ]
  },
  {
   "cell_type": "markdown",
   "metadata": {},
   "source": [
    "### Model 1: \n",
    "### Logistic Regression Classifier"
   ]
  },
  {
   "cell_type": "code",
   "execution_count": 63,
   "metadata": {},
   "outputs": [
    {
     "data": {
      "text/plain": [
       "array([0.89906769, 0.89217673, 0.87712895, 0.87626775, 0.86896552])"
      ]
     },
     "execution_count": 63,
     "metadata": {},
     "output_type": "execute_result"
    }
   ],
   "source": [
    "from sklearn.model_selection import cross_val_score\n",
    "LR_scores = cross_val_score(Log_Reg_clf, x, y, cv=5, scoring='accuracy')\n",
    "LR_scores                                              "
   ]
  },
  {
   "cell_type": "markdown",
   "metadata": {},
   "source": [
    "###### The mean score and the 95% confidence interval of the score estimate are hence given by:"
   ]
  },
  {
   "cell_type": "code",
   "execution_count": 64,
   "metadata": {},
   "outputs": [
    {
     "name": "stdout",
     "output_type": "stream",
     "text": [
      "Accuracy for Logistic Regression Model is: 88.27 % (+/- 0.02)\n"
     ]
    }
   ],
   "source": [
    "print(\"Accuracy for Logistic Regression Model is: %0.2f %% (+/- %0.2f)\" % (LR_scores.mean()*100, LR_scores.std() * 2))"
   ]
  },
  {
   "cell_type": "code",
   "execution_count": 65,
   "metadata": {
    "scrolled": true
   },
   "outputs": [
    {
     "name": "stdout",
     "output_type": "stream",
     "text": [
      "LR_Recall = 0.3762817605914444 [0.41361257 0.38743455 0.38219895 0.34383202 0.35433071]\n",
      "LR_Precision = 0.7424299475705951 [0.86338798 0.82222222 0.68544601 0.70430108 0.63679245]\n",
      "LR_F1 = 0.4988263662289317 [0.55929204 0.52669039 0.4907563  0.46208113 0.45531197]\n"
     ]
    }
   ],
   "source": [
    "# precision, recall and F1\n",
    "from sklearn.preprocessing import LabelBinarizer\n",
    "y1 = y\n",
    "lb = LabelBinarizer()\n",
    "y1 = np.array([number[0] for number in lb.fit_transform(y1)])\n",
    "LR_Recall = cross_val_score(classifier_LR, x, y1, cv=5, scoring='recall')\n",
    "print('LR_Recall =', np.mean(LR_Recall), LR_Recall)\n",
    "LR_precision = cross_val_score(classifier_LR, x, y1, cv=5, scoring='precision')\n",
    "print('LR_Precision =', np.mean(LR_precision), LR_precision)\n",
    "LR_F1 = cross_val_score(classifier_LR, x, y1, cv=5, scoring='f1')\n",
    "print('LR_F1 =', np.mean(LR_F1), LR_F1)"
   ]
  },
  {
   "cell_type": "markdown",
   "metadata": {},
   "source": [
    "### Model 2:\n",
    "### KNN Classifier\n",
    "Feature scalling is requierd!"
   ]
  },
  {
   "cell_type": "code",
   "execution_count": 39,
   "metadata": {},
   "outputs": [],
   "source": [
    "# Feature Scaling\n",
    "from sklearn.preprocessing import StandardScaler\n",
    "sc = StandardScaler()\n",
    "x_scaled= sc.fit_transform(x)"
   ]
  },
  {
   "cell_type": "code",
   "execution_count": 40,
   "metadata": {},
   "outputs": [],
   "source": [
    "# Fitting K-NN to data\n",
    "from sklearn.neighbors import KNeighborsClassifier\n",
    "classifier_KNN = KNeighborsClassifier(n_neighbors = 5, metric = 'minkowski', p = 2)\n",
    "KNN_clf = classifier_KNN.fit(x_scaled, y)"
   ]
  },
  {
   "cell_type": "code",
   "execution_count": 41,
   "metadata": {},
   "outputs": [
    {
     "data": {
      "text/plain": [
       "array([0.86461289, 0.85447912, 0.8487429 , 0.8474645 , 0.84665314])"
      ]
     },
     "execution_count": 41,
     "metadata": {},
     "output_type": "execute_result"
    }
   ],
   "source": [
    "KNN_scores = cross_val_score(KNN_clf, x_scaled, y, cv=5)\n",
    "KNN_scores  "
   ]
  },
  {
   "cell_type": "code",
   "execution_count": 42,
   "metadata": {},
   "outputs": [
    {
     "name": "stdout",
     "output_type": "stream",
     "text": [
      "Accuracy for KNN Model is: 85.24 % (+/- 0.01)\n"
     ]
    }
   ],
   "source": [
    "print(\"Accuracy for KNN Model is: %0.2f %% (+/- %0.2f)\" % (KNN_scores.mean()*100, KNN_scores.std() * 2))"
   ]
  },
  {
   "cell_type": "code",
   "execution_count": 44,
   "metadata": {},
   "outputs": [
    {
     "name": "stdout",
     "output_type": "stream",
     "text": [
      "KNN_Recall = 0.21804290170534965 [0.23560209 0.19633508 0.19633508 0.20209974 0.25984252]\n",
      "KNN_Precision = 0.5657510175439612 [0.68181818 0.59055118 0.53191489 0.51677852 0.50769231]\n",
      "KNN_F1 = 0.3132025909932371 [0.35019455 0.29469548 0.28680688 0.29056604 0.34375   ]\n"
     ]
    }
   ],
   "source": [
    "KNN_Recall = cross_val_score(classifier_KNN, x_scaled, y1, cv=5, scoring='recall')\n",
    "print('KNN_Recall =', np.mean(KNN_Recall), KNN_Recall)\n",
    "KNN_precision = cross_val_score(classifier_KNN, x_scaled, y1, cv=5, scoring='precision')\n",
    "print('KNN_Precision =', np.mean(KNN_precision), KNN_precision)\n",
    "KNN_F1 = cross_val_score(classifier_KNN, x_scaled, y1, cv=5, scoring='f1')\n",
    "print('KNN_F1 =', np.mean(KNN_F1), KNN_F1)"
   ]
  },
  {
   "cell_type": "markdown",
   "metadata": {},
   "source": [
    "### Model 3:\n",
    "### Linear SVM"
   ]
  },
  {
   "cell_type": "code",
   "execution_count": 77,
   "metadata": {},
   "outputs": [],
   "source": [
    "from sklearn.svm import SVC\n",
    "classifier_LSVM = SVC(kernel = 'linear', random_state = 0)\n",
    "LSVM_clf = classifier_SVR.fit(x_scaled, y1)"
   ]
  },
  {
   "cell_type": "code",
   "execution_count": 78,
   "metadata": {},
   "outputs": [
    {
     "data": {
      "text/plain": [
       "array([0.90271585, 0.89866234, 0.88158962, 0.8693712 , 0.86855984])"
      ]
     },
     "execution_count": 78,
     "metadata": {},
     "output_type": "execute_result"
    }
   ],
   "source": [
    "LSVM_scores = cross_val_score(LSVM_clf, x_scaled, y1, cv=5)\n",
    "LSVM_scores"
   ]
  },
  {
   "cell_type": "code",
   "execution_count": 79,
   "metadata": {},
   "outputs": [
    {
     "name": "stdout",
     "output_type": "stream",
     "text": [
      "Accuracy for SVM Model is: 88.42 % (+/- 0.03)\n"
     ]
    }
   ],
   "source": [
    "print(\"Accuracy for SVM Model is: %0.2f %% (+/- %0.2f)\" % (LSVM_scores.mean()*100, SVM_scores.std() * 2))"
   ]
  },
  {
   "cell_type": "code",
   "execution_count": 80,
   "metadata": {},
   "outputs": [
    {
     "name": "stdout",
     "output_type": "stream",
     "text": [
      "Accuracy for Linear SVM Model is: 88.42 % (+/- 0.03)\n",
      "LSVM_Recall = 0.3982561734756977 [0.44764398 0.45811518 0.41623037 0.33595801 0.33333333]\n",
      "LSVM_Precision = 0.7299073916570871 [0.855      0.80275229 0.69736842 0.64974619 0.64467005]\n",
      "LSVM_F1 = 0.5149253231798043 [0.58762887 0.58333333 0.52131148 0.44290657 0.43944637]\n"
     ]
    }
   ],
   "source": [
    "print(\"Accuracy for Linear SVM Model is: %0.2f %% (+/- %0.2f)\" % (LSVM_scores.mean()*100, SVM_scores.std() * 2))\n",
    "LSVM_Recall = cross_val_score(classifier_LSVM, x_scaled, y1, cv=5, scoring='recall')\n",
    "print('LSVM_Recall =', np.mean(LSVM_Recall), LSVM_Recall)\n",
    "LSVM_precision = cross_val_score(classifier_LSVM, x_scaled, y1, cv=5, scoring='precision')\n",
    "print('LSVM_Precision =', np.mean(LSVM_precision), LSVM_precision)\n",
    "LSVM_F1 = cross_val_score(classifier_LSVM, x_scaled, y1, cv=5, scoring='f1')\n",
    "print('LSVM_F1 =', np.mean(LSVM_F1), LSVM_F1)"
   ]
  },
  {
   "cell_type": "markdown",
   "metadata": {},
   "source": [
    "### Model 4:\n",
    "### Kernel SVM"
   ]
  },
  {
   "cell_type": "code",
   "execution_count": 56,
   "metadata": {},
   "outputs": [
    {
     "name": "stdout",
     "output_type": "stream",
     "text": [
      "Accuracy for SVM Model is: 88.42 % (+/- 0.03)\n",
      "Kernel_SVM_Recall = 0.3793887675035385 [0.42931937 0.43193717 0.40314136 0.31496063 0.3175853 ]\n",
      "Kernel_SVM_Precision = 0.7552811292520056 [0.86772487 0.81683168 0.72641509 0.68181818 0.68361582]\n",
      "Kernel_SVM_F1 = 0.5045178607611602 [0.57443082 0.56506849 0.51851852 0.43087971 0.43369176]\n"
     ]
    }
   ],
   "source": [
    "classifier_Kernel_SVM = SVC(kernel = 'rbf', random_state = 0)\n",
    "Kernel_SVM_clf = classifier_SVR.fit(x_scaled, y1)\n",
    "Kernel_SVM_scores = cross_val_score(Kernel_SVM_clf, x_scaled, y1, cv=5)\n",
    "print(\"Accuracy for Kernel SVM Model is: %0.2f %% (+/- %0.2f)\" % (Kernel_SVM_scores.mean()*100, Kernel_SVM_scores.std() * 2))\n",
    "Kernel_SVM_Recall = cross_val_score(classifier_Kernel_SVM, x_scaled, y1, cv=5, scoring='recall')\n",
    "print('Kernel_SVM_Recall =', np.mean(Kernel_SVM_Recall), Kernel_SVM_Recall)\n",
    "Kernel_SVM_precision = cross_val_score(classifier_Kernel_SVM, x_scaled, y1, cv=5, scoring='precision')\n",
    "print('Kernel_SVM_Precision =', np.mean(Kernel_SVM_precision), Kernel_SVM_precision)\n",
    "Kernel_SVM_F1 = cross_val_score(classifier_Kernel_SVM, x_scaled, y1, cv=5, scoring='f1')\n",
    "print('Kernel_SVM_F1 =', np.mean(Kernel_SVM_F1), Kernel_SVM_F1)"
   ]
  },
  {
   "cell_type": "markdown",
   "metadata": {},
   "source": [
    "### Model 5:\n",
    "### Naive Bayes"
   ]
  },
  {
   "cell_type": "code",
   "execution_count": 57,
   "metadata": {},
   "outputs": [
    {
     "name": "stdout",
     "output_type": "stream",
     "text": [
      "Accuracy for Naive Bayes Model is: 23.88 % (+/- 0.04)\n",
      "NB_Recall = 0.9874276841049319 [0.97382199 0.9895288  0.98691099 1.         0.98687664]\n",
      "NB_Precision = 0.1676310889422787 [0.16878403 0.17459584 0.16355748 0.16666667 0.16455142]\n",
      "NB_F1 = 0.28658359073635253 [0.28770302 0.29681979 0.28061035 0.28571429 0.28207052]\n"
     ]
    }
   ],
   "source": [
    "from sklearn.naive_bayes import GaussianNB\n",
    "classifier_NB = GaussianNB()\n",
    "NB_clf = classifier_NB.fit(x_scaled, y1)\n",
    "NB_scores = cross_val_score(NB_clf, x_scaled, y1, cv=5)\n",
    "print(\"Accuracy for Naive Bayes Model is: %0.2f %% (+/- %0.2f)\" % (NB_scores.mean()*100, NB_scores.std() * 2))\n",
    "NB_Recall = cross_val_score(classifier_NB, x_scaled, y1, cv=5, scoring='recall')\n",
    "print('NB_Recall =', np.mean(NB_Recall), NB_Recall)\n",
    "NB_precision = cross_val_score(classifier_NB, x_scaled, y1, cv=5, scoring='precision')\n",
    "print('NB_Precision =', np.mean(NB_precision), NB_precision)\n",
    "NB_F1 = cross_val_score(classifier_NB, x_scaled, y1, cv=5, scoring='f1')\n",
    "print('NB_F1 =', np.mean(NB_F1), NB_F1)"
   ]
  },
  {
   "cell_type": "markdown",
   "metadata": {},
   "source": [
    "### Model 6:\n",
    "### Decision Tree"
   ]
  },
  {
   "cell_type": "code",
   "execution_count": 59,
   "metadata": {},
   "outputs": [
    {
     "name": "stdout",
     "output_type": "stream",
     "text": [
      "Accuracy for Naive Bayes Model is: 84.69 % (+/- 0.08)\n",
      "DT_Recall = 0.5513542482582348 [0.55235602 0.55235602 0.56544503 0.53805774 0.54855643]\n",
      "DT_Precision = 0.5341952581170294 [0.71009772 0.67682927 0.46608315 0.42763158 0.39033457]\n",
      "DT_F1 = 0.5243908193830203 [0.60444444 0.59714286 0.51590106 0.46882217 0.43564356]\n"
     ]
    }
   ],
   "source": [
    "from sklearn import tree\n",
    "classifier_DT = tree.DecisionTreeClassifier()\n",
    "DT_clf = classifier_DT.fit(x, y1)\n",
    "DT_scores = cross_val_score(DT_clf, x, y1, cv=5)\n",
    "print(\"Accuracy for Decision Tree Model is: %0.2f %% (+/- %0.2f)\" % (DT_scores.mean()*100, DT_scores.std() * 2))\n",
    "DT_Recall = cross_val_score(classifier_DT, x_scaled, y1, cv=5, scoring='recall')\n",
    "print('DT_Recall =', np.mean(DT_Recall), DT_Recall)\n",
    "DT_precision = cross_val_score(classifier_DT, x, y1, cv=5, scoring='precision')\n",
    "print('DT_Precision =', np.mean(DT_precision), DT_precision)\n",
    "DT_F1 = cross_val_score(classifier_DT, x, y1, cv=5, scoring='f1')\n",
    "print('DT_F1 =', np.mean(DT_F1), DT_F1)"
   ]
  },
  {
   "cell_type": "markdown",
   "metadata": {},
   "source": [
    "### Model 7:\n",
    "### Random Forest"
   ]
  },
  {
   "cell_type": "code",
   "execution_count": 68,
   "metadata": {},
   "outputs": [
    {
     "name": "stdout",
     "output_type": "stream",
     "text": [
      "Accuracy for Random Forest Model is: 86.11 % (+/- 0.01)\n",
      "RF_Recall = 0.11584284948674609 [0.07329843 0.09947644 0.14659686 0.09973753 0.16010499]\n",
      "RF_Precision = 0.9200297000297001 [0.96428571 1.         0.86153846 0.95       0.82432432]\n",
      "RF_F1 = 0.20237468311888324 [0.13170732 0.18095238 0.25055928 0.18052257 0.26813187]\n"
     ]
    }
   ],
   "source": [
    "from sklearn.ensemble import RandomForestClassifier\n",
    "classifier_RF = RandomForestClassifier(n_estimators=100, max_depth=5,random_state=0)\n",
    "RF_clf = classifier_RF.fit(x, y1)\n",
    "RF_scores = cross_val_score(RF_clf, x, y1, cv=5)\n",
    "print(\"Accuracy for Random Forest Model is: %0.2f %% (+/- %0.2f)\" % (RF_scores.mean()*100, RF_scores.std() * 2))\n",
    "RF_Recall = cross_val_score(classifier_RF, x_scaled, y1, cv=5, scoring='recall')\n",
    "print('RF_Recall =', np.mean(RF_Recall), RF_Recall)\n",
    "RF_precision = cross_val_score(classifier_RF, x, y1, cv=5, scoring='precision')\n",
    "print('RF_Precision =', np.mean(RF_precision), RF_precision)\n",
    "RF_F1 = cross_val_score(classifier_RF, x, y1, cv=5, scoring='f1')\n",
    "print('RF_F1 =', np.mean(RF_F1), RF_F1)"
   ]
  },
  {
   "cell_type": "code",
   "execution_count": 69,
   "metadata": {},
   "outputs": [
    {
     "name": "stdout",
     "output_type": "stream",
     "text": [
      "Accuracy for Random Forest Model is: 89.03 % (+/- 0.01)\n",
      "RF2_Recall = 0.39042613128856274 [0.33246073 0.42146597 0.48429319 0.31233596 0.4015748 ]\n",
      "RF2_Precision = 0.806271134204494 [0.93283582 0.83419689 0.75819672 0.74375    0.76237624]\n",
      "RF2_F1 = 0.5207556773538166 [0.48449612 0.56       0.59105431 0.43992606 0.52830189]\n"
     ]
    }
   ],
   "source": [
    "classifier_RF2 = RandomForestClassifier(n_estimators=100, max_depth=8,random_state=0)\n",
    "RF2_clf = classifier_RF2.fit(x, y1)\n",
    "RF2_scores = cross_val_score(RF2_clf, x, y1, cv=5)\n",
    "print(\"Accuracy for Random Forest Model is: %0.2f %% (+/- %0.2f)\" % (RF2_scores.mean()*100, RF2_scores.std() * 2))\n",
    "RF2_Recall = cross_val_score(classifier_RF2, x_scaled, y1, cv=5, scoring='recall')\n",
    "print('RF2_Recall =', np.mean(RF2_Recall), RF2_Recall)\n",
    "RF2_precision = cross_val_score(classifier_RF2, x, y1, cv=5, scoring='precision')\n",
    "print('RF2_Precision =', np.mean(RF2_precision), RF2_precision)\n",
    "RF2_F1 = cross_val_score(classifier_RF2, x, y1, cv=5, scoring='f1')\n",
    "print('RF2_F1 =', np.mean(RF2_F1), RF2_F1)"
   ]
  },
  {
   "cell_type": "code",
   "execution_count": 70,
   "metadata": {},
   "outputs": [
    {
     "name": "stdout",
     "output_type": "stream",
     "text": [
      "Accuracy for Random Forest Model is: 89.47 % (+/- 0.02)\n",
      "RF3_Recall = 0.4606450371714007 [0.42670157 0.51570681 0.52879581 0.38582677 0.44619423]\n",
      "RF3_Precision = 0.7708055183327325 [0.90607735 0.76653696 0.75092937 0.71014493 0.72033898]\n",
      "RF3_F1 = 0.5741637743620397 [0.58259325 0.61658842 0.62058372 0.5        0.55105348]\n"
     ]
    }
   ],
   "source": [
    "classifier_RF3 = RandomForestClassifier(n_estimators=100, max_depth=10,random_state=0)\n",
    "RF3_clf = classifier_RF3.fit(x, y1)\n",
    "RF3_scores = cross_val_score(RF3_clf, x, y1, cv=5)\n",
    "print(\"Accuracy for Random Forest Model is: %0.2f %% (+/- %0.2f)\" % (RF3_scores.mean()*100, RF3_scores.std() * 2))\n",
    "RF3_Recall = cross_val_score(classifier_RF3, x_scaled, y1, cv=5, scoring='recall')\n",
    "print('RF3_Recall =', np.mean(RF3_Recall), RF3_Recall)\n",
    "RF3_precision = cross_val_score(classifier_RF3, x, y1, cv=5, scoring='precision')\n",
    "print('RF3_Precision =', np.mean(RF3_precision), RF3_precision)\n",
    "RF3_F1 = cross_val_score(classifier_RF3, x, y1, cv=5, scoring='f1')\n",
    "print('RF3_F1 =', np.mean(RF3_F1), RF3_F1)"
   ]
  },
  {
   "cell_type": "code",
   "execution_count": 95,
   "metadata": {},
   "outputs": [
    {
     "data": {
      "text/plain": [
       "[88.27, 85.24, 88.42, 88.42, 23.88, 84.69, 89.47]"
      ]
     },
     "execution_count": 95,
     "metadata": {},
     "output_type": "execute_result"
    }
   ],
   "source": [
    "Accuracies = [round(LR_scores.mean()*100,2),\n",
    "              round(KNN_scores.mean()*100,2),\n",
    "              round(LSVM_scores.mean()*100,2),\n",
    "              round(Kernel_SVM_scores.mean()*100,2),\n",
    "              round(NB_scores.mean()*100,2),\n",
    "              round(DT_scores.mean()*100,2),\n",
    "              round(RF3_scores.mean()*100,2)]\n",
    "Accuracies"
   ]
  },
  {
   "cell_type": "code",
   "execution_count": 100,
   "metadata": {},
   "outputs": [
    {
     "data": {
      "text/html": [
       "<div>\n",
       "<style scoped>\n",
       "    .dataframe tbody tr th:only-of-type {\n",
       "        vertical-align: middle;\n",
       "    }\n",
       "\n",
       "    .dataframe tbody tr th {\n",
       "        vertical-align: top;\n",
       "    }\n",
       "\n",
       "    .dataframe thead th {\n",
       "        text-align: right;\n",
       "    }\n",
       "</style>\n",
       "<table border=\"1\" class=\"dataframe\">\n",
       "  <thead>\n",
       "    <tr style=\"text-align: right;\">\n",
       "      <th></th>\n",
       "      <th>Model</th>\n",
       "      <th>Accuracy</th>\n",
       "    </tr>\n",
       "  </thead>\n",
       "  <tbody>\n",
       "    <tr>\n",
       "      <th>0</th>\n",
       "      <td>Logistic Regression</td>\n",
       "      <td>88.27</td>\n",
       "    </tr>\n",
       "    <tr>\n",
       "      <th>1</th>\n",
       "      <td>K-Nearest Neighbor</td>\n",
       "      <td>85.24</td>\n",
       "    </tr>\n",
       "    <tr>\n",
       "      <th>2</th>\n",
       "      <td>Linear SVM</td>\n",
       "      <td>88.42</td>\n",
       "    </tr>\n",
       "    <tr>\n",
       "      <th>3</th>\n",
       "      <td>Kernel SVM</td>\n",
       "      <td>88.42</td>\n",
       "    </tr>\n",
       "    <tr>\n",
       "      <th>4</th>\n",
       "      <td>Naive Bayes</td>\n",
       "      <td>23.88</td>\n",
       "    </tr>\n",
       "    <tr>\n",
       "      <th>5</th>\n",
       "      <td>Decision Tree</td>\n",
       "      <td>84.69</td>\n",
       "    </tr>\n",
       "    <tr>\n",
       "      <th>6</th>\n",
       "      <td>Random Forest</td>\n",
       "      <td>89.47</td>\n",
       "    </tr>\n",
       "  </tbody>\n",
       "</table>\n",
       "</div>"
      ],
      "text/plain": [
       "                 Model  Accuracy\n",
       "0  Logistic Regression     88.27\n",
       "1   K-Nearest Neighbor     85.24\n",
       "2           Linear SVM     88.42\n",
       "3           Kernel SVM     88.42\n",
       "4          Naive Bayes     23.88\n",
       "5        Decision Tree     84.69\n",
       "6        Random Forest     89.47"
      ]
     },
     "execution_count": 100,
     "metadata": {},
     "output_type": "execute_result"
    }
   ],
   "source": [
    "Classifiers = [\"Logistic Regression\", \"K-Nearest Neighbor\", \"Linear SVM\", \"Kernel SVM\", \"Naive Bayes\",\"Decision Tree\", \"Random Forest\"]\n",
    "df = pd.DataFrame(list(zip(Classifiers, Accuracies)), columns = [\"Model\", \"Accuracy\"])\n",
    "df"
   ]
  },
  {
   "cell_type": "code",
   "execution_count": 118,
   "metadata": {},
   "outputs": [
    {
     "data": {
      "image/png": "[encoded data removed]",
      "text/plain": [
       "<Figure size 1152x576 with 1 Axes>"
      ]
     },
     "metadata": {},
     "output_type": "display_data"
    }
   ],
   "source": [
    "fig,ax = plt.subplots()\n",
    "fig.set_size_inches(16,8)\n",
    "\n",
    "#to get different colors for each of the variable assign the variable to hue\n",
    "g=sns.barplot(x='Model',y='Accuracy',data=df,ax=ax)\n",
    "\n",
    "#Code for to put legend outside the plot\n",
    "box = ax.get_position()\n",
    "ax.set_position([box.x0, box.y0, box.width * 0.8, box.height])\n",
    "# Put a legend to the right of the current axis\n",
    "#ax.legend(loc='center left', bbox_to_anchor=(1, 0.5))\n",
    "\n",
    "# Adding respective values to the top of each bar\n",
    "for p in ax.patches: \n",
    "    ax.annotate(\"%.2f\" % p.get_height(), (p.get_x() + p.get_width() / 2, p.get_height()),\n",
    "                ha='center', va='center', fontsize=11, color='black', xytext=(0, 10), \n",
    "                textcoords='offset points')\n",
    "\n",
    "#To save the plot as 'SO.png'    \n",
    "plt.savefig('SO.png',dpi=100,bbox_inches='tight')\n",
    "plt.show()"
   ]
  },
  {
   "cell_type": "code",
   "execution_count": 132,
   "metadata": {},
   "outputs": [
    {
     "data": {
      "text/html": [
       "<div>\n",
       "<style scoped>\n",
       "    .dataframe tbody tr th:only-of-type {\n",
       "        vertical-align: middle;\n",
       "    }\n",
       "\n",
       "    .dataframe tbody tr th {\n",
       "        vertical-align: top;\n",
       "    }\n",
       "\n",
       "    .dataframe thead th {\n",
       "        text-align: right;\n",
       "    }\n",
       "</style>\n",
       "<table border=\"1\" class=\"dataframe\">\n",
       "  <thead>\n",
       "    <tr style=\"text-align: right;\">\n",
       "      <th></th>\n",
       "      <th>Model</th>\n",
       "      <th>Precision</th>\n",
       "      <th>Recall</th>\n",
       "      <th>F1</th>\n",
       "    </tr>\n",
       "  </thead>\n",
       "  <tbody>\n",
       "    <tr>\n",
       "      <th>0</th>\n",
       "      <td>Logistic Regression</td>\n",
       "      <td>0.74</td>\n",
       "      <td>0.38</td>\n",
       "      <td>0.50</td>\n",
       "    </tr>\n",
       "    <tr>\n",
       "      <th>1</th>\n",
       "      <td>K-Nearest Neighbor</td>\n",
       "      <td>0.57</td>\n",
       "      <td>0.22</td>\n",
       "      <td>0.31</td>\n",
       "    </tr>\n",
       "    <tr>\n",
       "      <th>2</th>\n",
       "      <td>Linear SVM</td>\n",
       "      <td>0.73</td>\n",
       "      <td>0.40</td>\n",
       "      <td>0.51</td>\n",
       "    </tr>\n",
       "    <tr>\n",
       "      <th>3</th>\n",
       "      <td>Kernel SVM</td>\n",
       "      <td>0.76</td>\n",
       "      <td>0.38</td>\n",
       "      <td>0.50</td>\n",
       "    </tr>\n",
       "    <tr>\n",
       "      <th>4</th>\n",
       "      <td>Naive Bayes</td>\n",
       "      <td>0.17</td>\n",
       "      <td>0.99</td>\n",
       "      <td>0.29</td>\n",
       "    </tr>\n",
       "  </tbody>\n",
       "</table>\n",
       "</div>"
      ],
      "text/plain": [
       "                 Model  Precision  Recall    F1\n",
       "0  Logistic Regression       0.74    0.38  0.50\n",
       "1   K-Nearest Neighbor       0.57    0.22  0.31\n",
       "2           Linear SVM       0.73    0.40  0.51\n",
       "3           Kernel SVM       0.76    0.38  0.50\n",
       "4          Naive Bayes       0.17    0.99  0.29"
      ]
     },
     "execution_count": 132,
     "metadata": {},
     "output_type": "execute_result"
    }
   ],
   "source": [
    "Precisions = [round(np.mean(LR_precision),2),\n",
    "              round(np.mean(KNN_precision),2),\n",
    "              round(np.mean(LSVM_precision),2),\n",
    "              round(np.mean(Kernel_SVM_precision),2),\n",
    "              round(np.mean(NB_precision),2),\n",
    "              round(np.mean(DT_precision),2),\n",
    "              round(np.mean(RF3_precision),2)]\n",
    "\n",
    "Recalls = [round(np.mean(LR_Recall),2),\n",
    "              round(np.mean(KNN_Recall),2),\n",
    "              round(np.mean(LSVM_Recall),2),\n",
    "              round(np.mean(Kernel_SVM_Recall),2),\n",
    "              round(np.mean(NB_Recall),2),\n",
    "              round(np.mean(DT_Recall),2),\n",
    "              round(np.mean(RF3_Recall),2)]\n",
    "\n",
    "F1s = [round(np.mean(LR_F1),2),\n",
    "              round(np.mean(KNN_F1),2),\n",
    "              round(np.mean(LSVM_F1),2),\n",
    "              round(np.mean(Kernel_SVM_F1),2),\n",
    "              round(np.mean(NB_F1),2),\n",
    "              round(np.mean(DT_F1),2),\n",
    "              round(np.mean(RF3_F1),2)]\n",
    "\n",
    "df1 = pd.DataFrame(list(zip(Classifiers, Precisions, Recalls, F1s)), columns = [\"Model\", \"Precision\", \"Recall\", \"F1\"])\n",
    "df1.head()"
   ]
  },
  {
   "cell_type": "code",
   "execution_count": null,
   "metadata": {},
   "outputs": [],
   "source": [
    "#col should be less than 15 categories \n",
    "def plot_multiple_bar2(col,list_of_measures,dataframe):\n",
    "    \n",
    "    temp_df = dataframe.groupby([col]).mean()[list_of_measures].reset_index()\n",
    "    temp_df_melt = pd.melt(temp_df, id_vars=col, var_name=\"Parameters\", value_name=\"Values\")\n",
    "    g =sns.factorplot(x=col, y='Values',hue ='Parameters', data=temp_df_melt, kind='bar',legend=False,size =7)\n",
    "    g.set_xticklabels(fontsize='10')\n",
    "    g.set_yticklabels(fontsize='20')\n",
    "    g.set_xlabels(fontsize='10')\n",
    "    g.set_ylabels(fontsize='20')\n",
    "    g.add_legend(fontsize='20')\n",
    "    g.set_xticklabels(ax.get_xticklabels(), rotation=40, ha=\"right\")"
   ]
  },
  {
   "cell_type": "code",
   "execution_count": 179,
   "metadata": {},
   "outputs": [
    {
     "data": {
      "image/png": "[encoded data removed]",
      "text/plain": [
       "<Figure size 666.125x504 with 1 Axes>"
      ]
     },
     "metadata": {},
     "output_type": "display_data"
    }
   ],
   "source": [
    "plot_multiple_bar2(\"Model\",[\"Precision\",\"Recall\",\"F1\"],df1)"
   ]
  },
  {
   "cell_type": "code",
   "execution_count": 123,
   "metadata": {},
   "outputs": [],
   "source": [
    "plt.legend(title='Smoker', loc='upper left', labels=['Hell Yeh', 'Nah Bruh'])"
   ]
  }
 ],
 "metadata": {
  "kernelspec": {
   "display_name": "Python 3",
   "language": "python",
   "name": "python3"
  },
  "language_info": {
   "codemirror_mode": {
    "name": "ipython",
    "version": 3
   },
   "file_extension": ".py",
   "mimetype": "text/x-python",
   "name": "python",
   "nbconvert_exporter": "python",
   "pygments_lexer": "ipython3",
   "version": "3.6.5"
  }
 },
 "nbformat": 4,
 "nbformat_minor": 2
}
