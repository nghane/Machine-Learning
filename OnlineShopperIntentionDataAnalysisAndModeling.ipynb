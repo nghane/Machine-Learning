{
 "cells": [
  {
   "cell_type": "code",
   "execution_count": 1,
   "metadata": {},
   "outputs": [],
   "source": [
    "import seaborn as sns\n",
    "import pandas as pd\n",
    "import os\n",
    "import matplotlib.pyplot as plt\n",
    "import numpy as np\n",
    "from sklearn import metrics \n",
    "from sklearn.model_selection import cross_val_score"
   ]
  },
  {
   "cell_type": "code",
   "execution_count": 2,
   "metadata": {},
   "outputs": [
    {
     "data": {
      "text/html": [
       "<div>\n",
       "<style scoped>\n",
       "    .dataframe tbody tr th:only-of-type {\n",
       "        vertical-align: middle;\n",
       "    }\n",
       "\n",
       "    .dataframe tbody tr th {\n",
       "        vertical-align: top;\n",
       "    }\n",
       "\n",
       "    .dataframe thead th {\n",
       "        text-align: right;\n",
       "    }\n",
       "</style>\n",
       "<table border=\"1\" class=\"dataframe\">\n",
       "  <thead>\n",
       "    <tr style=\"text-align: right;\">\n",
       "      <th></th>\n",
       "      <th>Administrative</th>\n",
       "      <th>Administrative_Duration</th>\n",
       "      <th>Informational</th>\n",
       "      <th>Informational_Duration</th>\n",
       "      <th>ProductRelated</th>\n",
       "      <th>ProductRelated_Duration</th>\n",
       "      <th>BounceRates</th>\n",
       "      <th>ExitRates</th>\n",
       "      <th>PageValues</th>\n",
       "      <th>SpecialDay</th>\n",
       "      <th>Month</th>\n",
       "      <th>OperatingSystems</th>\n",
       "      <th>Browser</th>\n",
       "      <th>Region</th>\n",
       "      <th>TrafficType</th>\n",
       "      <th>VisitorType</th>\n",
       "      <th>Weekend</th>\n",
       "      <th>Revenue</th>\n",
       "    </tr>\n",
       "  </thead>\n",
       "  <tbody>\n",
       "    <tr>\n",
       "      <th>0</th>\n",
       "      <td>0</td>\n",
       "      <td>0.0</td>\n",
       "      <td>0</td>\n",
       "      <td>0.0</td>\n",
       "      <td>1</td>\n",
       "      <td>0.000000</td>\n",
       "      <td>0.20</td>\n",
       "      <td>0.20</td>\n",
       "      <td>0.0</td>\n",
       "      <td>0.0</td>\n",
       "      <td>Feb</td>\n",
       "      <td>1</td>\n",
       "      <td>1</td>\n",
       "      <td>1</td>\n",
       "      <td>1</td>\n",
       "      <td>Returning_Visitor</td>\n",
       "      <td>False</td>\n",
       "      <td>False</td>\n",
       "    </tr>\n",
       "    <tr>\n",
       "      <th>1</th>\n",
       "      <td>0</td>\n",
       "      <td>0.0</td>\n",
       "      <td>0</td>\n",
       "      <td>0.0</td>\n",
       "      <td>2</td>\n",
       "      <td>64.000000</td>\n",
       "      <td>0.00</td>\n",
       "      <td>0.10</td>\n",
       "      <td>0.0</td>\n",
       "      <td>0.0</td>\n",
       "      <td>Feb</td>\n",
       "      <td>2</td>\n",
       "      <td>2</td>\n",
       "      <td>1</td>\n",
       "      <td>2</td>\n",
       "      <td>Returning_Visitor</td>\n",
       "      <td>False</td>\n",
       "      <td>False</td>\n",
       "    </tr>\n",
       "    <tr>\n",
       "      <th>2</th>\n",
       "      <td>0</td>\n",
       "      <td>0.0</td>\n",
       "      <td>0</td>\n",
       "      <td>0.0</td>\n",
       "      <td>1</td>\n",
       "      <td>0.000000</td>\n",
       "      <td>0.20</td>\n",
       "      <td>0.20</td>\n",
       "      <td>0.0</td>\n",
       "      <td>0.0</td>\n",
       "      <td>Feb</td>\n",
       "      <td>4</td>\n",
       "      <td>1</td>\n",
       "      <td>9</td>\n",
       "      <td>3</td>\n",
       "      <td>Returning_Visitor</td>\n",
       "      <td>False</td>\n",
       "      <td>False</td>\n",
       "    </tr>\n",
       "    <tr>\n",
       "      <th>3</th>\n",
       "      <td>0</td>\n",
       "      <td>0.0</td>\n",
       "      <td>0</td>\n",
       "      <td>0.0</td>\n",
       "      <td>2</td>\n",
       "      <td>2.666667</td>\n",
       "      <td>0.05</td>\n",
       "      <td>0.14</td>\n",
       "      <td>0.0</td>\n",
       "      <td>0.0</td>\n",
       "      <td>Feb</td>\n",
       "      <td>3</td>\n",
       "      <td>2</td>\n",
       "      <td>2</td>\n",
       "      <td>4</td>\n",
       "      <td>Returning_Visitor</td>\n",
       "      <td>False</td>\n",
       "      <td>False</td>\n",
       "    </tr>\n",
       "    <tr>\n",
       "      <th>4</th>\n",
       "      <td>0</td>\n",
       "      <td>0.0</td>\n",
       "      <td>0</td>\n",
       "      <td>0.0</td>\n",
       "      <td>10</td>\n",
       "      <td>627.500000</td>\n",
       "      <td>0.02</td>\n",
       "      <td>0.05</td>\n",
       "      <td>0.0</td>\n",
       "      <td>0.0</td>\n",
       "      <td>Feb</td>\n",
       "      <td>3</td>\n",
       "      <td>3</td>\n",
       "      <td>1</td>\n",
       "      <td>4</td>\n",
       "      <td>Returning_Visitor</td>\n",
       "      <td>True</td>\n",
       "      <td>False</td>\n",
       "    </tr>\n",
       "  </tbody>\n",
       "</table>\n",
       "</div>"
      ],
      "text/plain": [
       "   Administrative  Administrative_Duration  Informational  \\\n",
       "0               0                      0.0              0   \n",
       "1               0                      0.0              0   \n",
       "2               0                      0.0              0   \n",
       "3               0                      0.0              0   \n",
       "4               0                      0.0              0   \n",
       "\n",
       "   Informational_Duration  ProductRelated  ProductRelated_Duration  \\\n",
       "0                     0.0               1                 0.000000   \n",
       "1                     0.0               2                64.000000   \n",
       "2                     0.0               1                 0.000000   \n",
       "3                     0.0               2                 2.666667   \n",
       "4                     0.0              10               627.500000   \n",
       "\n",
       "   BounceRates  ExitRates  PageValues  SpecialDay Month  OperatingSystems  \\\n",
       "0         0.20       0.20         0.0         0.0   Feb                 1   \n",
       "1         0.00       0.10         0.0         0.0   Feb                 2   \n",
       "2         0.20       0.20         0.0         0.0   Feb                 4   \n",
       "3         0.05       0.14         0.0         0.0   Feb                 3   \n",
       "4         0.02       0.05         0.0         0.0   Feb                 3   \n",
       "\n",
       "   Browser  Region  TrafficType        VisitorType  Weekend  Revenue  \n",
       "0        1       1            1  Returning_Visitor    False    False  \n",
       "1        2       1            2  Returning_Visitor    False    False  \n",
       "2        1       9            3  Returning_Visitor    False    False  \n",
       "3        2       2            4  Returning_Visitor    False    False  \n",
       "4        3       1            4  Returning_Visitor     True    False  "
      ]
     },
     "execution_count": 2,
     "metadata": {},
     "output_type": "execute_result"
    }
   ],
   "source": [
    "os.chdir(\"C:\\\\Nastaran\\\\Spring2019\\\\Python\\\\Online_shoppers_intention\")\n",
    "\n",
    "data = pd.read_csv(\"online_shoppers_intention.csv\", sep=',')\n",
    "data.head()"
   ]
  },
  {
   "cell_type": "markdown",
   "metadata": {},
   "source": [
    "\"Administrative\", \"Administrative Duration\", \"Informational\", \"Informational Duration\", \"Product Related\" and \"Product Related Duration\" represent the number of different types of pages visited by the visitor in that session and total time spent in each of these page categories.\n",
    "\n",
    "The value of \"Bounce Rate\" feature for a web page refers to the percentage of visitors who enter the site from that page and then leave (\"bounce\") without triggering any other requests to the analytics server during that session.\n",
    "\n",
    "The value of \"Exit Rate\" feature for a specific web page is calculated as for all pageviews to the page, the percentage that were the last in the session.\n",
    "\n",
    "The \"Page Value\" feature represents the average value for a web page that a user visited before completing an e-commerce transaction.\n",
    "\n",
    "The \"Special Day\" feature indicates the closeness of the site visiting time to a specific special day (e.g. Mother’s Day, Valentine's Day) in which the sessions are more likely to be finalized with transaction. The value of this attribute is determined by considering the dynamics of e-commerce such as the duration between the order date and delivery date. For example, for Valentina’s day, this value takes a nonzero value between February 2 and February 12, zero before and after this date unless it is close to another special day, and its maximum value of 1 on February 8.\n",
    "\n",
    "The dataset also includes operating system, browser, region, traffic type, visitor type as returning or new visitor, a Boolean value indicating whether the date of the visit is weekend, and month of the year."
   ]
  },
  {
   "cell_type": "markdown",
   "metadata": {},
   "source": [
    "## Data Analysis"
   ]
  },
  {
   "cell_type": "markdown",
   "metadata": {},
   "source": [
    "### Revenue Based Analysis"
   ]
  },
  {
   "cell_type": "markdown",
   "metadata": {},
   "source": [
    "#### Revenue vs not revenue on the visits"
   ]
  },
  {
   "cell_type": "code",
   "execution_count": 5,
   "metadata": {},
   "outputs": [
    {
     "data": {
      "image/png": "[encoded data removed]",
      "text/plain": [
       "<Figure size 504x504 with 1 Axes>"
      ]
     },
     "metadata": {},
     "output_type": "display_data"
    }
   ],
   "source": [
    "plt.figure(figsize=(7,7))\n",
    "\n",
    "ax = sns.countplot(x='Revenue',data=data, palette='hls')\n",
    "\n",
    "# Adding respective values to the top of each bar\n",
    "for p in ax.patches: \n",
    "    ax.annotate(\"%i\" % p.get_height(), (p.get_x() + p.get_width() / 2, p.get_height()),\n",
    "                ha='center', va='center', fontsize=11, color='black', xytext=(0, 10), \n",
    "                textcoords='offset points')"
   ]
  },
  {
   "cell_type": "code",
   "execution_count": 40,
   "metadata": {},
   "outputs": [
    {
     "data": {
      "image/png": "[encoded data removed]",
      "text/plain": [
       "<Figure size 432x288 with 1 Axes>"
      ]
     },
     "metadata": {},
     "output_type": "display_data"
    }
   ],
   "source": [
    "# Data to plot\n",
    "labels = 'True', 'False'\n",
    "\n",
    "sizes = []\n",
    "length = data.Revenue.shape[0]\n",
    "for i in data.Revenue.value_counts().values:\n",
    "    sizes.append(round((i/length*100),2))\n",
    "    \n",
    "colors = ['gold', 'yellowgreen']\n",
    "explode = (0.1, 0)  # explode 1st slice\n",
    "\n",
    "def make_autopct(values):\n",
    "    def my_autopct(pct):\n",
    "        total = sum(values)\n",
    "        val = int(round(pct*total/100.0))\n",
    "        return '{p:.2f}%'.format(p=pct)\n",
    "    return my_autopct\n",
    "\n",
    "\n",
    "# Plot\n",
    "plt.pie(sizes, explode=explode, labels=labels, colors=colors, shadow=True, startangle=140, autopct=make_autopct(sizes))\n",
    "plt.legend(patches, labels, loc=\"best\")\n",
    "plt.axis('equal')\n",
    "plt.show()\n"
   ]
  },
  {
   "cell_type": "markdown",
   "metadata": {},
   "source": [
    "### As it is clear from pie plot, among the all website visits, 15.47% of them finally had revenue for website."
   ]
  },
  {
   "cell_type": "markdown",
   "metadata": {},
   "source": [
    "#### Most Revnue is made on weekends or not?"
   ]
  },
  {
   "cell_type": "code",
   "execution_count": 85,
   "metadata": {},
   "outputs": [
    {
     "data": {
      "text/plain": [
       "499"
      ]
     },
     "execution_count": 85,
     "metadata": {},
     "output_type": "execute_result"
    }
   ],
   "source": [
    "cnt = 0\n",
    "for index, row in data.iterrows():\n",
    "    for i in row.index.tolist():\n",
    "        if ((i == \"Weekend\")&(row[i] == True)) & (row[\"Revenue\"] == True) == True:\n",
    "            cnt+=1\n",
    "cnt"
   ]
  },
  {
   "cell_type": "code",
   "execution_count": 105,
   "metadata": {},
   "outputs": [
    {
     "data": {
      "image/png": "[encoded data removed]",
      "text/plain": [
       "<Figure size 360x504 with 1 Axes>"
      ]
     },
     "metadata": {},
     "output_type": "display_data"
    }
   ],
   "source": [
    "Weekend_Revenue = data[(data.Revenue == True) & (data.Weekend == True)].shape[0] / data[data.Revenue == True].shape[0]\n",
    "Weekday_Revenue = data[(data.Revenue == True) & (data.Weekend == False)].shape[0] / data[data.Revenue == True].shape[0]\n",
    "label = [\"Weekday_Revenue\", \"Weekend_Revenue\"]\n",
    "size = [Weekday_Revenue, Weekend_Revenue]\n",
    "\n",
    "# Plot\n",
    "plt.figure(figsize=(5,7))\n",
    "plt.pie(size, explode=explode, labels=label, colors=colors, shadow=True, startangle=140, autopct=make_autopct(size))\n",
    "plt.legend(patches, label, loc=\"upper right\")\n",
    "plt.axis('equal')\n",
    "plt.show()\n"
   ]
  },
  {
   "cell_type": "code",
   "execution_count": 79,
   "metadata": {},
   "outputs": [
    {
     "name": "stdout",
     "output_type": "stream",
     "text": [
      "['Administrative', 'Administrative_Duration', 'Informational', 'Informational_Duration', 'ProductRelated', 'ProductRelated_Duration', 'BounceRates', 'ExitRates', 'PageValues', 'SpecialDay', 'Month', 'OperatingSystems', 'Browser', 'Region', 'TrafficType', 'VisitorType', 'Weekend', 'Revenue']\n"
     ]
    }
   ],
   "source": [
    "cnt = 0\n",
    "for index, row in data.iterrows():\n",
    "    l = row.index.tolist()\n",
    "\n",
    "print (l)"
   ]
  },
  {
   "cell_type": "markdown",
   "metadata": {},
   "source": [
    "###### Code for multiple measues in barchart"
   ]
  },
  {
   "cell_type": "code",
   "execution_count": null,
   "metadata": {},
   "outputs": [],
   "source": [
    "#col should be less than 15 categories \n",
    "def plot_multiple_bar(col,list_of_measures,dataframe):\n",
    "    \n",
    "    temp_df = dataframe.groupby([col]).mean()[list_of_measures].reset_index()\n",
    "    temp_df_melt = pd.melt(temp_df, id_vars=col, var_name=\"Parameters\", value_name=\"Values\")\n",
    "    g =sns.factorplot(x=col, y='Values',hue ='Parameters', data=temp_df_melt, kind='bar',legend=False,size =7)\n",
    "    g.set_xticklabels(fontsize='20')\n",
    "    g.set_yticklabels(fontsize='20')\n",
    "    g.set_xlabels(fontsize='20')\n",
    "    g.set_ylabels(fontsize='20')\n",
    "    g.add_legend(fontsize='20')"
   ]
  },
  {
   "cell_type": "markdown",
   "metadata": {},
   "source": [
    "#### Region that had most revenue:"
   ]
  },
  {
   "cell_type": "code",
   "execution_count": 107,
   "metadata": {},
   "outputs": [
    {
     "data": {
      "text/plain": [
       "<matplotlib.axes._subplots.AxesSubplot at 0x25cf9021400>"
      ]
     },
     "execution_count": 107,
     "metadata": {},
     "output_type": "execute_result"
    },
    {
     "data": {
      "image/png": "[encoded data removed]",
      "text/plain": [
       "<Figure size 432x288 with 1 Axes>"
      ]
     },
     "metadata": {},
     "output_type": "display_data"
    }
   ],
   "source": [
    "a = data.groupby([\"Region\"]).mean().reset_index().sort_values([\"Revenue\"], ascending=False)\n",
    "sns.barplot(x=\"Region\", y=\"Revenue\", data=data, order=a['Region'])"
   ]
  },
  {
   "cell_type": "markdown",
   "metadata": {},
   "source": [
    "#### The region 9 made the highest revenue!"
   ]
  },
  {
   "cell_type": "markdown",
   "metadata": {},
   "source": [
    "### Does the regions have same result if we consider the revenues on weekends?"
   ]
  },
  {
   "cell_type": "code",
   "execution_count": 53,
   "metadata": {},
   "outputs": [
    {
     "data": {
      "text/plain": [
       "<matplotlib.axes._subplots.AxesSubplot at 0x1a8e1b8ef28>"
      ]
     },
     "execution_count": 53,
     "metadata": {},
     "output_type": "execute_result"
    },
    {
     "data": {
      "image/png": "[encoded data removed]",
      "text/plain": [
       "<Figure size 432x288 with 1 Axes>"
      ]
     },
     "metadata": {},
     "output_type": "display_data"
    }
   ],
   "source": [
    "a = data.groupby([\"Region\"]).mean().reset_index().sort_values([\"Revenue\"], ascending=False)\n",
    "sns.barplot(x=\"Region\", y=\"Revenue\", hue = \"Weekend\", data=data, order=a['Region'])"
   ]
  },
  {
   "cell_type": "markdown",
   "metadata": {},
   "source": [
    "#### Which type of visitores made the most revenue?"
   ]
  },
  {
   "cell_type": "code",
   "execution_count": 119,
   "metadata": {},
   "outputs": [
    {
     "data": {
      "text/plain": [
       "<matplotlib.axes._subplots.AxesSubplot at 0x25cf8a48ef0>"
      ]
     },
     "execution_count": 119,
     "metadata": {},
     "output_type": "execute_result"
    },
    {
     "data": {
      "image/png": "[encoded data removed]",
      "text/plain": [
       "<Figure size 432x288 with 1 Axes>"
      ]
     },
     "metadata": {},
     "output_type": "display_data"
    }
   ],
   "source": [
    "sns.barplot(x=\"VisitorType\", y=\"Revenue\",data=data)"
   ]
  },
  {
   "cell_type": "markdown",
   "metadata": {},
   "source": [
    "#### Revenue in different regions in weekends?"
   ]
  },
  {
   "cell_type": "code",
   "execution_count": 115,
   "metadata": {},
   "outputs": [
    {
     "data": {
      "image/png": "[encoded data removed]",
      "text/plain": [
       "<Figure size 360x504 with 1 Axes>"
      ]
     },
     "metadata": {},
     "output_type": "display_data"
    }
   ],
   "source": [
    "df = data.groupby(\"Region\").mean()[[\"Revenue\",\"Weekend\"]].reset_index().sort_values(by=['Revenue'],ascending=False)\n",
    "Rev = df[\"Revenue\"].tolist()\n",
    "Reg = df[\"Region\"].tolist()\n",
    "\n",
    "# Plot\n",
    "plt.figure(figsize=(5,7))\n",
    "plt.pie(Rev, labels=Reg, shadow=True, startangle=140, autopct=make_autopct(Rev))\n",
    "plt.axis('equal')\n",
    "plt.show()"
   ]
  },
  {
   "cell_type": "code",
   "execution_count": 123,
   "metadata": {},
   "outputs": [
    {
     "data": {
      "text/plain": [
       "<matplotlib.axes._subplots.AxesSubplot at 0x25cf8ec9b38>"
      ]
     },
     "execution_count": 123,
     "metadata": {},
     "output_type": "execute_result"
    },
    {
     "data": {
      "image/png": "[encoded data removed]",
      "text/plain": [
       "<Figure size 432x288 with 1 Axes>"
      ]
     },
     "metadata": {},
     "output_type": "display_data"
    }
   ],
   "source": [
    "sns.barplot(x='Month', y='Revenue', hue =\"Weekend\",data = data)"
   ]
  },
  {
   "cell_type": "code",
   "execution_count": 153,
   "metadata": {},
   "outputs": [
    {
     "data": {
      "text/plain": [
       "Region  Revenue\n",
       "1       False      4009\n",
       "        True        771\n",
       "2       False       948\n",
       "        True        188\n",
       "3       False      2054\n",
       "        True        349\n",
       "4       False      1007\n",
       "        True        175\n",
       "5       False       266\n",
       "        True         52\n",
       "6       False       693\n",
       "        True        112\n",
       "7       False       642\n",
       "        True        119\n",
       "8       False       378\n",
       "        True         56\n",
       "9       False       425\n",
       "        True         86\n",
       "Name: Revenue, dtype: int64"
      ]
     },
     "execution_count": 153,
     "metadata": {},
     "output_type": "execute_result"
    }
   ],
   "source": [
    "df3 = data.groupby(\"Region\").Revenue.value_counts()\n",
    "df3"
   ]
  },
  {
   "cell_type": "markdown",
   "metadata": {},
   "source": [
    "#### Special days effect on revenue?"
   ]
  },
  {
   "cell_type": "code",
   "execution_count": 120,
   "metadata": {},
   "outputs": [
    {
     "data": {
      "text/plain": [
       "<matplotlib.axes._subplots.AxesSubplot at 0x25cf8aa4390>"
      ]
     },
     "execution_count": 120,
     "metadata": {},
     "output_type": "execute_result"
    },
    {
     "data": {
      "image/png": "[encoded data removed]",
      "text/plain": [
       "<Figure size 432x288 with 1 Axes>"
      ]
     },
     "metadata": {},
     "output_type": "display_data"
    }
   ],
   "source": [
    "sns.barplot(x=\"Month\", y=\"SpecialDay\", hue = \"Revenue\",data=data)"
   ]
  },
  {
   "cell_type": "markdown",
   "metadata": {},
   "source": [
    "#### What is the pattern for purchases in special days?"
   ]
  },
  {
   "cell_type": "code",
   "execution_count": 121,
   "metadata": {},
   "outputs": [
    {
     "data": {
      "text/plain": [
       "<matplotlib.axes._subplots.AxesSubplot at 0x25cf8e4beb8>"
      ]
     },
     "execution_count": 121,
     "metadata": {},
     "output_type": "execute_result"
    },
    {
     "data": {
      "image/png": "[encoded data removed]",
      "text/plain": [
       "<Figure size 432x288 with 1 Axes>"
      ]
     },
     "metadata": {},
     "output_type": "display_data"
    }
   ],
   "source": [
    "sns.barplot(x=\"SpecialDay\", y=\"Revenue\", data = data)"
   ]
  },
  {
   "cell_type": "markdown",
   "metadata": {},
   "source": [
    "## 2. Visit Based Analysis"
   ]
  },
  {
   "cell_type": "markdown",
   "metadata": {},
   "source": [
    "### Which month had the most visit?"
   ]
  },
  {
   "cell_type": "code",
   "execution_count": 117,
   "metadata": {},
   "outputs": [
    {
     "data": {
      "text/plain": [
       "May     0.272830\n",
       "Nov     0.243147\n",
       "Mar     0.154663\n",
       "Dec     0.140065\n",
       "Oct     0.044526\n",
       "Sep     0.036334\n",
       "Aug     0.035118\n",
       "Jul     0.035036\n",
       "June    0.023358\n",
       "Feb     0.014923\n",
       "Name: Month, dtype: float64"
      ]
     },
     "execution_count": 117,
     "metadata": {},
     "output_type": "execute_result"
    }
   ],
   "source": [
    "data.Month.value_counts()/data.shape[0]"
   ]
  },
  {
   "cell_type": "markdown",
   "metadata": {},
   "source": [
    "### Rate of BounceRates and ExitRates in different regions?"
   ]
  },
  {
   "cell_type": "code",
   "execution_count": 16,
   "metadata": {},
   "outputs": [
    {
     "data": {
      "image/png": "[encoded data removed]",
      "text/plain": [
       "<Figure size 707.75x504 with 1 Axes>"
      ]
     },
     "metadata": {},
     "output_type": "display_data"
    }
   ],
   "source": [
    "plot_multiple_bar(\"Region\",[\"BounceRates\",\"ExitRates\"],data)"
   ]
  },
  {
   "cell_type": "markdown",
   "metadata": {},
   "source": [
    "### N products with highest revenue"
   ]
  },
  {
   "cell_type": "code",
   "execution_count": 198,
   "metadata": {},
   "outputs": [
    {
     "data": {
      "text/html": [
       "<div>\n",
       "<style scoped>\n",
       "    .dataframe tbody tr th:only-of-type {\n",
       "        vertical-align: middle;\n",
       "    }\n",
       "\n",
       "    .dataframe tbody tr th {\n",
       "        vertical-align: top;\n",
       "    }\n",
       "\n",
       "    .dataframe thead th {\n",
       "        text-align: right;\n",
       "    }\n",
       "</style>\n",
       "<table border=\"1\" class=\"dataframe\">\n",
       "  <thead>\n",
       "    <tr style=\"text-align: right;\">\n",
       "      <th></th>\n",
       "      <th>ProductRelated</th>\n",
       "      <th>Highest Rate Products</th>\n",
       "    </tr>\n",
       "  </thead>\n",
       "  <tbody>\n",
       "    <tr>\n",
       "      <th>10</th>\n",
       "      <td>10</td>\n",
       "      <td>50.0</td>\n",
       "    </tr>\n",
       "    <tr>\n",
       "      <th>13</th>\n",
       "      <td>13</td>\n",
       "      <td>45.0</td>\n",
       "    </tr>\n",
       "    <tr>\n",
       "      <th>22</th>\n",
       "      <td>22</td>\n",
       "      <td>44.0</td>\n",
       "    </tr>\n",
       "    <tr>\n",
       "      <th>14</th>\n",
       "      <td>14</td>\n",
       "      <td>43.0</td>\n",
       "    </tr>\n",
       "    <tr>\n",
       "      <th>21</th>\n",
       "      <td>21</td>\n",
       "      <td>42.0</td>\n",
       "    </tr>\n",
       "    <tr>\n",
       "      <th>19</th>\n",
       "      <td>19</td>\n",
       "      <td>42.0</td>\n",
       "    </tr>\n",
       "    <tr>\n",
       "      <th>8</th>\n",
       "      <td>8</td>\n",
       "      <td>42.0</td>\n",
       "    </tr>\n",
       "    <tr>\n",
       "      <th>12</th>\n",
       "      <td>12</td>\n",
       "      <td>40.0</td>\n",
       "    </tr>\n",
       "    <tr>\n",
       "      <th>15</th>\n",
       "      <td>15</td>\n",
       "      <td>40.0</td>\n",
       "    </tr>\n",
       "    <tr>\n",
       "      <th>17</th>\n",
       "      <td>17</td>\n",
       "      <td>40.0</td>\n",
       "    </tr>\n",
       "  </tbody>\n",
       "</table>\n",
       "</div>"
      ],
      "text/plain": [
       "    ProductRelated  Highest Rate Products\n",
       "10              10                   50.0\n",
       "13              13                   45.0\n",
       "22              22                   44.0\n",
       "14              14                   43.0\n",
       "21              21                   42.0\n",
       "19              19                   42.0\n",
       "8                8                   42.0\n",
       "12              12                   40.0\n",
       "15              15                   40.0\n",
       "17              17                   40.0"
      ]
     },
     "execution_count": 198,
     "metadata": {},
     "output_type": "execute_result"
    }
   ],
   "source": [
    "N = 10\n",
    "data.groupby([\"ProductRelated\"]).sum()[\"Revenue\"].reset_index(name = \"Highest Rate Products\").sort_values(by=[\"Highest Rate Products\"], ascending = False).head(N)"
   ]
  },
  {
   "cell_type": "markdown",
   "metadata": {},
   "source": [
    "## Is any product that has no revenue? How many?"
   ]
  },
  {
   "cell_type": "code",
   "execution_count": 122,
   "metadata": {},
   "outputs": [
    {
     "data": {
      "text/plain": [
       "86"
      ]
     },
     "execution_count": 122,
     "metadata": {},
     "output_type": "execute_result"
    }
   ],
   "source": [
    "df1 = data.groupby(\"ProductRelated\").mean()[[\"Revenue\"]].sort_values(by=['Revenue'],ascending=False)\n",
    "df2 = df1[df1.Revenue == False]\n",
    "df2.shape[0]  #86 products had no revenue"
   ]
  },
  {
   "cell_type": "markdown",
   "metadata": {},
   "source": [
    "### Is there multicolinearity problem among the features?"
   ]
  },
  {
   "cell_type": "code",
   "execution_count": 124,
   "metadata": {},
   "outputs": [
    {
     "name": "stdout",
     "output_type": "stream",
     "text": [
      "Administrative => Administrative_Duration : 0.6015833421250285\n",
      "Administrative_Duration => Administrative : 0.6015833421250285\n",
      "Informational => Informational_Duration : 0.618954861781397\n",
      "Informational_Duration => Informational : 0.618954861781397\n",
      "ProductRelated => ProductRelated_Duration : 0.8609268361763887\n",
      "ProductRelated_Duration => ProductRelated : 0.8609268361763887\n",
      "BounceRates => ExitRates : 0.9130043961814553\n",
      "ExitRates => BounceRates : 0.9130043961814553\n"
     ]
    }
   ],
   "source": [
    "correlationMatrix = data.corr()\n",
    "\n",
    "for index,rows in correlationMatrix.iterrows():\n",
    "    for i in rows.index.tolist():\n",
    "        if index != i and abs(rows[i])>0.5:\n",
    "            print(index ,'=>',i,\":\",rows[i])"
   ]
  },
  {
   "cell_type": "markdown",
   "metadata": {},
   "source": [
    "### There are two columns with correlation values greater than 0.9. So, I will keep only BounceRates to avoid multicolinearity issue."
   ]
  },
  {
   "cell_type": "code",
   "execution_count": 5,
   "metadata": {},
   "outputs": [
    {
     "data": {
      "text/plain": [
       "Index(['Administrative', 'Administrative_Duration', 'Informational',\n",
       "       'Informational_Duration', 'ProductRelated', 'ProductRelated_Duration',\n",
       "       'BounceRates', 'PageValues', 'SpecialDay', 'Month', 'OperatingSystems',\n",
       "       'Browser', 'Region', 'TrafficType', 'VisitorType', 'Weekend',\n",
       "       'Revenue'],\n",
       "      dtype='object')"
      ]
     },
     "execution_count": 5,
     "metadata": {},
     "output_type": "execute_result"
    }
   ],
   "source": [
    "new_data = data.drop(labels = \"ExitRates\", axis = 1)\n",
    "new_data.columns"
   ]
  },
  {
   "cell_type": "markdown",
   "metadata": {},
   "source": [
    "## Is threre class imbalance issue in dataset?"
   ]
  },
  {
   "cell_type": "code",
   "execution_count": 6,
   "metadata": {},
   "outputs": [
    {
     "data": {
      "text/plain": [
       "False    0.845255\n",
       "True     0.154745\n",
       "Name: Revenue, dtype: float64"
      ]
     },
     "execution_count": 6,
     "metadata": {},
     "output_type": "execute_result"
    }
   ],
   "source": [
    "data.Revenue.value_counts()/data.shape[0]   #Label Imbalance Issue exist in the dataset,\n",
    "                                            #so accuracy will not be enough as an evaluation matrix!"
   ]
  },
  {
   "cell_type": "markdown",
   "metadata": {},
   "source": [
    "Because of the imbalannce issue, accuracy will not be a good indicator in evaluating the prediction model.\n",
    "I will use prediction, recall and f1 as main factors in evaluating the models."
   ]
  },
  {
   "cell_type": "markdown",
   "metadata": {},
   "source": [
    "## Preparing data to build prediction model"
   ]
  },
  {
   "cell_type": "code",
   "execution_count": 121,
   "metadata": {
    "scrolled": false
   },
   "outputs": [],
   "source": [
    "### Independent Variables\n",
    "x = new_data.iloc[:, :-1]"
   ]
  },
  {
   "cell_type": "code",
   "execution_count": 122,
   "metadata": {},
   "outputs": [],
   "source": [
    "### dependent variable => Since we only have 2 different categories, those are mapped to 0 and 1.\n",
    "y = new_data.iloc[:, -1]"
   ]
  },
  {
   "cell_type": "code",
   "execution_count": 123,
   "metadata": {},
   "outputs": [],
   "source": [
    "from sklearn.preprocessing import LabelEncoder, OneHotEncoder\n",
    "\n",
    "### Although our categorical features do not have ordinal sequence to encode them as numbers and use them,\n",
    "### we need the transformation in the future to be incoded as numbers in encoding with OneHotEncoder \n",
    "labelencoder_x = LabelEncoder()\n",
    "labelencoder_y = LabelEncoder()\n",
    "x[\"VisitorType\"] = labelencoder_x.fit_transform(x[\"VisitorType\"])\n",
    "x[\"Month\"] = labelencoder_x.fit_transform(x[\"Month\"])\n",
    "x[\"Weekend\"] = labelencoder_x.fit_transform(x[\"Weekend\"])\n",
    "y = labelencoder_y.fit_transform(y)"
   ]
  },
  {
   "cell_type": "code",
   "execution_count": 116,
   "metadata": {},
   "outputs": [],
   "source": [
    "# OperatingSystems,Browser, Region, TrafficType, have discrete values but need to be treated as categorical.\n",
    "onehotencoder = OneHotEncoder(categorical_features = [[9,10,11,12,13,14,15]])\n",
    "x = onehotencoder.fit_transform(x).toarray()"
   ]
  },
  {
   "cell_type": "markdown",
   "metadata": {},
   "source": [
    "### Model 1: \n",
    "### Logistic Regression Classifier"
   ]
  },
  {
   "cell_type": "code",
   "execution_count": 17,
   "metadata": {},
   "outputs": [],
   "source": [
    "from sklearn.linear_model import LogisticRegression\n",
    "from sklearn.model_selection import cross_val_score\n",
    "classifier_LR = LogisticRegression(random_state = 0,penalty='l1')\n",
    "Log_Reg_clf = classifier_LR.fit(x, y)"
   ]
  },
  {
   "cell_type": "code",
   "execution_count": 18,
   "metadata": {},
   "outputs": [
    {
     "data": {
      "text/plain": [
       "array([0.89379814, 0.89096068, 0.87956204, 0.87505071, 0.87302231])"
      ]
     },
     "execution_count": 18,
     "metadata": {},
     "output_type": "execute_result"
    }
   ],
   "source": [
    "LR_scores = cross_val_score(Log_Reg_clf, x, y, cv=5, scoring='accuracy')\n",
    "LR_scores                                              "
   ]
  },
  {
   "cell_type": "markdown",
   "metadata": {},
   "source": [
    "###### The mean score and the 95% confidence interval of the score estimate are hence given by:"
   ]
  },
  {
   "cell_type": "code",
   "execution_count": 19,
   "metadata": {},
   "outputs": [
    {
     "name": "stdout",
     "output_type": "stream",
     "text": [
      "Accuracy for Logistic Regression Model is: 88.25 % (+/- 0.02)\n"
     ]
    }
   ],
   "source": [
    "print(\"Accuracy for Logistic Regression Model is: %0.2f %% (+/- %0.2f)\" % (LR_scores.mean()*100, LR_scores.std() * 2))"
   ]
  },
  {
   "cell_type": "code",
   "execution_count": 20,
   "metadata": {
    "scrolled": true
   },
   "outputs": [
    {
     "name": "stdout",
     "output_type": "stream",
     "text": [
      "LR_Recall = 0.3993761251047807 [0.37958115 0.37958115 0.42931937 0.39107612 0.41732283]\n",
      "LR_Precision = 0.7290539115164794 [0.85294118 0.81920904 0.67489712 0.66222222 0.636     ]\n",
      "LR_F1 = 0.5129314001864268 [0.52536232 0.51878354 0.5248     0.49174917 0.50396197]\n"
     ]
    }
   ],
   "source": [
    "# precision, recall and F1\n",
    "from sklearn.preprocessing import LabelBinarizer\n",
    "y1 = y\n",
    "lb = LabelBinarizer()\n",
    "y1 = np.array([number[0] for number in lb.fit_transform(y1)])\n",
    "LR_Recall = cross_val_score(classifier_LR, x, y1, cv=5, scoring='recall')\n",
    "print('LR_Recall =', np.mean(LR_Recall), LR_Recall)\n",
    "LR_precision = cross_val_score(classifier_LR, x, y1, cv=5, scoring='precision')\n",
    "print('LR_Precision =', np.mean(LR_precision), LR_precision)\n",
    "LR_F1 = cross_val_score(classifier_LR, x, y1, cv=5, scoring='f1')\n",
    "print('LR_F1 =', np.mean(LR_F1), LR_F1)"
   ]
  },
  {
   "cell_type": "markdown",
   "metadata": {},
   "source": [
    "### Model 2:\n",
    "### KNN Classifier\n",
    "Feature scalling is requierd!"
   ]
  },
  {
   "cell_type": "code",
   "execution_count": 81,
   "metadata": {},
   "outputs": [],
   "source": [
    "# Feature Scaling(Normalization) is necessary for KNN classifier\n",
    "from sklearn.preprocessing import StandardScaler\n",
    "sc = StandardScaler()\n",
    "x_scaled= sc.fit_transform(x)"
   ]
  },
  {
   "cell_type": "code",
   "execution_count": 22,
   "metadata": {},
   "outputs": [],
   "source": [
    "# Fitting K-NN to data\n",
    "from sklearn.neighbors import KNeighborsClassifier\n",
    "classifier_KNN = KNeighborsClassifier(n_neighbors = 5, metric = 'minkowski', p = 2)\n",
    "KNN_clf = classifier_KNN.fit(x_scaled, y)"
   ]
  },
  {
   "cell_type": "code",
   "execution_count": 23,
   "metadata": {},
   "outputs": [
    {
     "data": {
      "text/plain": [
       "array([0.85812728, 0.84677746, 0.8487429 , 0.84056795, 0.831643  ])"
      ]
     },
     "execution_count": 23,
     "metadata": {},
     "output_type": "execute_result"
    }
   ],
   "source": [
    "KNN_scores = cross_val_score(KNN_clf, x_scaled, y, cv=5)\n",
    "KNN_scores  "
   ]
  },
  {
   "cell_type": "code",
   "execution_count": 24,
   "metadata": {},
   "outputs": [
    {
     "name": "stdout",
     "output_type": "stream",
     "text": [
      "Accuracy for KNN Model is: 84.52 % (+/- 0.02)\n"
     ]
    }
   ],
   "source": [
    "print(\"Accuracy for KNN Model is: %0.2f %% (+/- %0.2f)\" % (KNN_scores.mean()*100, KNN_scores.std() * 2))"
   ]
  },
  {
   "cell_type": "code",
   "execution_count": 25,
   "metadata": {},
   "outputs": [
    {
     "name": "stdout",
     "output_type": "stream",
     "text": [
      "KNN_Recall = 0.19397424798339996 [0.18324607 0.12565445 0.17015707 0.21784777 0.27296588]\n",
      "KNN_Precision = 0.5206243124349443 [0.64814815 0.52173913 0.53719008 0.46629213 0.42975207]\n",
      "KNN_F1 = 0.27550449387388903 [0.28571429 0.20253165 0.2584493  0.29695886 0.33386838]\n"
     ]
    }
   ],
   "source": [
    "KNN_Recall = cross_val_score(classifier_KNN, x_scaled, y1, cv=5, scoring='recall')\n",
    "print('KNN_Recall =', np.mean(KNN_Recall), KNN_Recall)\n",
    "KNN_precision = cross_val_score(classifier_KNN, x_scaled, y1, cv=5, scoring='precision')\n",
    "print('KNN_Precision =', np.mean(KNN_precision), KNN_precision)\n",
    "KNN_F1 = cross_val_score(classifier_KNN, x_scaled, y1, cv=5, scoring='f1')\n",
    "print('KNN_F1 =', np.mean(KNN_F1), KNN_F1)"
   ]
  },
  {
   "cell_type": "markdown",
   "metadata": {},
   "source": [
    "### Model 3:\n",
    "### Linear SVM"
   ]
  },
  {
   "cell_type": "code",
   "execution_count": 38,
   "metadata": {},
   "outputs": [],
   "source": [
    "from sklearn.svm import SVC\n",
    "classifier_LSVM = SVC(kernel = 'linear', random_state = 0)\n",
    "LSVM_clf = classifier_LSVM.fit(x_scaled, y1)"
   ]
  },
  {
   "cell_type": "code",
   "execution_count": 39,
   "metadata": {},
   "outputs": [
    {
     "data": {
      "text/plain": [
       "array([0.89704094, 0.89663559, 0.8811841 , 0.86977688, 0.87261663])"
      ]
     },
     "execution_count": 39,
     "metadata": {},
     "output_type": "execute_result"
    }
   ],
   "source": [
    "LSVM_scores = cross_val_score(LSVM_clf, x_scaled, y1, cv=5)\n",
    "LSVM_scores"
   ]
  },
  {
   "cell_type": "code",
   "execution_count": 40,
   "metadata": {},
   "outputs": [
    {
     "name": "stdout",
     "output_type": "stream",
     "text": [
      "Accuracy for SVM Model is: 88.35 % (+/- 0.02)\n"
     ]
    }
   ],
   "source": [
    "print(\"Accuracy for SVM Model is: %0.2f %% (+/- %0.2f)\" % (LSVM_scores.mean()*100, LSVM_scores.std() * 2))"
   ]
  },
  {
   "cell_type": "code",
   "execution_count": 41,
   "metadata": {},
   "outputs": [
    {
     "name": "stdout",
     "output_type": "stream",
     "text": [
      "Accuracy for Linear SVM Model is: 88.35 % (+/- 0.02)\n",
      "LSVM_Recall = 0.39722691731596377 [0.40314136 0.45549738 0.42408377 0.34383202 0.35958005]\n",
      "LSVM_Precision = 0.7285196349405432 [0.85555556 0.78733032 0.6893617  0.64851485 0.66183575]\n",
      "LSVM_F1 = 0.5131329479814805 [0.5480427  0.57711443 0.52512156 0.44939966 0.46598639]\n"
     ]
    }
   ],
   "source": [
    "print(\"Accuracy for Linear SVM Model is: %0.2f %% (+/- %0.2f)\" % (LSVM_scores.mean()*100, LSVM_scores.std() * 2))\n",
    "LSVM_Recall = cross_val_score(classifier_LSVM, x_scaled, y1, cv=5, scoring='recall')\n",
    "print('LSVM_Recall =', np.mean(LSVM_Recall), LSVM_Recall)\n",
    "LSVM_precision = cross_val_score(classifier_LSVM, x_scaled, y1, cv=5, scoring='precision')\n",
    "print('LSVM_Precision =', np.mean(LSVM_precision), LSVM_precision)\n",
    "LSVM_F1 = cross_val_score(classifier_LSVM, x_scaled, y1, cv=5, scoring='f1')\n",
    "print('LSVM_F1 =', np.mean(LSVM_F1), LSVM_F1)"
   ]
  },
  {
   "cell_type": "markdown",
   "metadata": {},
   "source": [
    "### Model 4:\n",
    "### Kernel SVM"
   ]
  },
  {
   "cell_type": "code",
   "execution_count": 42,
   "metadata": {},
   "outputs": [
    {
     "name": "stdout",
     "output_type": "stream",
     "text": [
      "Accuracy for Kernel SVM Model is: 88.36 % (+/- 0.02)\n",
      "Kernel_SVM_Recall = 0.3747110799631721 [0.39790576 0.41884817 0.35863874 0.33333333 0.3648294 ]\n",
      "Kernel_SVM_Precision = 0.7508424256107207 [0.88372093 0.7960199  0.73655914 0.67914439 0.65876777]\n",
      "Kernel_SVM_F1 = 0.4993587197328308 [0.54873646 0.54888508 0.48239437 0.4471831  0.46959459]\n"
     ]
    }
   ],
   "source": [
    "classifier_Kernel_SVM = SVC(kernel = 'rbf', random_state = 0)\n",
    "Kernel_SVM_clf = classifier_Kernel_SVM.fit(x_scaled, y1)\n",
    "Kernel_SVM_scores = cross_val_score(Kernel_SVM_clf, x_scaled, y1, cv=5)\n",
    "print(\"Accuracy for Kernel SVM Model is: %0.2f %% (+/- %0.2f)\" % (Kernel_SVM_scores.mean()*100, Kernel_SVM_scores.std() * 2))\n",
    "Kernel_SVM_Recall = cross_val_score(classifier_Kernel_SVM, x_scaled, y1, cv=5, scoring='recall')\n",
    "print('Kernel_SVM_Recall =', np.mean(Kernel_SVM_Recall), Kernel_SVM_Recall)\n",
    "Kernel_SVM_precision = cross_val_score(classifier_Kernel_SVM, x_scaled, y1, cv=5, scoring='precision')\n",
    "print('Kernel_SVM_Precision =', np.mean(Kernel_SVM_precision), Kernel_SVM_precision)\n",
    "Kernel_SVM_F1 = cross_val_score(classifier_Kernel_SVM, x_scaled, y1, cv=5, scoring='f1')\n",
    "print('Kernel_SVM_F1 =', np.mean(Kernel_SVM_F1), Kernel_SVM_F1)"
   ]
  },
  {
   "cell_type": "markdown",
   "metadata": {},
   "source": [
    "### Model 5:\n",
    "### Naive Bayes"
   ]
  },
  {
   "cell_type": "markdown",
   "metadata": {},
   "source": [
    "##### In Naive Bayes Classifier we prefer Categorical data. So, I will convert Administrative, Administrative_Duration, Informational, Informational_Duration, ProductRelated, ProductRelated_Duration, BounceRates, PageValues, SpecialDay, into 4 groups based on their Q1,Q2,Q3,Q4! To avoid imbalance issue!"
   ]
  },
  {
   "cell_type": "code",
   "execution_count": 27,
   "metadata": {},
   "outputs": [],
   "source": [
    "# The function to convert numerical variables to 4 groups\n",
    "def to_4_categories(column):\n",
    "    \n",
    "    Q1 = np.percentile(column,25)\n",
    "    Q2 = np.percentile(column,50)\n",
    "    Q3 = np.percentile(column,75)\n",
    "    \n",
    "    c1,c2,c3,c4 = ([] for i in range(4))\n",
    "    \n",
    "    for i in range(0,len(column)):\n",
    "\n",
    "        if column[i] <= Q1:\n",
    "           c1.append(column[i])\n",
    "        if column[i] <= Q2 and column[i] > Q1:\n",
    "           c2.append(column[i])\n",
    "        if column[i] <= Q3 and column[i] > Q2:\n",
    "           c3.append(column[i])\n",
    "        if column[i] > Q3:\n",
    "           c4.append(column[i])\n",
    "\n",
    "    e1 = round(np.mean(c1),2) \n",
    "    e2 = round(np.mean(c2),2) \n",
    "    e3 = round(np.mean(c3),2)\n",
    "    e4 = round(np.mean(c4),2)\n",
    "\n",
    "    for i in range(0,len(column)):\n",
    "        if column[i] in c1:\n",
    "           column[i] = e1\n",
    "        if column[i] in c2:\n",
    "           column[i] = e2\n",
    "        if column[i] in c3:\n",
    "           column[i] = e3\n",
    "        if column[i] in c4:\n",
    "           column[i] = e4"
   ]
  },
  {
   "cell_type": "code",
   "execution_count": 29,
   "metadata": {},
   "outputs": [
    {
     "name": "stderr",
     "output_type": "stream",
     "text": [
      "C:\\Users\\nasta\\Anaconda3\\lib\\site-packages\\ipykernel_launcher.py:28: SettingWithCopyWarning: \n",
      "A value is trying to be set on a copy of a slice from a DataFrame\n",
      "\n",
      "See the caveats in the documentation: http://pandas.pydata.org/pandas-docs/stable/indexing.html#indexing-view-versus-copy\n",
      "C:\\Users\\nasta\\Anaconda3\\lib\\site-packages\\ipykernel_launcher.py:30: SettingWithCopyWarning: \n",
      "A value is trying to be set on a copy of a slice from a DataFrame\n",
      "\n",
      "See the caveats in the documentation: http://pandas.pydata.org/pandas-docs/stable/indexing.html#indexing-view-versus-copy\n",
      "C:\\Users\\nasta\\Anaconda3\\lib\\site-packages\\ipykernel_launcher.py:32: SettingWithCopyWarning: \n",
      "A value is trying to be set on a copy of a slice from a DataFrame\n",
      "\n",
      "See the caveats in the documentation: http://pandas.pydata.org/pandas-docs/stable/indexing.html#indexing-view-versus-copy\n",
      "C:\\Users\\nasta\\Anaconda3\\lib\\site-packages\\ipykernel_launcher.py:34: SettingWithCopyWarning: \n",
      "A value is trying to be set on a copy of a slice from a DataFrame\n",
      "\n",
      "See the caveats in the documentation: http://pandas.pydata.org/pandas-docs/stable/indexing.html#indexing-view-versus-copy\n",
      "C:\\Users\\nasta\\Anaconda3\\lib\\site-packages\\numpy\\core\\fromnumeric.py:2957: RuntimeWarning: Mean of empty slice.\n",
      "  out=out, **kwargs)\n",
      "C:\\Users\\nasta\\Anaconda3\\lib\\site-packages\\numpy\\core\\_methods.py:80: RuntimeWarning: invalid value encountered in double_scalars\n",
      "  ret = ret.dtype.type(ret / rcount)\n"
     ]
    }
   ],
   "source": [
    "x_NB = new_data.iloc[:, :-1]\n",
    "for i in range(0,9):\n",
    "    to_4_categories(x_NB[x_NB.columns[i]])"
   ]
  },
  {
   "cell_type": "code",
   "execution_count": 36,
   "metadata": {},
   "outputs": [],
   "source": [
    "# Encoding categorical Data to numerical\n",
    "x_NB[\"VisitorType\"] = labelencoder_x.fit_transform(x_NB[\"VisitorType\"])\n",
    "x_NB[\"Month\"] = labelencoder_x.fit_transform(x_NB[\"Month\"])\n",
    "x_NB[\"Weekend\"] = labelencoder_x.fit_transform(x_NB[\"Weekend\"])"
   ]
  },
  {
   "cell_type": "code",
   "execution_count": 37,
   "metadata": {},
   "outputs": [
    {
     "data": {
      "text/html": [
       "<div>\n",
       "<style scoped>\n",
       "    .dataframe tbody tr th:only-of-type {\n",
       "        vertical-align: middle;\n",
       "    }\n",
       "\n",
       "    .dataframe tbody tr th {\n",
       "        vertical-align: top;\n",
       "    }\n",
       "\n",
       "    .dataframe thead th {\n",
       "        text-align: right;\n",
       "    }\n",
       "</style>\n",
       "<table border=\"1\" class=\"dataframe\">\n",
       "  <thead>\n",
       "    <tr style=\"text-align: right;\">\n",
       "      <th></th>\n",
       "      <th>Administrative</th>\n",
       "      <th>Administrative_Duration</th>\n",
       "      <th>Informational</th>\n",
       "      <th>Informational_Duration</th>\n",
       "      <th>ProductRelated</th>\n",
       "      <th>ProductRelated_Duration</th>\n",
       "      <th>BounceRates</th>\n",
       "      <th>PageValues</th>\n",
       "      <th>SpecialDay</th>\n",
       "      <th>Month</th>\n",
       "      <th>OperatingSystems</th>\n",
       "      <th>Browser</th>\n",
       "      <th>Region</th>\n",
       "      <th>TrafficType</th>\n",
       "      <th>VisitorType</th>\n",
       "      <th>Weekend</th>\n",
       "    </tr>\n",
       "  </thead>\n",
       "  <tbody>\n",
       "    <tr>\n",
       "      <th>0</th>\n",
       "      <td>0</td>\n",
       "      <td>0.0</td>\n",
       "      <td>0</td>\n",
       "      <td>0.0</td>\n",
       "      <td>3</td>\n",
       "      <td>66.26</td>\n",
       "      <td>0.08</td>\n",
       "      <td>0.0</td>\n",
       "      <td>0.0</td>\n",
       "      <td>2</td>\n",
       "      <td>1</td>\n",
       "      <td>1</td>\n",
       "      <td>1</td>\n",
       "      <td>1</td>\n",
       "      <td>2</td>\n",
       "      <td>0</td>\n",
       "    </tr>\n",
       "    <tr>\n",
       "      <th>1</th>\n",
       "      <td>0</td>\n",
       "      <td>0.0</td>\n",
       "      <td>0</td>\n",
       "      <td>0.0</td>\n",
       "      <td>3</td>\n",
       "      <td>66.26</td>\n",
       "      <td>0.00</td>\n",
       "      <td>0.0</td>\n",
       "      <td>0.0</td>\n",
       "      <td>2</td>\n",
       "      <td>2</td>\n",
       "      <td>2</td>\n",
       "      <td>1</td>\n",
       "      <td>2</td>\n",
       "      <td>2</td>\n",
       "      <td>0</td>\n",
       "    </tr>\n",
       "    <tr>\n",
       "      <th>2</th>\n",
       "      <td>0</td>\n",
       "      <td>0.0</td>\n",
       "      <td>0</td>\n",
       "      <td>0.0</td>\n",
       "      <td>3</td>\n",
       "      <td>66.26</td>\n",
       "      <td>0.08</td>\n",
       "      <td>0.0</td>\n",
       "      <td>0.0</td>\n",
       "      <td>2</td>\n",
       "      <td>4</td>\n",
       "      <td>1</td>\n",
       "      <td>9</td>\n",
       "      <td>3</td>\n",
       "      <td>2</td>\n",
       "      <td>0</td>\n",
       "    </tr>\n",
       "    <tr>\n",
       "      <th>3</th>\n",
       "      <td>0</td>\n",
       "      <td>0.0</td>\n",
       "      <td>0</td>\n",
       "      <td>0.0</td>\n",
       "      <td>3</td>\n",
       "      <td>66.26</td>\n",
       "      <td>0.08</td>\n",
       "      <td>0.0</td>\n",
       "      <td>0.0</td>\n",
       "      <td>2</td>\n",
       "      <td>3</td>\n",
       "      <td>2</td>\n",
       "      <td>2</td>\n",
       "      <td>4</td>\n",
       "      <td>2</td>\n",
       "      <td>0</td>\n",
       "    </tr>\n",
       "    <tr>\n",
       "      <th>4</th>\n",
       "      <td>0</td>\n",
       "      <td>0.0</td>\n",
       "      <td>0</td>\n",
       "      <td>0.0</td>\n",
       "      <td>12</td>\n",
       "      <td>967.33</td>\n",
       "      <td>0.08</td>\n",
       "      <td>0.0</td>\n",
       "      <td>0.0</td>\n",
       "      <td>2</td>\n",
       "      <td>3</td>\n",
       "      <td>3</td>\n",
       "      <td>1</td>\n",
       "      <td>4</td>\n",
       "      <td>2</td>\n",
       "      <td>1</td>\n",
       "    </tr>\n",
       "  </tbody>\n",
       "</table>\n",
       "</div>"
      ],
      "text/plain": [
       "   Administrative  Administrative_Duration  Informational  \\\n",
       "0               0                      0.0              0   \n",
       "1               0                      0.0              0   \n",
       "2               0                      0.0              0   \n",
       "3               0                      0.0              0   \n",
       "4               0                      0.0              0   \n",
       "\n",
       "   Informational_Duration  ProductRelated  ProductRelated_Duration  \\\n",
       "0                     0.0               3                    66.26   \n",
       "1                     0.0               3                    66.26   \n",
       "2                     0.0               3                    66.26   \n",
       "3                     0.0               3                    66.26   \n",
       "4                     0.0              12                   967.33   \n",
       "\n",
       "   BounceRates  PageValues  SpecialDay  Month  OperatingSystems  Browser  \\\n",
       "0         0.08         0.0         0.0      2                 1        1   \n",
       "1         0.00         0.0         0.0      2                 2        2   \n",
       "2         0.08         0.0         0.0      2                 4        1   \n",
       "3         0.08         0.0         0.0      2                 3        2   \n",
       "4         0.08         0.0         0.0      2                 3        3   \n",
       "\n",
       "   Region  TrafficType  VisitorType  Weekend  \n",
       "0       1            1            2        0  \n",
       "1       1            2            2        0  \n",
       "2       9            3            2        0  \n",
       "3       2            4            2        0  \n",
       "4       1            4            2        1  "
      ]
     },
     "execution_count": 37,
     "metadata": {},
     "output_type": "execute_result"
    }
   ],
   "source": [
    "x_NB.head()"
   ]
  },
  {
   "cell_type": "code",
   "execution_count": 35,
   "metadata": {},
   "outputs": [
    {
     "name": "stdout",
     "output_type": "stream",
     "text": [
      "Accuracy for Naive Bayes Model is: 84.44 % (+/- 0.07)\n",
      "NB_Recall = 0.7510107048137308 [0.87434555 0.70418848 0.7460733  0.73753281 0.69291339]\n",
      "NB_Precision = 0.5048973957966673 [0.64728682 0.52952756 0.43378995 0.4390625  0.47482014]\n",
      "NB_F1 = 0.6021830731478157 [0.74387528 0.60449438 0.54860443 0.55044074 0.56350053]\n"
     ]
    }
   ],
   "source": [
    "from sklearn.naive_bayes import GaussianNB\n",
    "classifier_NB = GaussianNB()\n",
    "NB_clf = classifier_NB.fit(x_NB, y1)\n",
    "NB_scores = cross_val_score(NB_clf, x_NB, y1, cv=5)\n",
    "print(\"Accuracy for Naive Bayes Model is: %0.2f %% (+/- %0.2f)\" % (NB_scores.mean()*100, NB_scores.std() * 2))\n",
    "NB_Recall = cross_val_score(classifier_NB, x_NB, y1, cv=5, scoring='recall')\n",
    "print('NB_Recall =', np.mean(NB_Recall), NB_Recall)\n",
    "NB_precision = cross_val_score(classifier_NB, x_NB, y1, cv=5, scoring='precision')\n",
    "print('NB_Precision =', np.mean(NB_precision), NB_precision)\n",
    "NB_F1 = cross_val_score(classifier_NB, x_NB, y1, cv=5, scoring='f1')\n",
    "print('NB_F1 =', np.mean(NB_F1), NB_F1)"
   ]
  },
  {
   "cell_type": "markdown",
   "metadata": {},
   "source": [
    "### Model 6:\n",
    "### Decision Tree"
   ]
  },
  {
   "cell_type": "code",
   "execution_count": 48,
   "metadata": {},
   "outputs": [
    {
     "name": "stdout",
     "output_type": "stream",
     "text": [
      "Accuracy for Decision Tree Model is: 84.88 % (+/- 0.08)\n",
      "DT_Recall = 0.5529125613225048 [0.54450262 0.58638743 0.57068063 0.51181102 0.5511811 ]\n",
      "DT_Precision = 0.5261381059068829 [0.6509434  0.68955224 0.46666667 0.41052632 0.41300191]\n",
      "DT_F1 = 0.5358917654518462 [0.59714286 0.62464986 0.52173913 0.46833931 0.46758767]\n"
     ]
    }
   ],
   "source": [
    "from sklearn import tree\n",
    "classifier_DT = tree.DecisionTreeClassifier()\n",
    "DT_clf = classifier_DT.fit(x, y1)\n",
    "DT_scores = cross_val_score(DT_clf, x, y1, cv=5)\n",
    "print(\"Accuracy for Decision Tree Model is: %0.2f %% (+/- %0.2f)\" % (DT_scores.mean()*100, DT_scores.std() * 2))\n",
    "DT_Recall = cross_val_score(classifier_DT, x, y1, cv=5, scoring='recall')\n",
    "print('DT_Recall =', np.mean(DT_Recall), DT_Recall)\n",
    "DT_precision = cross_val_score(classifier_DT, x, y1, cv=5, scoring='precision')\n",
    "print('DT_Precision =', np.mean(DT_precision), DT_precision)\n",
    "DT_F1 = cross_val_score(classifier_DT, x, y1, cv=5, scoring='f1')\n",
    "print('DT_F1 =', np.mean(DT_F1), DT_F1)"
   ]
  },
  {
   "cell_type": "markdown",
   "metadata": {},
   "source": [
    "#### Another attempt with data preprocessing\n",
    "#### Data preprocessing will be same to Naive Bayes Algorithm. \n",
    "#### Numerical data will be convert to 4 groups based on its own Q1, Q2, Q3!\n",
    "#### Categorical data is encoded!"
   ]
  },
  {
   "cell_type": "code",
   "execution_count": 47,
   "metadata": {},
   "outputs": [
    {
     "name": "stdout",
     "output_type": "stream",
     "text": [
      "Accuracy for Decision Tree Model is: 84.22 % (+/- 0.07)\n",
      "DT_Recall = 0.540869302331973 [0.54188482 0.57068063 0.53141361 0.50656168 0.55380577]\n",
      "DT_Precision = 0.5166336293397538 [0.63344051 0.68454259 0.45733042 0.40466102 0.40319361]\n",
      "DT_F1 = 0.5196654989554479 [0.57018813 0.60658083 0.50241546 0.44935972 0.46978335]\n"
     ]
    }
   ],
   "source": [
    "x_DT = x_NB\n",
    "classifier_DT = tree.DecisionTreeClassifier()\n",
    "DT_clf = classifier_DT.fit(x_DT, y1)\n",
    "DT_scores = cross_val_score(DT_clf, x_DT, y1, cv=5)\n",
    "print(\"Accuracy for Decision Tree Model is: %0.2f %% (+/- %0.2f)\" % (DT_scores.mean()*100, DT_scores.std() * 2))\n",
    "DT_Recall = cross_val_score(classifier_DT, x_DT, y1, cv=5, scoring='recall')\n",
    "print('DT_Recall =', np.mean(DT_Recall), DT_Recall)\n",
    "DT_precision = cross_val_score(classifier_DT, x_DT, y1, cv=5, scoring='precision')\n",
    "print('DT_Precision =', np.mean(DT_precision), DT_precision)\n",
    "DT_F1 = cross_val_score(classifier_DT, x_DT, y1, cv=5, scoring='f1')\n",
    "print('DT_F1 =', np.mean(DT_F1), DT_F1)"
   ]
  },
  {
   "cell_type": "markdown",
   "metadata": {},
   "source": [
    "First Decision Tree model is better."
   ]
  },
  {
   "cell_type": "markdown",
   "metadata": {},
   "source": [
    "### Model 7:\n",
    "### Random Forest"
   ]
  },
  {
   "cell_type": "code",
   "execution_count": 50,
   "metadata": {},
   "outputs": [
    {
     "name": "stdout",
     "output_type": "stream",
     "text": [
      "Accuracy for Random Forest Model is: 85.73 % (+/- 0.00)\n",
      "RF_Recall = 0.08860122851135754 [0.06282723 0.06544503 0.08638743 0.09448819 0.13385827]\n",
      "RF_Precision = 0.9248717948717948 [1.         1.         0.91666667 0.92307692 0.78461538]\n",
      "RF_F1 = 0.1598199167351056 [0.1182266  0.12285012 0.15789474 0.17142857 0.22869955]\n"
     ]
    }
   ],
   "source": [
    "from sklearn.ensemble import RandomForestClassifier\n",
    "classifier_RF = RandomForestClassifier(n_estimators=100, max_depth=5,random_state=0)\n",
    "RF_clf = classifier_RF.fit(x, y1)\n",
    "RF_scores = cross_val_score(RF_clf, x, y1, cv=5)\n",
    "print(\"Accuracy for Random Forest Model is: %0.2f %% (+/- %0.2f)\" % (RF_scores.mean()*100, RF_scores.std() * 2))\n",
    "RF_Recall = cross_val_score(classifier_RF, x, y1, cv=5, scoring='recall')\n",
    "print('RF_Recall =', np.mean(RF_Recall), RF_Recall)\n",
    "RF_precision = cross_val_score(classifier_RF, x, y1, cv=5, scoring='precision')\n",
    "print('RF_Precision =', np.mean(RF_precision), RF_precision)\n",
    "RF_F1 = cross_val_score(classifier_RF, x, y1, cv=5, scoring='f1')\n",
    "print('RF_F1 =', np.mean(RF_F1), RF_F1)"
   ]
  },
  {
   "cell_type": "code",
   "execution_count": 51,
   "metadata": {},
   "outputs": [
    {
     "name": "stdout",
     "output_type": "stream",
     "text": [
      "Accuracy for Random Forest Model is: 88.79 % (+/- 0.02)\n",
      "RF2_Recall = 0.34904426213738987 [0.27748691 0.38219895 0.41099476 0.2992126  0.37532808]\n",
      "RF2_Precision = 0.8338565988144115 [0.92173913 0.90123457 0.83510638 0.77027027 0.74093264]\n",
      "RF2_F1 = 0.48869219701641053 [0.42655936 0.53676471 0.55087719 0.43100189 0.49825784]\n"
     ]
    }
   ],
   "source": [
    "classifier_RF2 = RandomForestClassifier(n_estimators=100, max_depth=8,random_state=0)\n",
    "RF2_clf = classifier_RF2.fit(x, y1)\n",
    "RF2_scores = cross_val_score(RF2_clf, x, y1, cv=5)\n",
    "print(\"Accuracy for Random Forest Model is: %0.2f %% (+/- %0.2f)\" % (RF2_scores.mean()*100, RF2_scores.std() * 2))\n",
    "RF2_Recall = cross_val_score(classifier_RF2, x_scaled, y1, cv=5, scoring='recall')\n",
    "print('RF2_Recall =', np.mean(RF2_Recall), RF2_Recall)\n",
    "RF2_precision = cross_val_score(classifier_RF2, x, y1, cv=5, scoring='precision')\n",
    "print('RF2_Precision =', np.mean(RF2_precision), RF2_precision)\n",
    "RF2_F1 = cross_val_score(classifier_RF2, x, y1, cv=5, scoring='f1')\n",
    "print('RF2_F1 =', np.mean(RF2_F1), RF2_F1)"
   ]
  },
  {
   "cell_type": "code",
   "execution_count": 52,
   "metadata": {},
   "outputs": [
    {
     "name": "stdout",
     "output_type": "stream",
     "text": [
      "Accuracy for Random Forest Model is: 89.29 % (+/- 0.02)\n",
      "RF3_Recall = 0.4302799191985819 [0.35078534 0.46596859 0.5        0.35958005 0.47506562]\n",
      "RF3_Precision = 0.7907841535286634 [0.91156463 0.86407767 0.77016129 0.71727749 0.69083969]\n",
      "RF3_F1 = 0.5520829244880401 [0.50661626 0.60544218 0.60634921 0.47902098 0.562986  ]\n"
     ]
    }
   ],
   "source": [
    "classifier_RF3 = RandomForestClassifier(n_estimators=100, max_depth=10,random_state=0)\n",
    "RF3_clf = classifier_RF3.fit(x, y1)\n",
    "RF3_scores = cross_val_score(RF3_clf, x, y1, cv=5)\n",
    "print(\"Accuracy for Random Forest Model is: %0.2f %% (+/- %0.2f)\" % (RF3_scores.mean()*100, RF3_scores.std() * 2))\n",
    "RF3_Recall = cross_val_score(classifier_RF3, x_scaled, y1, cv=5, scoring='recall')\n",
    "print('RF3_Recall =', np.mean(RF3_Recall), RF3_Recall)\n",
    "RF3_precision = cross_val_score(classifier_RF3, x, y1, cv=5, scoring='precision')\n",
    "print('RF3_Precision =', np.mean(RF3_precision), RF3_precision)\n",
    "RF3_F1 = cross_val_score(classifier_RF3, x, y1, cv=5, scoring='f1')\n",
    "print('RF3_F1 =', np.mean(RF3_F1), RF3_F1)"
   ]
  },
  {
   "cell_type": "code",
   "execution_count": 53,
   "metadata": {},
   "outputs": [
    {
     "data": {
      "text/plain": [
       "[88.25, 84.52, 88.35, 88.36, 84.44, 84.88, 89.29]"
      ]
     },
     "execution_count": 53,
     "metadata": {},
     "output_type": "execute_result"
    }
   ],
   "source": [
    "Accuracies = [round(LR_scores.mean()*100,2),\n",
    "              round(KNN_scores.mean()*100,2),\n",
    "              round(LSVM_scores.mean()*100,2),\n",
    "              round(Kernel_SVM_scores.mean()*100,2),\n",
    "              round(NB_scores.mean()*100,2),\n",
    "              round(DT_scores.mean()*100,2),\n",
    "              round(RF3_scores.mean()*100,2)]\n",
    "Accuracies"
   ]
  },
  {
   "cell_type": "code",
   "execution_count": 54,
   "metadata": {},
   "outputs": [
    {
     "data": {
      "text/html": [
       "<div>\n",
       "<style scoped>\n",
       "    .dataframe tbody tr th:only-of-type {\n",
       "        vertical-align: middle;\n",
       "    }\n",
       "\n",
       "    .dataframe tbody tr th {\n",
       "        vertical-align: top;\n",
       "    }\n",
       "\n",
       "    .dataframe thead th {\n",
       "        text-align: right;\n",
       "    }\n",
       "</style>\n",
       "<table border=\"1\" class=\"dataframe\">\n",
       "  <thead>\n",
       "    <tr style=\"text-align: right;\">\n",
       "      <th></th>\n",
       "      <th>Model</th>\n",
       "      <th>Accuracy</th>\n",
       "    </tr>\n",
       "  </thead>\n",
       "  <tbody>\n",
       "    <tr>\n",
       "      <th>0</th>\n",
       "      <td>Logistic Regression</td>\n",
       "      <td>88.25</td>\n",
       "    </tr>\n",
       "    <tr>\n",
       "      <th>1</th>\n",
       "      <td>K-Nearest Neighbor</td>\n",
       "      <td>84.52</td>\n",
       "    </tr>\n",
       "    <tr>\n",
       "      <th>2</th>\n",
       "      <td>Linear SVM</td>\n",
       "      <td>88.35</td>\n",
       "    </tr>\n",
       "    <tr>\n",
       "      <th>3</th>\n",
       "      <td>Kernel SVM</td>\n",
       "      <td>88.36</td>\n",
       "    </tr>\n",
       "    <tr>\n",
       "      <th>4</th>\n",
       "      <td>Naive Bayes</td>\n",
       "      <td>84.44</td>\n",
       "    </tr>\n",
       "    <tr>\n",
       "      <th>5</th>\n",
       "      <td>Decision Tree</td>\n",
       "      <td>84.88</td>\n",
       "    </tr>\n",
       "    <tr>\n",
       "      <th>6</th>\n",
       "      <td>Random Forest</td>\n",
       "      <td>89.29</td>\n",
       "    </tr>\n",
       "  </tbody>\n",
       "</table>\n",
       "</div>"
      ],
      "text/plain": [
       "                 Model  Accuracy\n",
       "0  Logistic Regression     88.25\n",
       "1   K-Nearest Neighbor     84.52\n",
       "2           Linear SVM     88.35\n",
       "3           Kernel SVM     88.36\n",
       "4          Naive Bayes     84.44\n",
       "5        Decision Tree     84.88\n",
       "6        Random Forest     89.29"
      ]
     },
     "execution_count": 54,
     "metadata": {},
     "output_type": "execute_result"
    }
   ],
   "source": [
    "Classifiers = [\"Logistic Regression\", \"K-Nearest Neighbor\", \"Linear SVM\", \"Kernel SVM\", \"Naive Bayes\",\"Decision Tree\", \"Random Forest\"]\n",
    "df = pd.DataFrame(list(zip(Classifiers, Accuracies)), columns = [\"Model\", \"Accuracy\"])\n",
    "df"
   ]
  },
  {
   "cell_type": "code",
   "execution_count": 55,
   "metadata": {},
   "outputs": [
    {
     "data": {
      "image/png": "[encoded data removed]",
      "text/plain": [
       "<Figure size 1152x576 with 1 Axes>"
      ]
     },
     "metadata": {},
     "output_type": "display_data"
    }
   ],
   "source": [
    "fig,ax = plt.subplots()\n",
    "fig.set_size_inches(16,8)\n",
    "\n",
    "#to get different colors for each of the variable assign the variable to hue\n",
    "g=sns.barplot(x='Model',y='Accuracy',data=df,ax=ax)\n",
    "\n",
    "#Code for to put legend outside the plot\n",
    "box = ax.get_position()\n",
    "ax.set_position([box.x0, box.y0, box.width * 0.8, box.height])\n",
    "# Put a legend to the right of the current axis\n",
    "#ax.legend(loc='center left', bbox_to_anchor=(1, 0.5))\n",
    "\n",
    "# Adding respective values to the top of each bar\n",
    "for p in ax.patches: \n",
    "    ax.annotate(\"%.2f\" % p.get_height(), (p.get_x() + p.get_width() / 2, p.get_height()),\n",
    "                ha='center', va='center', fontsize=11, color='black', xytext=(0, 10), \n",
    "                textcoords='offset points')\n",
    "\n",
    "#To save the plot as 'SO.png'    \n",
    "plt.savefig('SO.png',dpi=100,bbox_inches='tight')\n",
    "plt.show()"
   ]
  },
  {
   "cell_type": "code",
   "execution_count": 61,
   "metadata": {},
   "outputs": [
    {
     "data": {
      "text/html": [
       "<div>\n",
       "<style scoped>\n",
       "    .dataframe tbody tr th:only-of-type {\n",
       "        vertical-align: middle;\n",
       "    }\n",
       "\n",
       "    .dataframe tbody tr th {\n",
       "        vertical-align: top;\n",
       "    }\n",
       "\n",
       "    .dataframe thead th {\n",
       "        text-align: right;\n",
       "    }\n",
       "</style>\n",
       "<table border=\"1\" class=\"dataframe\">\n",
       "  <thead>\n",
       "    <tr style=\"text-align: right;\">\n",
       "      <th></th>\n",
       "      <th>Model</th>\n",
       "      <th>Precision</th>\n",
       "      <th>Recall</th>\n",
       "      <th>F1</th>\n",
       "    </tr>\n",
       "  </thead>\n",
       "  <tbody>\n",
       "    <tr>\n",
       "      <th>0</th>\n",
       "      <td>Logistic Regression</td>\n",
       "      <td>0.73</td>\n",
       "      <td>0.40</td>\n",
       "      <td>0.51</td>\n",
       "    </tr>\n",
       "    <tr>\n",
       "      <th>1</th>\n",
       "      <td>K-Nearest Neighbor</td>\n",
       "      <td>0.52</td>\n",
       "      <td>0.19</td>\n",
       "      <td>0.28</td>\n",
       "    </tr>\n",
       "    <tr>\n",
       "      <th>2</th>\n",
       "      <td>Linear SVM</td>\n",
       "      <td>0.73</td>\n",
       "      <td>0.40</td>\n",
       "      <td>0.51</td>\n",
       "    </tr>\n",
       "    <tr>\n",
       "      <th>3</th>\n",
       "      <td>Kernel SVM</td>\n",
       "      <td>0.75</td>\n",
       "      <td>0.37</td>\n",
       "      <td>0.50</td>\n",
       "    </tr>\n",
       "    <tr>\n",
       "      <th>4</th>\n",
       "      <td>Naive Bayes</td>\n",
       "      <td>0.50</td>\n",
       "      <td>0.75</td>\n",
       "      <td>0.60</td>\n",
       "    </tr>\n",
       "    <tr>\n",
       "      <th>5</th>\n",
       "      <td>Decision Tree</td>\n",
       "      <td>0.53</td>\n",
       "      <td>0.55</td>\n",
       "      <td>0.54</td>\n",
       "    </tr>\n",
       "    <tr>\n",
       "      <th>6</th>\n",
       "      <td>Random Forest</td>\n",
       "      <td>0.79</td>\n",
       "      <td>0.43</td>\n",
       "      <td>0.55</td>\n",
       "    </tr>\n",
       "  </tbody>\n",
       "</table>\n",
       "</div>"
      ],
      "text/plain": [
       "                 Model  Precision  Recall    F1\n",
       "0  Logistic Regression       0.73    0.40  0.51\n",
       "1   K-Nearest Neighbor       0.52    0.19  0.28\n",
       "2           Linear SVM       0.73    0.40  0.51\n",
       "3           Kernel SVM       0.75    0.37  0.50\n",
       "4          Naive Bayes       0.50    0.75  0.60\n",
       "5        Decision Tree       0.53    0.55  0.54\n",
       "6        Random Forest       0.79    0.43  0.55"
      ]
     },
     "execution_count": 61,
     "metadata": {},
     "output_type": "execute_result"
    }
   ],
   "source": [
    "Precisions = [round(np.mean(LR_precision),2),\n",
    "              round(np.mean(KNN_precision),2),\n",
    "              round(np.mean(LSVM_precision),2),\n",
    "              round(np.mean(Kernel_SVM_precision),2),\n",
    "              round(np.mean(NB_precision),2),\n",
    "              round(np.mean(DT_precision),2),\n",
    "              round(np.mean(RF3_precision),2)]\n",
    "\n",
    "Recalls = [round(np.mean(LR_Recall),2),\n",
    "              round(np.mean(KNN_Recall),2),\n",
    "              round(np.mean(LSVM_Recall),2),\n",
    "              round(np.mean(Kernel_SVM_Recall),2),\n",
    "              round(np.mean(NB_Recall),2),\n",
    "              round(np.mean(DT_Recall),2),\n",
    "              round(np.mean(RF3_Recall),2)]\n",
    "\n",
    "F1s = [round(np.mean(LR_F1),2),\n",
    "              round(np.mean(KNN_F1),2),\n",
    "              round(np.mean(LSVM_F1),2),\n",
    "              round(np.mean(Kernel_SVM_F1),2),\n",
    "              round(np.mean(NB_F1),2),\n",
    "              round(np.mean(DT_F1),2),\n",
    "              round(np.mean(RF3_F1),2)]\n",
    "\n",
    "df1 = pd.DataFrame(list(zip(Classifiers, Precisions, Recalls, F1s)), columns = [\"Model\", \"Precision\", \"Recall\", \"F1\"])\n",
    "df1"
   ]
  },
  {
   "cell_type": "code",
   "execution_count": 65,
   "metadata": {},
   "outputs": [],
   "source": [
    "#col should be less than 15 categories \n",
    "def plot_multiple_bar2(col,list_of_measures,dataframe):\n",
    "    \n",
    "    temp_df = dataframe.groupby([col]).mean()[list_of_measures].reset_index()\n",
    "    temp_df_melt = pd.melt(temp_df, id_vars=col, var_name=\"Parameters\", value_name=\"Values\")\n",
    "    g =sns.factorplot(x=col, y='Values',hue ='Parameters', data=temp_df_melt, kind='bar',legend=False,size =7)\n",
    "    g.set_xticklabels(fontsize='10')\n",
    "    g.set_yticklabels(fontsize='20')\n",
    "    g.set_xlabels(fontsize='10')\n",
    "    g.set_ylabels(fontsize='20')\n",
    "    g.add_legend(fontsize='20')\n",
    "    g.set_xticklabels( rotation=40, ha=\"right\")"
   ]
  },
  {
   "cell_type": "code",
   "execution_count": 66,
   "metadata": {},
   "outputs": [
    {
     "data": {
      "image/png": "[encoded data removed]",
      "text/plain": [
       "<Figure size 666.125x504 with 1 Axes>"
      ]
     },
     "metadata": {},
     "output_type": "display_data"
    }
   ],
   "source": [
    "plot_multiple_bar2(\"Model\",[\"Precision\",\"Recall\",\"F1\"],df1)"
   ]
  },
  {
   "cell_type": "markdown",
   "metadata": {},
   "source": [
    "Conclusion:\n",
    "    As we can see, in terms of accuracy Random Forest has the highest value!\n",
    "    But, since there are inbalance label issue in data set, F1 is a better indicator.\n",
    "    So, because Naive bayes and Random Forest are too close in terms of F1-score, 5% difference, we can say these two model are     better."
   ]
  },
  {
   "cell_type": "markdown",
   "metadata": {},
   "source": [
    "#### Applying Feature Reduction Techniques:"
   ]
  },
  {
   "cell_type": "code",
   "execution_count": 9,
   "metadata": {},
   "outputs": [],
   "source": [
    "from sklearn.decomposition import PCA"
   ]
  },
  {
   "cell_type": "code",
   "execution_count": 22,
   "metadata": {},
   "outputs": [
    {
     "data": {
      "text/plain": [
       "array([9.87741138e-01, 7.54401188e-03, 4.48203268e-03, 1.37699720e-04,\n",
       "       9.21287618e-05, 1.62772695e-06, 2.37630354e-07, 1.44178011e-07,\n",
       "       9.96124052e-08, 9.04027985e-08, 8.01390084e-08, 7.68406048e-08,\n",
       "       6.99179949e-08, 5.44818358e-08, 5.00875774e-08, 4.25165560e-08,\n",
       "       3.96928028e-08, 3.80084362e-08, 3.08425225e-08, 2.64075381e-08,\n",
       "       2.50437881e-08, 2.03242715e-08, 1.90824501e-08, 1.73149329e-08,\n",
       "       1.65110765e-08, 1.46498003e-08, 1.30512666e-08, 1.22468966e-08,\n",
       "       1.17937690e-08, 1.09558120e-08, 1.01348158e-08, 9.59025510e-09,\n",
       "       9.39002095e-09, 9.13164825e-09, 8.09681403e-09, 7.88577346e-09,\n",
       "       7.31796733e-09, 7.12169636e-09, 6.61713140e-09, 6.33604641e-09,\n",
       "       5.50633243e-09, 5.37810735e-09, 4.81064351e-09, 4.02792459e-09,\n",
       "       3.62584754e-09, 2.50069752e-09, 2.46100982e-09, 2.00309015e-09,\n",
       "       1.15971100e-09, 1.08240610e-09, 8.79123260e-10, 8.69603511e-10,\n",
       "       8.36120293e-10, 5.34966463e-10, 4.97082003e-10, 3.95714935e-10,\n",
       "       3.38844834e-10, 3.22290232e-10, 2.64439371e-10, 2.30413784e-10,\n",
       "       2.26304015e-10, 1.68327946e-10, 6.90024416e-11, 2.40736638e-11,\n",
       "       2.35980137e-11, 2.17691877e-11, 9.03900051e-33, 9.03900051e-33,\n",
       "       9.03900051e-33, 9.03900051e-33, 9.03900051e-33, 9.03900051e-33,\n",
       "       9.03900051e-33, 1.95966655e-34])"
      ]
     },
     "execution_count": 22,
     "metadata": {},
     "output_type": "execute_result"
    }
   ],
   "source": [
    "pca = PCA(n_components = None)\n",
    "x_pca = pca.fit_transform(x)\n",
    "explained_variance = pca.explained_variance_ratio_\n",
    "explained_variance"
   ]
  },
  {
   "cell_type": "code",
   "execution_count": 24,
   "metadata": {},
   "outputs": [
    {
     "data": {
      "text/plain": [
       "array([0.98774114, 0.00754401, 0.00448203])"
      ]
     },
     "execution_count": 24,
     "metadata": {},
     "output_type": "execute_result"
    }
   ],
   "source": [
    "pca_ = PCA(n_components = 3)\n",
    "x_pca_ = pca_.fit_transform(x)\n",
    "explained_variance_ = pca_.explained_variance_ratio_\n",
    "explained_variance_"
   ]
  },
  {
   "cell_type": "code",
   "execution_count": 33,
   "metadata": {},
   "outputs": [
    {
     "name": "stdout",
     "output_type": "stream",
     "text": [
      "Accuracy for Random Forest Model is: 82.42 % (+/- 0.01)\n",
      "RF_PCA_Recall = 0.08177295900839619 [0.07853403 0.06806283 0.07591623 0.09448819 0.09186352]\n",
      "RF_PCA_Precision = 0.27851729840953504 [0.36144578 0.26530612 0.232      0.27067669 0.26315789]\n",
      "RF_PCA_F1 = 0.1256057209856536 [0.12903226 0.10833333 0.11439842 0.14007782 0.13618677]\n"
     ]
    }
   ],
   "source": [
    "classifier_RF_PCA = RandomForestClassifier(n_estimators=100,random_state=0)\n",
    "RF_PCA_clf = classifier_RF_PCA.fit(x_pca_, y1)\n",
    "RF_PCA_scores = cross_val_score(RF_PCA_clf, x_pca_, y1, cv=5)\n",
    "print(\"Accuracy for Random Forest Model is: %0.2f %% (+/- %0.2f)\" % (RF_PCA_scores.mean()*100, RF_PCA_scores.std() * 2))\n",
    "RF_PCA_Recall = cross_val_score(classifier_RF_PCA, x_pca_, y1, cv=5, scoring='recall')\n",
    "print('RF_PCA_Recall =', np.mean(RF_PCA_Recall), RF_PCA_Recall)\n",
    "RF_PCA_precision = cross_val_score(classifier_RF_PCA, x_pca_, y1, cv=5, scoring='precision')\n",
    "print('RF_PCA_Precision =', np.mean(RF_PCA_precision), RF_PCA_precision)\n",
    "RF_PCA_F1 = cross_val_score(classifier_RF_PCA, x_pca_, y1, cv=5, scoring='f1')\n",
    "print('RF_PCA_F1 =', np.mean(RF_PCA_F1), RF_PCA_F1)"
   ]
  },
  {
   "cell_type": "code",
   "execution_count": 31,
   "metadata": {},
   "outputs": [],
   "source": [
    "from sklearn.preprocessing import LabelBinarizer\n",
    "y1 = y\n",
    "lb = LabelBinarizer()\n",
    "y1 = np.array([number[0] for number in lb.fit_transform(y1)])\n"
   ]
  },
  {
   "cell_type": "markdown",
   "metadata": {},
   "source": [
    "### Clustering"
   ]
  },
  {
   "cell_type": "code",
   "execution_count": null,
   "metadata": {},
   "outputs": [],
   "source": [
    "# KMean clustering\n",
    "from sklearn.cluster import KMeans"
   ]
  },
  {
   "cell_type": "code",
   "execution_count": 96,
   "metadata": {},
   "outputs": [
    {
     "data": {
      "text/plain": [
       "[<matplotlib.lines.Line2D at 0x1a38b9d9ac8>]"
      ]
     },
     "execution_count": 96,
     "metadata": {},
     "output_type": "execute_result"
    },
    {
     "data": {
      "image/png": "[encoded data removed]",
      "text/plain": [
       "<Figure size 432x288 with 1 Axes>"
      ]
     },
     "metadata": {},
     "output_type": "display_data"
    }
   ],
   "source": [
    "# Using elbow method To find optimal number of clusters:\n",
    "WCSS = []\n",
    "for i in range (1,11):\n",
    "    KMean = KMeans(n_clusters = i, init ='k-means++', n_init=10, max_iter=300, random_state = 42)\n",
    "    KMean.fit(x)\n",
    "    WCSS.append(KMean.inertia_)\n",
    "plt.plot(range(1,11),WCSS)"
   ]
  },
  {
   "cell_type": "code",
   "execution_count": 97,
   "metadata": {},
   "outputs": [],
   "source": [
    "# Optimal number of clusters = 5\n",
    "KMean = KMeans(n_clusters=5, init='k-means++', n_init=10, max_iter=300, random_state = 42)\n",
    "y_KMean = KMean.fit_predict(x) # in 3 different clusters from 0 to 4"
   ]
  },
  {
   "cell_type": "code",
   "execution_count": 107,
   "metadata": {},
   "outputs": [
    {
     "data": {
      "text/plain": [
       "array([0, 1, 2, 3, 4])"
      ]
     },
     "execution_count": 107,
     "metadata": {},
     "output_type": "execute_result"
    }
   ],
   "source": [
    "np.unique(KMean.labels_)"
   ]
  },
  {
   "cell_type": "code",
   "execution_count": 124,
   "metadata": {},
   "outputs": [],
   "source": [
    "x = pd.DataFrame(x)"
   ]
  },
  {
   "cell_type": "code",
   "execution_count": 125,
   "metadata": {},
   "outputs": [],
   "source": [
    "x['Cluster_kmean'] = pd.Series(KMean.labels_)"
   ]
  },
  {
   "cell_type": "code",
   "execution_count": 126,
   "metadata": {},
   "outputs": [
    {
     "data": {
      "text/html": [
       "<div>\n",
       "<style scoped>\n",
       "    .dataframe tbody tr th:only-of-type {\n",
       "        vertical-align: middle;\n",
       "    }\n",
       "\n",
       "    .dataframe tbody tr th {\n",
       "        vertical-align: top;\n",
       "    }\n",
       "\n",
       "    .dataframe thead th {\n",
       "        text-align: right;\n",
       "    }\n",
       "</style>\n",
       "<table border=\"1\" class=\"dataframe\">\n",
       "  <thead>\n",
       "    <tr style=\"text-align: right;\">\n",
       "      <th></th>\n",
       "      <th>Administrative</th>\n",
       "      <th>Administrative_Duration</th>\n",
       "      <th>Informational</th>\n",
       "      <th>Informational_Duration</th>\n",
       "      <th>ProductRelated</th>\n",
       "      <th>ProductRelated_Duration</th>\n",
       "      <th>BounceRates</th>\n",
       "      <th>PageValues</th>\n",
       "      <th>SpecialDay</th>\n",
       "      <th>Month</th>\n",
       "      <th>OperatingSystems</th>\n",
       "      <th>Browser</th>\n",
       "      <th>Region</th>\n",
       "      <th>TrafficType</th>\n",
       "      <th>VisitorType</th>\n",
       "      <th>Weekend</th>\n",
       "      <th>Cluster_kmean</th>\n",
       "    </tr>\n",
       "  </thead>\n",
       "  <tbody>\n",
       "    <tr>\n",
       "      <th>0</th>\n",
       "      <td>0</td>\n",
       "      <td>0.0</td>\n",
       "      <td>0</td>\n",
       "      <td>0.0</td>\n",
       "      <td>1</td>\n",
       "      <td>0.000000</td>\n",
       "      <td>0.20</td>\n",
       "      <td>0.0</td>\n",
       "      <td>0.0</td>\n",
       "      <td>2</td>\n",
       "      <td>1</td>\n",
       "      <td>1</td>\n",
       "      <td>1</td>\n",
       "      <td>1</td>\n",
       "      <td>2</td>\n",
       "      <td>0</td>\n",
       "      <td>0</td>\n",
       "    </tr>\n",
       "    <tr>\n",
       "      <th>1</th>\n",
       "      <td>0</td>\n",
       "      <td>0.0</td>\n",
       "      <td>0</td>\n",
       "      <td>0.0</td>\n",
       "      <td>2</td>\n",
       "      <td>64.000000</td>\n",
       "      <td>0.00</td>\n",
       "      <td>0.0</td>\n",
       "      <td>0.0</td>\n",
       "      <td>2</td>\n",
       "      <td>2</td>\n",
       "      <td>2</td>\n",
       "      <td>1</td>\n",
       "      <td>2</td>\n",
       "      <td>2</td>\n",
       "      <td>0</td>\n",
       "      <td>0</td>\n",
       "    </tr>\n",
       "    <tr>\n",
       "      <th>2</th>\n",
       "      <td>0</td>\n",
       "      <td>0.0</td>\n",
       "      <td>0</td>\n",
       "      <td>0.0</td>\n",
       "      <td>1</td>\n",
       "      <td>0.000000</td>\n",
       "      <td>0.20</td>\n",
       "      <td>0.0</td>\n",
       "      <td>0.0</td>\n",
       "      <td>2</td>\n",
       "      <td>4</td>\n",
       "      <td>1</td>\n",
       "      <td>9</td>\n",
       "      <td>3</td>\n",
       "      <td>2</td>\n",
       "      <td>0</td>\n",
       "      <td>0</td>\n",
       "    </tr>\n",
       "    <tr>\n",
       "      <th>3</th>\n",
       "      <td>0</td>\n",
       "      <td>0.0</td>\n",
       "      <td>0</td>\n",
       "      <td>0.0</td>\n",
       "      <td>2</td>\n",
       "      <td>2.666667</td>\n",
       "      <td>0.05</td>\n",
       "      <td>0.0</td>\n",
       "      <td>0.0</td>\n",
       "      <td>2</td>\n",
       "      <td>3</td>\n",
       "      <td>2</td>\n",
       "      <td>2</td>\n",
       "      <td>4</td>\n",
       "      <td>2</td>\n",
       "      <td>0</td>\n",
       "      <td>0</td>\n",
       "    </tr>\n",
       "    <tr>\n",
       "      <th>4</th>\n",
       "      <td>0</td>\n",
       "      <td>0.0</td>\n",
       "      <td>0</td>\n",
       "      <td>0.0</td>\n",
       "      <td>10</td>\n",
       "      <td>627.500000</td>\n",
       "      <td>0.02</td>\n",
       "      <td>0.0</td>\n",
       "      <td>0.0</td>\n",
       "      <td>2</td>\n",
       "      <td>3</td>\n",
       "      <td>3</td>\n",
       "      <td>1</td>\n",
       "      <td>4</td>\n",
       "      <td>2</td>\n",
       "      <td>1</td>\n",
       "      <td>0</td>\n",
       "    </tr>\n",
       "  </tbody>\n",
       "</table>\n",
       "</div>"
      ],
      "text/plain": [
       "   Administrative  Administrative_Duration  Informational  \\\n",
       "0               0                      0.0              0   \n",
       "1               0                      0.0              0   \n",
       "2               0                      0.0              0   \n",
       "3               0                      0.0              0   \n",
       "4               0                      0.0              0   \n",
       "\n",
       "   Informational_Duration  ProductRelated  ProductRelated_Duration  \\\n",
       "0                     0.0               1                 0.000000   \n",
       "1                     0.0               2                64.000000   \n",
       "2                     0.0               1                 0.000000   \n",
       "3                     0.0               2                 2.666667   \n",
       "4                     0.0              10               627.500000   \n",
       "\n",
       "   BounceRates  PageValues  SpecialDay  Month  OperatingSystems  Browser  \\\n",
       "0         0.20         0.0         0.0      2                 1        1   \n",
       "1         0.00         0.0         0.0      2                 2        2   \n",
       "2         0.20         0.0         0.0      2                 4        1   \n",
       "3         0.05         0.0         0.0      2                 3        2   \n",
       "4         0.02         0.0         0.0      2                 3        3   \n",
       "\n",
       "   Region  TrafficType  VisitorType  Weekend  Cluster_kmean  \n",
       "0       1            1            2        0              0  \n",
       "1       1            2            2        0              0  \n",
       "2       9            3            2        0              0  \n",
       "3       2            4            2        0              0  \n",
       "4       1            4            2        1              0  "
      ]
     },
     "execution_count": 126,
     "metadata": {},
     "output_type": "execute_result"
    }
   ],
   "source": [
    "cluster_0_kmean = x[\"Cluster_kmean\"].isin([0])\n",
    "cluster_0_kmean = x[cluster_0_kmean] \n",
    "cluster_0_kmean.head()"
   ]
  },
  {
   "cell_type": "code",
   "execution_count": 127,
   "metadata": {},
   "outputs": [
    {
     "data": {
      "text/html": [
       "<div>\n",
       "<style scoped>\n",
       "    .dataframe tbody tr th:only-of-type {\n",
       "        vertical-align: middle;\n",
       "    }\n",
       "\n",
       "    .dataframe tbody tr th {\n",
       "        vertical-align: top;\n",
       "    }\n",
       "\n",
       "    .dataframe thead th {\n",
       "        text-align: right;\n",
       "    }\n",
       "</style>\n",
       "<table border=\"1\" class=\"dataframe\">\n",
       "  <thead>\n",
       "    <tr style=\"text-align: right;\">\n",
       "      <th></th>\n",
       "      <th>Administrative</th>\n",
       "      <th>Administrative_Duration</th>\n",
       "      <th>Informational</th>\n",
       "      <th>Informational_Duration</th>\n",
       "      <th>ProductRelated</th>\n",
       "      <th>ProductRelated_Duration</th>\n",
       "      <th>BounceRates</th>\n",
       "      <th>PageValues</th>\n",
       "      <th>SpecialDay</th>\n",
       "      <th>Month</th>\n",
       "      <th>OperatingSystems</th>\n",
       "      <th>Browser</th>\n",
       "      <th>Region</th>\n",
       "      <th>TrafficType</th>\n",
       "      <th>VisitorType</th>\n",
       "      <th>Weekend</th>\n",
       "      <th>Cluster_kmean</th>\n",
       "    </tr>\n",
       "  </thead>\n",
       "  <tbody>\n",
       "    <tr>\n",
       "      <th>40</th>\n",
       "      <td>1</td>\n",
       "      <td>9.000000</td>\n",
       "      <td>0</td>\n",
       "      <td>0.0</td>\n",
       "      <td>46</td>\n",
       "      <td>4084.393939</td>\n",
       "      <td>0.000000</td>\n",
       "      <td>0.0</td>\n",
       "      <td>0.0</td>\n",
       "      <td>2</td>\n",
       "      <td>2</td>\n",
       "      <td>2</td>\n",
       "      <td>8</td>\n",
       "      <td>4</td>\n",
       "      <td>2</td>\n",
       "      <td>0</td>\n",
       "      <td>1</td>\n",
       "    </tr>\n",
       "    <tr>\n",
       "      <th>66</th>\n",
       "      <td>4</td>\n",
       "      <td>44.000000</td>\n",
       "      <td>0</td>\n",
       "      <td>0.0</td>\n",
       "      <td>90</td>\n",
       "      <td>6951.972222</td>\n",
       "      <td>0.002151</td>\n",
       "      <td>0.0</td>\n",
       "      <td>0.0</td>\n",
       "      <td>2</td>\n",
       "      <td>4</td>\n",
       "      <td>1</td>\n",
       "      <td>1</td>\n",
       "      <td>3</td>\n",
       "      <td>2</td>\n",
       "      <td>0</td>\n",
       "      <td>1</td>\n",
       "    </tr>\n",
       "    <tr>\n",
       "      <th>109</th>\n",
       "      <td>6</td>\n",
       "      <td>326.250000</td>\n",
       "      <td>4</td>\n",
       "      <td>94.0</td>\n",
       "      <td>128</td>\n",
       "      <td>5062.213753</td>\n",
       "      <td>0.000855</td>\n",
       "      <td>0.0</td>\n",
       "      <td>0.0</td>\n",
       "      <td>2</td>\n",
       "      <td>2</td>\n",
       "      <td>5</td>\n",
       "      <td>1</td>\n",
       "      <td>3</td>\n",
       "      <td>2</td>\n",
       "      <td>0</td>\n",
       "      <td>1</td>\n",
       "    </tr>\n",
       "    <tr>\n",
       "      <th>187</th>\n",
       "      <td>10</td>\n",
       "      <td>293.778205</td>\n",
       "      <td>2</td>\n",
       "      <td>153.0</td>\n",
       "      <td>96</td>\n",
       "      <td>3283.166739</td>\n",
       "      <td>0.001961</td>\n",
       "      <td>0.0</td>\n",
       "      <td>0.0</td>\n",
       "      <td>5</td>\n",
       "      <td>3</td>\n",
       "      <td>2</td>\n",
       "      <td>6</td>\n",
       "      <td>2</td>\n",
       "      <td>2</td>\n",
       "      <td>1</td>\n",
       "      <td>1</td>\n",
       "    </tr>\n",
       "    <tr>\n",
       "      <th>191</th>\n",
       "      <td>3</td>\n",
       "      <td>1226.000000</td>\n",
       "      <td>5</td>\n",
       "      <td>3.0</td>\n",
       "      <td>24</td>\n",
       "      <td>3230.250000</td>\n",
       "      <td>0.036190</td>\n",
       "      <td>0.0</td>\n",
       "      <td>0.0</td>\n",
       "      <td>5</td>\n",
       "      <td>2</td>\n",
       "      <td>2</td>\n",
       "      <td>1</td>\n",
       "      <td>2</td>\n",
       "      <td>2</td>\n",
       "      <td>0</td>\n",
       "      <td>1</td>\n",
       "    </tr>\n",
       "  </tbody>\n",
       "</table>\n",
       "</div>"
      ],
      "text/plain": [
       "     Administrative  Administrative_Duration  Informational  \\\n",
       "40                1                 9.000000              0   \n",
       "66                4                44.000000              0   \n",
       "109               6               326.250000              4   \n",
       "187              10               293.778205              2   \n",
       "191               3              1226.000000              5   \n",
       "\n",
       "     Informational_Duration  ProductRelated  ProductRelated_Duration  \\\n",
       "40                      0.0              46              4084.393939   \n",
       "66                      0.0              90              6951.972222   \n",
       "109                    94.0             128              5062.213753   \n",
       "187                   153.0              96              3283.166739   \n",
       "191                     3.0              24              3230.250000   \n",
       "\n",
       "     BounceRates  PageValues  SpecialDay  Month  OperatingSystems  Browser  \\\n",
       "40      0.000000         0.0         0.0      2                 2        2   \n",
       "66      0.002151         0.0         0.0      2                 4        1   \n",
       "109     0.000855         0.0         0.0      2                 2        5   \n",
       "187     0.001961         0.0         0.0      5                 3        2   \n",
       "191     0.036190         0.0         0.0      5                 2        2   \n",
       "\n",
       "     Region  TrafficType  VisitorType  Weekend  Cluster_kmean  \n",
       "40        8            4            2        0              1  \n",
       "66        1            3            2        0              1  \n",
       "109       1            3            2        0              1  \n",
       "187       6            2            2        1              1  \n",
       "191       1            2            2        0              1  "
      ]
     },
     "execution_count": 127,
     "metadata": {},
     "output_type": "execute_result"
    }
   ],
   "source": [
    "cluster_1_kmean = x[\"Cluster_kmean\"].isin([1])\n",
    "cluster_1_kmean = x[cluster_1_kmean] \n",
    "cluster_1_kmean.head()"
   ]
  },
  {
   "cell_type": "code",
   "execution_count": 129,
   "metadata": {},
   "outputs": [
    {
     "data": {
      "text/html": [
       "<div>\n",
       "<style scoped>\n",
       "    .dataframe tbody tr th:only-of-type {\n",
       "        vertical-align: middle;\n",
       "    }\n",
       "\n",
       "    .dataframe tbody tr th {\n",
       "        vertical-align: top;\n",
       "    }\n",
       "\n",
       "    .dataframe thead th {\n",
       "        text-align: right;\n",
       "    }\n",
       "</style>\n",
       "<table border=\"1\" class=\"dataframe\">\n",
       "  <thead>\n",
       "    <tr style=\"text-align: right;\">\n",
       "      <th></th>\n",
       "      <th>Administrative</th>\n",
       "      <th>Administrative_Duration</th>\n",
       "      <th>Informational</th>\n",
       "      <th>Informational_Duration</th>\n",
       "      <th>ProductRelated</th>\n",
       "      <th>ProductRelated_Duration</th>\n",
       "      <th>BounceRates</th>\n",
       "      <th>PageValues</th>\n",
       "      <th>SpecialDay</th>\n",
       "      <th>Month</th>\n",
       "      <th>OperatingSystems</th>\n",
       "      <th>Browser</th>\n",
       "      <th>Region</th>\n",
       "      <th>TrafficType</th>\n",
       "      <th>VisitorType</th>\n",
       "      <th>Weekend</th>\n",
       "      <th>Cluster_kmean</th>\n",
       "    </tr>\n",
       "  </thead>\n",
       "  <tbody>\n",
       "    <tr>\n",
       "      <th>5152</th>\n",
       "      <td>17</td>\n",
       "      <td>2629.253968</td>\n",
       "      <td>24</td>\n",
       "      <td>2050.433333</td>\n",
       "      <td>705</td>\n",
       "      <td>43171.23338</td>\n",
       "      <td>0.004851</td>\n",
       "      <td>0.763829</td>\n",
       "      <td>0.0</td>\n",
       "      <td>6</td>\n",
       "      <td>2</td>\n",
       "      <td>2</td>\n",
       "      <td>1</td>\n",
       "      <td>14</td>\n",
       "      <td>2</td>\n",
       "      <td>1</td>\n",
       "      <td>2</td>\n",
       "    </tr>\n",
       "    <tr>\n",
       "      <th>5916</th>\n",
       "      <td>12</td>\n",
       "      <td>245.733333</td>\n",
       "      <td>4</td>\n",
       "      <td>1511.700000</td>\n",
       "      <td>439</td>\n",
       "      <td>21857.04648</td>\n",
       "      <td>0.003589</td>\n",
       "      <td>11.439233</td>\n",
       "      <td>0.0</td>\n",
       "      <td>9</td>\n",
       "      <td>2</td>\n",
       "      <td>2</td>\n",
       "      <td>1</td>\n",
       "      <td>13</td>\n",
       "      <td>2</td>\n",
       "      <td>0</td>\n",
       "      <td>2</td>\n",
       "    </tr>\n",
       "    <tr>\n",
       "      <th>6165</th>\n",
       "      <td>10</td>\n",
       "      <td>2407.423810</td>\n",
       "      <td>3</td>\n",
       "      <td>434.300000</td>\n",
       "      <td>486</td>\n",
       "      <td>23050.10414</td>\n",
       "      <td>0.000324</td>\n",
       "      <td>0.000000</td>\n",
       "      <td>0.0</td>\n",
       "      <td>3</td>\n",
       "      <td>2</td>\n",
       "      <td>2</td>\n",
       "      <td>1</td>\n",
       "      <td>3</td>\n",
       "      <td>2</td>\n",
       "      <td>0</td>\n",
       "      <td>2</td>\n",
       "    </tr>\n",
       "    <tr>\n",
       "      <th>6684</th>\n",
       "      <td>20</td>\n",
       "      <td>199.456273</td>\n",
       "      <td>7</td>\n",
       "      <td>299.033333</td>\n",
       "      <td>686</td>\n",
       "      <td>23342.08205</td>\n",
       "      <td>0.009853</td>\n",
       "      <td>0.150650</td>\n",
       "      <td>0.0</td>\n",
       "      <td>0</td>\n",
       "      <td>2</td>\n",
       "      <td>2</td>\n",
       "      <td>1</td>\n",
       "      <td>1</td>\n",
       "      <td>2</td>\n",
       "      <td>0</td>\n",
       "      <td>2</td>\n",
       "    </tr>\n",
       "    <tr>\n",
       "      <th>7662</th>\n",
       "      <td>10</td>\n",
       "      <td>1251.200000</td>\n",
       "      <td>7</td>\n",
       "      <td>250.000000</td>\n",
       "      <td>414</td>\n",
       "      <td>23888.81000</td>\n",
       "      <td>0.009900</td>\n",
       "      <td>1.033757</td>\n",
       "      <td>0.0</td>\n",
       "      <td>9</td>\n",
       "      <td>2</td>\n",
       "      <td>2</td>\n",
       "      <td>4</td>\n",
       "      <td>13</td>\n",
       "      <td>2</td>\n",
       "      <td>0</td>\n",
       "      <td>2</td>\n",
       "    </tr>\n",
       "  </tbody>\n",
       "</table>\n",
       "</div>"
      ],
      "text/plain": [
       "      Administrative  Administrative_Duration  Informational  \\\n",
       "5152              17              2629.253968             24   \n",
       "5916              12               245.733333              4   \n",
       "6165              10              2407.423810              3   \n",
       "6684              20               199.456273              7   \n",
       "7662              10              1251.200000              7   \n",
       "\n",
       "      Informational_Duration  ProductRelated  ProductRelated_Duration  \\\n",
       "5152             2050.433333             705              43171.23338   \n",
       "5916             1511.700000             439              21857.04648   \n",
       "6165              434.300000             486              23050.10414   \n",
       "6684              299.033333             686              23342.08205   \n",
       "7662              250.000000             414              23888.81000   \n",
       "\n",
       "      BounceRates  PageValues  SpecialDay  Month  OperatingSystems  Browser  \\\n",
       "5152     0.004851    0.763829         0.0      6                 2        2   \n",
       "5916     0.003589   11.439233         0.0      9                 2        2   \n",
       "6165     0.000324    0.000000         0.0      3                 2        2   \n",
       "6684     0.009853    0.150650         0.0      0                 2        2   \n",
       "7662     0.009900    1.033757         0.0      9                 2        2   \n",
       "\n",
       "      Region  TrafficType  VisitorType  Weekend  Cluster_kmean  \n",
       "5152       1           14            2        1              2  \n",
       "5916       1           13            2        0              2  \n",
       "6165       1            3            2        0              2  \n",
       "6684       1            1            2        0              2  \n",
       "7662       4           13            2        0              2  "
      ]
     },
     "execution_count": 129,
     "metadata": {},
     "output_type": "execute_result"
    }
   ],
   "source": [
    "cluster_2_kmean = x[\"Cluster_kmean\"].isin([2])\n",
    "cluster_2_kmean = x[cluster_2_kmean] \n",
    "cluster_2_kmean.head()"
   ]
  },
  {
   "cell_type": "code",
   "execution_count": 130,
   "metadata": {},
   "outputs": [
    {
     "data": {
      "text/html": [
       "<div>\n",
       "<style scoped>\n",
       "    .dataframe tbody tr th:only-of-type {\n",
       "        vertical-align: middle;\n",
       "    }\n",
       "\n",
       "    .dataframe tbody tr th {\n",
       "        vertical-align: top;\n",
       "    }\n",
       "\n",
       "    .dataframe thead th {\n",
       "        text-align: right;\n",
       "    }\n",
       "</style>\n",
       "<table border=\"1\" class=\"dataframe\">\n",
       "  <thead>\n",
       "    <tr style=\"text-align: right;\">\n",
       "      <th></th>\n",
       "      <th>Administrative</th>\n",
       "      <th>Administrative_Duration</th>\n",
       "      <th>Informational</th>\n",
       "      <th>Informational_Duration</th>\n",
       "      <th>ProductRelated</th>\n",
       "      <th>ProductRelated_Duration</th>\n",
       "      <th>BounceRates</th>\n",
       "      <th>PageValues</th>\n",
       "      <th>SpecialDay</th>\n",
       "      <th>Month</th>\n",
       "      <th>OperatingSystems</th>\n",
       "      <th>Browser</th>\n",
       "      <th>Region</th>\n",
       "      <th>TrafficType</th>\n",
       "      <th>VisitorType</th>\n",
       "      <th>Weekend</th>\n",
       "      <th>Cluster_kmean</th>\n",
       "    </tr>\n",
       "  </thead>\n",
       "  <tbody>\n",
       "    <tr>\n",
       "      <th>15</th>\n",
       "      <td>2</td>\n",
       "      <td>53.0</td>\n",
       "      <td>0</td>\n",
       "      <td>0.0</td>\n",
       "      <td>23</td>\n",
       "      <td>1668.285119</td>\n",
       "      <td>0.008333</td>\n",
       "      <td>0.000000</td>\n",
       "      <td>0.0</td>\n",
       "      <td>2</td>\n",
       "      <td>1</td>\n",
       "      <td>1</td>\n",
       "      <td>9</td>\n",
       "      <td>3</td>\n",
       "      <td>2</td>\n",
       "      <td>0</td>\n",
       "      <td>3</td>\n",
       "    </tr>\n",
       "    <tr>\n",
       "      <th>19</th>\n",
       "      <td>0</td>\n",
       "      <td>0.0</td>\n",
       "      <td>0</td>\n",
       "      <td>0.0</td>\n",
       "      <td>20</td>\n",
       "      <td>2981.166667</td>\n",
       "      <td>0.000000</td>\n",
       "      <td>0.000000</td>\n",
       "      <td>0.0</td>\n",
       "      <td>2</td>\n",
       "      <td>2</td>\n",
       "      <td>4</td>\n",
       "      <td>4</td>\n",
       "      <td>4</td>\n",
       "      <td>2</td>\n",
       "      <td>0</td>\n",
       "      <td>3</td>\n",
       "    </tr>\n",
       "    <tr>\n",
       "      <th>26</th>\n",
       "      <td>4</td>\n",
       "      <td>64.6</td>\n",
       "      <td>0</td>\n",
       "      <td>0.0</td>\n",
       "      <td>32</td>\n",
       "      <td>1135.444444</td>\n",
       "      <td>0.002857</td>\n",
       "      <td>0.000000</td>\n",
       "      <td>0.0</td>\n",
       "      <td>2</td>\n",
       "      <td>2</td>\n",
       "      <td>2</td>\n",
       "      <td>1</td>\n",
       "      <td>3</td>\n",
       "      <td>2</td>\n",
       "      <td>0</td>\n",
       "      <td>3</td>\n",
       "    </tr>\n",
       "    <tr>\n",
       "      <th>29</th>\n",
       "      <td>1</td>\n",
       "      <td>6.0</td>\n",
       "      <td>1</td>\n",
       "      <td>0.0</td>\n",
       "      <td>45</td>\n",
       "      <td>1582.750000</td>\n",
       "      <td>0.043478</td>\n",
       "      <td>54.179764</td>\n",
       "      <td>0.4</td>\n",
       "      <td>2</td>\n",
       "      <td>3</td>\n",
       "      <td>2</td>\n",
       "      <td>1</td>\n",
       "      <td>1</td>\n",
       "      <td>2</td>\n",
       "      <td>0</td>\n",
       "      <td>3</td>\n",
       "    </tr>\n",
       "    <tr>\n",
       "      <th>35</th>\n",
       "      <td>0</td>\n",
       "      <td>0.0</td>\n",
       "      <td>0</td>\n",
       "      <td>0.0</td>\n",
       "      <td>52</td>\n",
       "      <td>2086.242857</td>\n",
       "      <td>0.015385</td>\n",
       "      <td>0.000000</td>\n",
       "      <td>0.0</td>\n",
       "      <td>2</td>\n",
       "      <td>2</td>\n",
       "      <td>2</td>\n",
       "      <td>7</td>\n",
       "      <td>1</td>\n",
       "      <td>2</td>\n",
       "      <td>0</td>\n",
       "      <td>3</td>\n",
       "    </tr>\n",
       "  </tbody>\n",
       "</table>\n",
       "</div>"
      ],
      "text/plain": [
       "    Administrative  Administrative_Duration  Informational  \\\n",
       "15               2                     53.0              0   \n",
       "19               0                      0.0              0   \n",
       "26               4                     64.6              0   \n",
       "29               1                      6.0              1   \n",
       "35               0                      0.0              0   \n",
       "\n",
       "    Informational_Duration  ProductRelated  ProductRelated_Duration  \\\n",
       "15                     0.0              23              1668.285119   \n",
       "19                     0.0              20              2981.166667   \n",
       "26                     0.0              32              1135.444444   \n",
       "29                     0.0              45              1582.750000   \n",
       "35                     0.0              52              2086.242857   \n",
       "\n",
       "    BounceRates  PageValues  SpecialDay  Month  OperatingSystems  Browser  \\\n",
       "15     0.008333    0.000000         0.0      2                 1        1   \n",
       "19     0.000000    0.000000         0.0      2                 2        4   \n",
       "26     0.002857    0.000000         0.0      2                 2        2   \n",
       "29     0.043478   54.179764         0.4      2                 3        2   \n",
       "35     0.015385    0.000000         0.0      2                 2        2   \n",
       "\n",
       "    Region  TrafficType  VisitorType  Weekend  Cluster_kmean  \n",
       "15       9            3            2        0              3  \n",
       "19       4            4            2        0              3  \n",
       "26       1            3            2        0              3  \n",
       "29       1            1            2        0              3  \n",
       "35       7            1            2        0              3  "
      ]
     },
     "execution_count": 130,
     "metadata": {},
     "output_type": "execute_result"
    }
   ],
   "source": [
    "cluster_3_kmean = x[\"Cluster_kmean\"].isin([3])\n",
    "cluster_3_kmean = x[cluster_3_kmean] \n",
    "cluster_3_kmean.head()"
   ]
  },
  {
   "cell_type": "code",
   "execution_count": 131,
   "metadata": {},
   "outputs": [
    {
     "data": {
      "text/html": [
       "<div>\n",
       "<style scoped>\n",
       "    .dataframe tbody tr th:only-of-type {\n",
       "        vertical-align: middle;\n",
       "    }\n",
       "\n",
       "    .dataframe tbody tr th {\n",
       "        vertical-align: top;\n",
       "    }\n",
       "\n",
       "    .dataframe thead th {\n",
       "        text-align: right;\n",
       "    }\n",
       "</style>\n",
       "<table border=\"1\" class=\"dataframe\">\n",
       "  <thead>\n",
       "    <tr style=\"text-align: right;\">\n",
       "      <th></th>\n",
       "      <th>Administrative</th>\n",
       "      <th>Administrative_Duration</th>\n",
       "      <th>Informational</th>\n",
       "      <th>Informational_Duration</th>\n",
       "      <th>ProductRelated</th>\n",
       "      <th>ProductRelated_Duration</th>\n",
       "      <th>BounceRates</th>\n",
       "      <th>PageValues</th>\n",
       "      <th>SpecialDay</th>\n",
       "      <th>Month</th>\n",
       "      <th>OperatingSystems</th>\n",
       "      <th>Browser</th>\n",
       "      <th>Region</th>\n",
       "      <th>TrafficType</th>\n",
       "      <th>VisitorType</th>\n",
       "      <th>Weekend</th>\n",
       "      <th>Cluster_kmean</th>\n",
       "    </tr>\n",
       "  </thead>\n",
       "  <tbody>\n",
       "    <tr>\n",
       "      <th>510</th>\n",
       "      <td>14</td>\n",
       "      <td>416.392857</td>\n",
       "      <td>6</td>\n",
       "      <td>449.333333</td>\n",
       "      <td>258</td>\n",
       "      <td>11301.204160</td>\n",
       "      <td>0.000000</td>\n",
       "      <td>33.611792</td>\n",
       "      <td>0.0</td>\n",
       "      <td>5</td>\n",
       "      <td>2</td>\n",
       "      <td>4</td>\n",
       "      <td>9</td>\n",
       "      <td>2</td>\n",
       "      <td>2</td>\n",
       "      <td>0</td>\n",
       "      <td>4</td>\n",
       "    </tr>\n",
       "    <tr>\n",
       "      <th>799</th>\n",
       "      <td>10</td>\n",
       "      <td>316.140502</td>\n",
       "      <td>7</td>\n",
       "      <td>321.666667</td>\n",
       "      <td>287</td>\n",
       "      <td>12983.787710</td>\n",
       "      <td>0.000669</td>\n",
       "      <td>1.088158</td>\n",
       "      <td>0.0</td>\n",
       "      <td>5</td>\n",
       "      <td>2</td>\n",
       "      <td>4</td>\n",
       "      <td>3</td>\n",
       "      <td>8</td>\n",
       "      <td>0</td>\n",
       "      <td>0</td>\n",
       "      <td>4</td>\n",
       "    </tr>\n",
       "    <tr>\n",
       "      <th>1037</th>\n",
       "      <td>1</td>\n",
       "      <td>24.000000</td>\n",
       "      <td>3</td>\n",
       "      <td>125.500000</td>\n",
       "      <td>65</td>\n",
       "      <td>8646.000000</td>\n",
       "      <td>0.000000</td>\n",
       "      <td>0.000000</td>\n",
       "      <td>0.0</td>\n",
       "      <td>5</td>\n",
       "      <td>2</td>\n",
       "      <td>2</td>\n",
       "      <td>1</td>\n",
       "      <td>13</td>\n",
       "      <td>2</td>\n",
       "      <td>1</td>\n",
       "      <td>4</td>\n",
       "    </tr>\n",
       "    <tr>\n",
       "      <th>1146</th>\n",
       "      <td>3</td>\n",
       "      <td>184.688889</td>\n",
       "      <td>0</td>\n",
       "      <td>0.000000</td>\n",
       "      <td>129</td>\n",
       "      <td>7669.250794</td>\n",
       "      <td>0.000000</td>\n",
       "      <td>0.000000</td>\n",
       "      <td>0.0</td>\n",
       "      <td>5</td>\n",
       "      <td>2</td>\n",
       "      <td>2</td>\n",
       "      <td>8</td>\n",
       "      <td>13</td>\n",
       "      <td>2</td>\n",
       "      <td>0</td>\n",
       "      <td>4</td>\n",
       "    </tr>\n",
       "    <tr>\n",
       "      <th>1207</th>\n",
       "      <td>5</td>\n",
       "      <td>710.333333</td>\n",
       "      <td>0</td>\n",
       "      <td>0.000000</td>\n",
       "      <td>23</td>\n",
       "      <td>7533.272727</td>\n",
       "      <td>0.000000</td>\n",
       "      <td>0.000000</td>\n",
       "      <td>0.0</td>\n",
       "      <td>5</td>\n",
       "      <td>2</td>\n",
       "      <td>2</td>\n",
       "      <td>1</td>\n",
       "      <td>2</td>\n",
       "      <td>2</td>\n",
       "      <td>0</td>\n",
       "      <td>4</td>\n",
       "    </tr>\n",
       "  </tbody>\n",
       "</table>\n",
       "</div>"
      ],
      "text/plain": [
       "      Administrative  Administrative_Duration  Informational  \\\n",
       "510               14               416.392857              6   \n",
       "799               10               316.140502              7   \n",
       "1037               1                24.000000              3   \n",
       "1146               3               184.688889              0   \n",
       "1207               5               710.333333              0   \n",
       "\n",
       "      Informational_Duration  ProductRelated  ProductRelated_Duration  \\\n",
       "510               449.333333             258             11301.204160   \n",
       "799               321.666667             287             12983.787710   \n",
       "1037              125.500000              65              8646.000000   \n",
       "1146                0.000000             129              7669.250794   \n",
       "1207                0.000000              23              7533.272727   \n",
       "\n",
       "      BounceRates  PageValues  SpecialDay  Month  OperatingSystems  Browser  \\\n",
       "510      0.000000   33.611792         0.0      5                 2        4   \n",
       "799      0.000669    1.088158         0.0      5                 2        4   \n",
       "1037     0.000000    0.000000         0.0      5                 2        2   \n",
       "1146     0.000000    0.000000         0.0      5                 2        2   \n",
       "1207     0.000000    0.000000         0.0      5                 2        2   \n",
       "\n",
       "      Region  TrafficType  VisitorType  Weekend  Cluster_kmean  \n",
       "510        9            2            2        0              4  \n",
       "799        3            8            0        0              4  \n",
       "1037       1           13            2        1              4  \n",
       "1146       8           13            2        0              4  \n",
       "1207       1            2            2        0              4  "
      ]
     },
     "execution_count": 131,
     "metadata": {},
     "output_type": "execute_result"
    }
   ],
   "source": [
    "cluster_4_kmean = x[\"Cluster_kmean\"].isin([4])\n",
    "cluster_4_kmean = x[cluster_4_kmean] \n",
    "cluster_4_kmean.head()"
   ]
  },
  {
   "cell_type": "code",
   "execution_count": 87,
   "metadata": {},
   "outputs": [
    {
     "data": {
      "image/png": "[encoded data removed]",
      "text/plain": [
       "<Figure size 432x288 with 1 Axes>"
      ]
     },
     "metadata": {},
     "output_type": "display_data"
    }
   ],
   "source": [
    "# Using the dendrogram to find the optimal number of clusters\n",
    "import scipy.cluster.hierarchy as sch\n",
    "dendrogram = sch.dendrogram(sch.linkage(x, method = 'ward'))\n",
    "plt.title('Dendrogram')\n",
    "plt.xlabel('Visits')\n",
    "plt.ylabel('Euclidean distances')\n",
    "plt.show()"
   ]
  },
  {
   "cell_type": "code",
   "execution_count": 88,
   "metadata": {},
   "outputs": [],
   "source": [
    "# Fitting Hierarchical Clustering to the dataset\n",
    "from sklearn.cluster import AgglomerativeClustering\n",
    "hc = AgglomerativeClustering(n_clusters = 3, affinity = 'euclidean', linkage = 'ward')\n",
    "y_hc = hc.fit_predict(x)"
   ]
  },
  {
   "cell_type": "code",
   "execution_count": 137,
   "metadata": {},
   "outputs": [
    {
     "data": {
      "text/plain": [
       "array([1, 2, 0], dtype=int64)"
      ]
     },
     "execution_count": 137,
     "metadata": {},
     "output_type": "execute_result"
    }
   ],
   "source": [
    "x['Cluster_hc'].unique()"
   ]
  },
  {
   "cell_type": "code",
   "execution_count": null,
   "metadata": {},
   "outputs": [],
   "source": [
    "x['Cluster_hc'] = pd.Series(hc.labels_)"
   ]
  },
  {
   "cell_type": "code",
   "execution_count": 138,
   "metadata": {},
   "outputs": [
    {
     "data": {
      "text/html": [
       "<div>\n",
       "<style scoped>\n",
       "    .dataframe tbody tr th:only-of-type {\n",
       "        vertical-align: middle;\n",
       "    }\n",
       "\n",
       "    .dataframe tbody tr th {\n",
       "        vertical-align: top;\n",
       "    }\n",
       "\n",
       "    .dataframe thead th {\n",
       "        text-align: right;\n",
       "    }\n",
       "</style>\n",
       "<table border=\"1\" class=\"dataframe\">\n",
       "  <thead>\n",
       "    <tr style=\"text-align: right;\">\n",
       "      <th></th>\n",
       "      <th>Administrative</th>\n",
       "      <th>Administrative_Duration</th>\n",
       "      <th>Informational</th>\n",
       "      <th>Informational_Duration</th>\n",
       "      <th>ProductRelated</th>\n",
       "      <th>ProductRelated_Duration</th>\n",
       "      <th>BounceRates</th>\n",
       "      <th>PageValues</th>\n",
       "      <th>SpecialDay</th>\n",
       "      <th>Month</th>\n",
       "      <th>OperatingSystems</th>\n",
       "      <th>Browser</th>\n",
       "      <th>Region</th>\n",
       "      <th>TrafficType</th>\n",
       "      <th>VisitorType</th>\n",
       "      <th>Weekend</th>\n",
       "      <th>Cluster_kmean</th>\n",
       "      <th>Cluster_hc</th>\n",
       "    </tr>\n",
       "  </thead>\n",
       "  <tbody>\n",
       "    <tr>\n",
       "      <th>66</th>\n",
       "      <td>4</td>\n",
       "      <td>44.000000</td>\n",
       "      <td>0</td>\n",
       "      <td>0.000000</td>\n",
       "      <td>90</td>\n",
       "      <td>6951.972222</td>\n",
       "      <td>0.002151</td>\n",
       "      <td>0.000000</td>\n",
       "      <td>0.0</td>\n",
       "      <td>2</td>\n",
       "      <td>4</td>\n",
       "      <td>1</td>\n",
       "      <td>1</td>\n",
       "      <td>3</td>\n",
       "      <td>2</td>\n",
       "      <td>0</td>\n",
       "      <td>1</td>\n",
       "      <td>0</td>\n",
       "    </tr>\n",
       "    <tr>\n",
       "      <th>510</th>\n",
       "      <td>14</td>\n",
       "      <td>416.392857</td>\n",
       "      <td>6</td>\n",
       "      <td>449.333333</td>\n",
       "      <td>258</td>\n",
       "      <td>11301.204160</td>\n",
       "      <td>0.000000</td>\n",
       "      <td>33.611792</td>\n",
       "      <td>0.0</td>\n",
       "      <td>5</td>\n",
       "      <td>2</td>\n",
       "      <td>4</td>\n",
       "      <td>9</td>\n",
       "      <td>2</td>\n",
       "      <td>2</td>\n",
       "      <td>0</td>\n",
       "      <td>4</td>\n",
       "      <td>0</td>\n",
       "    </tr>\n",
       "    <tr>\n",
       "      <th>611</th>\n",
       "      <td>16</td>\n",
       "      <td>315.144986</td>\n",
       "      <td>6</td>\n",
       "      <td>147.866667</td>\n",
       "      <td>173</td>\n",
       "      <td>6255.017866</td>\n",
       "      <td>0.002531</td>\n",
       "      <td>0.000000</td>\n",
       "      <td>0.0</td>\n",
       "      <td>5</td>\n",
       "      <td>2</td>\n",
       "      <td>2</td>\n",
       "      <td>2</td>\n",
       "      <td>2</td>\n",
       "      <td>2</td>\n",
       "      <td>0</td>\n",
       "      <td>1</td>\n",
       "      <td>0</td>\n",
       "    </tr>\n",
       "    <tr>\n",
       "      <th>619</th>\n",
       "      <td>13</td>\n",
       "      <td>374.875000</td>\n",
       "      <td>1</td>\n",
       "      <td>53.000000</td>\n",
       "      <td>88</td>\n",
       "      <td>5958.071931</td>\n",
       "      <td>0.002105</td>\n",
       "      <td>0.000000</td>\n",
       "      <td>0.0</td>\n",
       "      <td>5</td>\n",
       "      <td>2</td>\n",
       "      <td>2</td>\n",
       "      <td>3</td>\n",
       "      <td>2</td>\n",
       "      <td>2</td>\n",
       "      <td>0</td>\n",
       "      <td>1</td>\n",
       "      <td>0</td>\n",
       "    </tr>\n",
       "    <tr>\n",
       "      <th>769</th>\n",
       "      <td>15</td>\n",
       "      <td>937.174603</td>\n",
       "      <td>3</td>\n",
       "      <td>357.000000</td>\n",
       "      <td>109</td>\n",
       "      <td>6682.677557</td>\n",
       "      <td>0.000833</td>\n",
       "      <td>2.526617</td>\n",
       "      <td>0.0</td>\n",
       "      <td>5</td>\n",
       "      <td>1</td>\n",
       "      <td>2</td>\n",
       "      <td>3</td>\n",
       "      <td>2</td>\n",
       "      <td>2</td>\n",
       "      <td>0</td>\n",
       "      <td>1</td>\n",
       "      <td>0</td>\n",
       "    </tr>\n",
       "  </tbody>\n",
       "</table>\n",
       "</div>"
      ],
      "text/plain": [
       "     Administrative  Administrative_Duration  Informational  \\\n",
       "66                4                44.000000              0   \n",
       "510              14               416.392857              6   \n",
       "611              16               315.144986              6   \n",
       "619              13               374.875000              1   \n",
       "769              15               937.174603              3   \n",
       "\n",
       "     Informational_Duration  ProductRelated  ProductRelated_Duration  \\\n",
       "66                 0.000000              90              6951.972222   \n",
       "510              449.333333             258             11301.204160   \n",
       "611              147.866667             173              6255.017866   \n",
       "619               53.000000              88              5958.071931   \n",
       "769              357.000000             109              6682.677557   \n",
       "\n",
       "     BounceRates  PageValues  SpecialDay  Month  OperatingSystems  Browser  \\\n",
       "66      0.002151    0.000000         0.0      2                 4        1   \n",
       "510     0.000000   33.611792         0.0      5                 2        4   \n",
       "611     0.002531    0.000000         0.0      5                 2        2   \n",
       "619     0.002105    0.000000         0.0      5                 2        2   \n",
       "769     0.000833    2.526617         0.0      5                 1        2   \n",
       "\n",
       "     Region  TrafficType  VisitorType  Weekend  Cluster_kmean  Cluster_hc  \n",
       "66        1            3            2        0              1           0  \n",
       "510       9            2            2        0              4           0  \n",
       "611       2            2            2        0              1           0  \n",
       "619       3            2            2        0              1           0  \n",
       "769       3            2            2        0              1           0  "
      ]
     },
     "execution_count": 138,
     "metadata": {},
     "output_type": "execute_result"
    }
   ],
   "source": [
    "cluster_0_hc = x[\"Cluster_hc\"].isin([0])\n",
    "cluster_0_hc = x[cluster_0_hc] \n",
    "cluster_0_hc.head()"
   ]
  },
  {
   "cell_type": "code",
   "execution_count": 139,
   "metadata": {},
   "outputs": [
    {
     "data": {
      "text/html": [
       "<div>\n",
       "<style scoped>\n",
       "    .dataframe tbody tr th:only-of-type {\n",
       "        vertical-align: middle;\n",
       "    }\n",
       "\n",
       "    .dataframe tbody tr th {\n",
       "        vertical-align: top;\n",
       "    }\n",
       "\n",
       "    .dataframe thead th {\n",
       "        text-align: right;\n",
       "    }\n",
       "</style>\n",
       "<table border=\"1\" class=\"dataframe\">\n",
       "  <thead>\n",
       "    <tr style=\"text-align: right;\">\n",
       "      <th></th>\n",
       "      <th>Administrative</th>\n",
       "      <th>Administrative_Duration</th>\n",
       "      <th>Informational</th>\n",
       "      <th>Informational_Duration</th>\n",
       "      <th>ProductRelated</th>\n",
       "      <th>ProductRelated_Duration</th>\n",
       "      <th>BounceRates</th>\n",
       "      <th>PageValues</th>\n",
       "      <th>SpecialDay</th>\n",
       "      <th>Month</th>\n",
       "      <th>OperatingSystems</th>\n",
       "      <th>Browser</th>\n",
       "      <th>Region</th>\n",
       "      <th>TrafficType</th>\n",
       "      <th>VisitorType</th>\n",
       "      <th>Weekend</th>\n",
       "      <th>Cluster_kmean</th>\n",
       "      <th>Cluster_hc</th>\n",
       "    </tr>\n",
       "  </thead>\n",
       "  <tbody>\n",
       "    <tr>\n",
       "      <th>0</th>\n",
       "      <td>0</td>\n",
       "      <td>0.0</td>\n",
       "      <td>0</td>\n",
       "      <td>0.0</td>\n",
       "      <td>1</td>\n",
       "      <td>0.000000</td>\n",
       "      <td>0.20</td>\n",
       "      <td>0.0</td>\n",
       "      <td>0.0</td>\n",
       "      <td>2</td>\n",
       "      <td>1</td>\n",
       "      <td>1</td>\n",
       "      <td>1</td>\n",
       "      <td>1</td>\n",
       "      <td>2</td>\n",
       "      <td>0</td>\n",
       "      <td>0</td>\n",
       "      <td>1</td>\n",
       "    </tr>\n",
       "    <tr>\n",
       "      <th>1</th>\n",
       "      <td>0</td>\n",
       "      <td>0.0</td>\n",
       "      <td>0</td>\n",
       "      <td>0.0</td>\n",
       "      <td>2</td>\n",
       "      <td>64.000000</td>\n",
       "      <td>0.00</td>\n",
       "      <td>0.0</td>\n",
       "      <td>0.0</td>\n",
       "      <td>2</td>\n",
       "      <td>2</td>\n",
       "      <td>2</td>\n",
       "      <td>1</td>\n",
       "      <td>2</td>\n",
       "      <td>2</td>\n",
       "      <td>0</td>\n",
       "      <td>0</td>\n",
       "      <td>1</td>\n",
       "    </tr>\n",
       "    <tr>\n",
       "      <th>2</th>\n",
       "      <td>0</td>\n",
       "      <td>0.0</td>\n",
       "      <td>0</td>\n",
       "      <td>0.0</td>\n",
       "      <td>1</td>\n",
       "      <td>0.000000</td>\n",
       "      <td>0.20</td>\n",
       "      <td>0.0</td>\n",
       "      <td>0.0</td>\n",
       "      <td>2</td>\n",
       "      <td>4</td>\n",
       "      <td>1</td>\n",
       "      <td>9</td>\n",
       "      <td>3</td>\n",
       "      <td>2</td>\n",
       "      <td>0</td>\n",
       "      <td>0</td>\n",
       "      <td>1</td>\n",
       "    </tr>\n",
       "    <tr>\n",
       "      <th>3</th>\n",
       "      <td>0</td>\n",
       "      <td>0.0</td>\n",
       "      <td>0</td>\n",
       "      <td>0.0</td>\n",
       "      <td>2</td>\n",
       "      <td>2.666667</td>\n",
       "      <td>0.05</td>\n",
       "      <td>0.0</td>\n",
       "      <td>0.0</td>\n",
       "      <td>2</td>\n",
       "      <td>3</td>\n",
       "      <td>2</td>\n",
       "      <td>2</td>\n",
       "      <td>4</td>\n",
       "      <td>2</td>\n",
       "      <td>0</td>\n",
       "      <td>0</td>\n",
       "      <td>1</td>\n",
       "    </tr>\n",
       "    <tr>\n",
       "      <th>4</th>\n",
       "      <td>0</td>\n",
       "      <td>0.0</td>\n",
       "      <td>0</td>\n",
       "      <td>0.0</td>\n",
       "      <td>10</td>\n",
       "      <td>627.500000</td>\n",
       "      <td>0.02</td>\n",
       "      <td>0.0</td>\n",
       "      <td>0.0</td>\n",
       "      <td>2</td>\n",
       "      <td>3</td>\n",
       "      <td>3</td>\n",
       "      <td>1</td>\n",
       "      <td>4</td>\n",
       "      <td>2</td>\n",
       "      <td>1</td>\n",
       "      <td>0</td>\n",
       "      <td>1</td>\n",
       "    </tr>\n",
       "  </tbody>\n",
       "</table>\n",
       "</div>"
      ],
      "text/plain": [
       "   Administrative  Administrative_Duration  Informational  \\\n",
       "0               0                      0.0              0   \n",
       "1               0                      0.0              0   \n",
       "2               0                      0.0              0   \n",
       "3               0                      0.0              0   \n",
       "4               0                      0.0              0   \n",
       "\n",
       "   Informational_Duration  ProductRelated  ProductRelated_Duration  \\\n",
       "0                     0.0               1                 0.000000   \n",
       "1                     0.0               2                64.000000   \n",
       "2                     0.0               1                 0.000000   \n",
       "3                     0.0               2                 2.666667   \n",
       "4                     0.0              10               627.500000   \n",
       "\n",
       "   BounceRates  PageValues  SpecialDay  Month  OperatingSystems  Browser  \\\n",
       "0         0.20         0.0         0.0      2                 1        1   \n",
       "1         0.00         0.0         0.0      2                 2        2   \n",
       "2         0.20         0.0         0.0      2                 4        1   \n",
       "3         0.05         0.0         0.0      2                 3        2   \n",
       "4         0.02         0.0         0.0      2                 3        3   \n",
       "\n",
       "   Region  TrafficType  VisitorType  Weekend  Cluster_kmean  Cluster_hc  \n",
       "0       1            1            2        0              0           1  \n",
       "1       1            2            2        0              0           1  \n",
       "2       9            3            2        0              0           1  \n",
       "3       2            4            2        0              0           1  \n",
       "4       1            4            2        1              0           1  "
      ]
     },
     "execution_count": 139,
     "metadata": {},
     "output_type": "execute_result"
    }
   ],
   "source": [
    "cluster_1_hc = x[\"Cluster_hc\"].isin([1])\n",
    "cluster_1_hc = x[cluster_1_hc] \n",
    "cluster_1_hc.head()"
   ]
  },
  {
   "cell_type": "code",
   "execution_count": 140,
   "metadata": {},
   "outputs": [
    {
     "data": {
      "text/html": [
       "<div>\n",
       "<style scoped>\n",
       "    .dataframe tbody tr th:only-of-type {\n",
       "        vertical-align: middle;\n",
       "    }\n",
       "\n",
       "    .dataframe tbody tr th {\n",
       "        vertical-align: top;\n",
       "    }\n",
       "\n",
       "    .dataframe thead th {\n",
       "        text-align: right;\n",
       "    }\n",
       "</style>\n",
       "<table border=\"1\" class=\"dataframe\">\n",
       "  <thead>\n",
       "    <tr style=\"text-align: right;\">\n",
       "      <th></th>\n",
       "      <th>Administrative</th>\n",
       "      <th>Administrative_Duration</th>\n",
       "      <th>Informational</th>\n",
       "      <th>Informational_Duration</th>\n",
       "      <th>ProductRelated</th>\n",
       "      <th>ProductRelated_Duration</th>\n",
       "      <th>BounceRates</th>\n",
       "      <th>PageValues</th>\n",
       "      <th>SpecialDay</th>\n",
       "      <th>Month</th>\n",
       "      <th>OperatingSystems</th>\n",
       "      <th>Browser</th>\n",
       "      <th>Region</th>\n",
       "      <th>TrafficType</th>\n",
       "      <th>VisitorType</th>\n",
       "      <th>Weekend</th>\n",
       "      <th>Cluster_kmean</th>\n",
       "      <th>Cluster_hc</th>\n",
       "    </tr>\n",
       "  </thead>\n",
       "  <tbody>\n",
       "    <tr>\n",
       "      <th>19</th>\n",
       "      <td>0</td>\n",
       "      <td>0.000000</td>\n",
       "      <td>0</td>\n",
       "      <td>0.0</td>\n",
       "      <td>20</td>\n",
       "      <td>2981.166667</td>\n",
       "      <td>0.000000</td>\n",
       "      <td>0.0</td>\n",
       "      <td>0.0</td>\n",
       "      <td>2</td>\n",
       "      <td>2</td>\n",
       "      <td>4</td>\n",
       "      <td>4</td>\n",
       "      <td>4</td>\n",
       "      <td>2</td>\n",
       "      <td>0</td>\n",
       "      <td>3</td>\n",
       "      <td>2</td>\n",
       "    </tr>\n",
       "    <tr>\n",
       "      <th>40</th>\n",
       "      <td>1</td>\n",
       "      <td>9.000000</td>\n",
       "      <td>0</td>\n",
       "      <td>0.0</td>\n",
       "      <td>46</td>\n",
       "      <td>4084.393939</td>\n",
       "      <td>0.000000</td>\n",
       "      <td>0.0</td>\n",
       "      <td>0.0</td>\n",
       "      <td>2</td>\n",
       "      <td>2</td>\n",
       "      <td>2</td>\n",
       "      <td>8</td>\n",
       "      <td>4</td>\n",
       "      <td>2</td>\n",
       "      <td>0</td>\n",
       "      <td>1</td>\n",
       "      <td>2</td>\n",
       "    </tr>\n",
       "    <tr>\n",
       "      <th>100</th>\n",
       "      <td>3</td>\n",
       "      <td>18.333333</td>\n",
       "      <td>0</td>\n",
       "      <td>0.0</td>\n",
       "      <td>38</td>\n",
       "      <td>2635.177778</td>\n",
       "      <td>0.000000</td>\n",
       "      <td>0.0</td>\n",
       "      <td>0.4</td>\n",
       "      <td>2</td>\n",
       "      <td>2</td>\n",
       "      <td>4</td>\n",
       "      <td>1</td>\n",
       "      <td>2</td>\n",
       "      <td>2</td>\n",
       "      <td>0</td>\n",
       "      <td>3</td>\n",
       "      <td>2</td>\n",
       "    </tr>\n",
       "    <tr>\n",
       "      <th>109</th>\n",
       "      <td>6</td>\n",
       "      <td>326.250000</td>\n",
       "      <td>4</td>\n",
       "      <td>94.0</td>\n",
       "      <td>128</td>\n",
       "      <td>5062.213753</td>\n",
       "      <td>0.000855</td>\n",
       "      <td>0.0</td>\n",
       "      <td>0.0</td>\n",
       "      <td>2</td>\n",
       "      <td>2</td>\n",
       "      <td>5</td>\n",
       "      <td>1</td>\n",
       "      <td>3</td>\n",
       "      <td>2</td>\n",
       "      <td>0</td>\n",
       "      <td>1</td>\n",
       "      <td>2</td>\n",
       "    </tr>\n",
       "    <tr>\n",
       "      <th>187</th>\n",
       "      <td>10</td>\n",
       "      <td>293.778205</td>\n",
       "      <td>2</td>\n",
       "      <td>153.0</td>\n",
       "      <td>96</td>\n",
       "      <td>3283.166739</td>\n",
       "      <td>0.001961</td>\n",
       "      <td>0.0</td>\n",
       "      <td>0.0</td>\n",
       "      <td>5</td>\n",
       "      <td>3</td>\n",
       "      <td>2</td>\n",
       "      <td>6</td>\n",
       "      <td>2</td>\n",
       "      <td>2</td>\n",
       "      <td>1</td>\n",
       "      <td>1</td>\n",
       "      <td>2</td>\n",
       "    </tr>\n",
       "  </tbody>\n",
       "</table>\n",
       "</div>"
      ],
      "text/plain": [
       "     Administrative  Administrative_Duration  Informational  \\\n",
       "19                0                 0.000000              0   \n",
       "40                1                 9.000000              0   \n",
       "100               3                18.333333              0   \n",
       "109               6               326.250000              4   \n",
       "187              10               293.778205              2   \n",
       "\n",
       "     Informational_Duration  ProductRelated  ProductRelated_Duration  \\\n",
       "19                      0.0              20              2981.166667   \n",
       "40                      0.0              46              4084.393939   \n",
       "100                     0.0              38              2635.177778   \n",
       "109                    94.0             128              5062.213753   \n",
       "187                   153.0              96              3283.166739   \n",
       "\n",
       "     BounceRates  PageValues  SpecialDay  Month  OperatingSystems  Browser  \\\n",
       "19      0.000000         0.0         0.0      2                 2        4   \n",
       "40      0.000000         0.0         0.0      2                 2        2   \n",
       "100     0.000000         0.0         0.4      2                 2        4   \n",
       "109     0.000855         0.0         0.0      2                 2        5   \n",
       "187     0.001961         0.0         0.0      5                 3        2   \n",
       "\n",
       "     Region  TrafficType  VisitorType  Weekend  Cluster_kmean  Cluster_hc  \n",
       "19        4            4            2        0              3           2  \n",
       "40        8            4            2        0              1           2  \n",
       "100       1            2            2        0              3           2  \n",
       "109       1            3            2        0              1           2  \n",
       "187       6            2            2        1              1           2  "
      ]
     },
     "execution_count": 140,
     "metadata": {},
     "output_type": "execute_result"
    }
   ],
   "source": [
    "cluster_2_hc = x[\"Cluster_hc\"].isin([2])\n",
    "cluster_2_hc = x[cluster_2_hc] \n",
    "cluster_2_hc.head()"
   ]
  }
 ],
 "metadata": {
  "kernelspec": {
   "display_name": "Python 3",
   "language": "python",
   "name": "python3"
  },
  "language_info": {
   "codemirror_mode": {
    "name": "ipython",
    "version": 3
   },
   "file_extension": ".py",
   "mimetype": "text/x-python",
   "name": "python",
   "nbconvert_exporter": "python",
   "pygments_lexer": "ipython3",
   "version": "3.6.5"
  }
 },
 "nbformat": 4,
 "nbformat_minor": 2
}
