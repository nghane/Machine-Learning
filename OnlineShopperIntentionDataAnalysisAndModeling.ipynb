{
 "cells": [
  {
   "cell_type": "code",
   "execution_count": 2,
   "metadata": {},
   "outputs": [],
   "source": [
    "import seaborn as sns\n",
    "import pandas as pd\n",
    "import os\n",
    "import matplotlib.pyplot as plt\n",
    "import numpy as np\n",
    "from sklearn import metrics \n",
    "from sklearn.model_selection import cross_val_score"
   ]
  },
  {
   "cell_type": "code",
   "execution_count": 3,
   "metadata": {},
   "outputs": [],
   "source": [
    "os.chdir(\"C:\\\\Nastaran\\\\Spring2019\\\\Python\\\\Online_shoppers_intention\")"
   ]
  },
  {
   "cell_type": "code",
   "execution_count": 4,
   "metadata": {},
   "outputs": [
    {
     "data": {
      "text/html": [
       "<div>\n",
       "<style scoped>\n",
       "    .dataframe tbody tr th:only-of-type {\n",
       "        vertical-align: middle;\n",
       "    }\n",
       "\n",
       "    .dataframe tbody tr th {\n",
       "        vertical-align: top;\n",
       "    }\n",
       "\n",
       "    .dataframe thead th {\n",
       "        text-align: right;\n",
       "    }\n",
       "</style>\n",
       "<table border=\"1\" class=\"dataframe\">\n",
       "  <thead>\n",
       "    <tr style=\"text-align: right;\">\n",
       "      <th></th>\n",
       "      <th>Administrative</th>\n",
       "      <th>Administrative_Duration</th>\n",
       "      <th>Informational</th>\n",
       "      <th>Informational_Duration</th>\n",
       "      <th>ProductRelated</th>\n",
       "      <th>ProductRelated_Duration</th>\n",
       "      <th>BounceRates</th>\n",
       "      <th>ExitRates</th>\n",
       "      <th>PageValues</th>\n",
       "      <th>SpecialDay</th>\n",
       "      <th>Month</th>\n",
       "      <th>OperatingSystems</th>\n",
       "      <th>Browser</th>\n",
       "      <th>Region</th>\n",
       "      <th>TrafficType</th>\n",
       "      <th>VisitorType</th>\n",
       "      <th>Weekend</th>\n",
       "      <th>Revenue</th>\n",
       "    </tr>\n",
       "  </thead>\n",
       "  <tbody>\n",
       "    <tr>\n",
       "      <th>0</th>\n",
       "      <td>0</td>\n",
       "      <td>0.0</td>\n",
       "      <td>0</td>\n",
       "      <td>0.0</td>\n",
       "      <td>1</td>\n",
       "      <td>0.000000</td>\n",
       "      <td>0.20</td>\n",
       "      <td>0.20</td>\n",
       "      <td>0.0</td>\n",
       "      <td>0.0</td>\n",
       "      <td>Feb</td>\n",
       "      <td>1</td>\n",
       "      <td>1</td>\n",
       "      <td>1</td>\n",
       "      <td>1</td>\n",
       "      <td>Returning_Visitor</td>\n",
       "      <td>False</td>\n",
       "      <td>False</td>\n",
       "    </tr>\n",
       "    <tr>\n",
       "      <th>1</th>\n",
       "      <td>0</td>\n",
       "      <td>0.0</td>\n",
       "      <td>0</td>\n",
       "      <td>0.0</td>\n",
       "      <td>2</td>\n",
       "      <td>64.000000</td>\n",
       "      <td>0.00</td>\n",
       "      <td>0.10</td>\n",
       "      <td>0.0</td>\n",
       "      <td>0.0</td>\n",
       "      <td>Feb</td>\n",
       "      <td>2</td>\n",
       "      <td>2</td>\n",
       "      <td>1</td>\n",
       "      <td>2</td>\n",
       "      <td>Returning_Visitor</td>\n",
       "      <td>False</td>\n",
       "      <td>False</td>\n",
       "    </tr>\n",
       "    <tr>\n",
       "      <th>2</th>\n",
       "      <td>0</td>\n",
       "      <td>0.0</td>\n",
       "      <td>0</td>\n",
       "      <td>0.0</td>\n",
       "      <td>1</td>\n",
       "      <td>0.000000</td>\n",
       "      <td>0.20</td>\n",
       "      <td>0.20</td>\n",
       "      <td>0.0</td>\n",
       "      <td>0.0</td>\n",
       "      <td>Feb</td>\n",
       "      <td>4</td>\n",
       "      <td>1</td>\n",
       "      <td>9</td>\n",
       "      <td>3</td>\n",
       "      <td>Returning_Visitor</td>\n",
       "      <td>False</td>\n",
       "      <td>False</td>\n",
       "    </tr>\n",
       "    <tr>\n",
       "      <th>3</th>\n",
       "      <td>0</td>\n",
       "      <td>0.0</td>\n",
       "      <td>0</td>\n",
       "      <td>0.0</td>\n",
       "      <td>2</td>\n",
       "      <td>2.666667</td>\n",
       "      <td>0.05</td>\n",
       "      <td>0.14</td>\n",
       "      <td>0.0</td>\n",
       "      <td>0.0</td>\n",
       "      <td>Feb</td>\n",
       "      <td>3</td>\n",
       "      <td>2</td>\n",
       "      <td>2</td>\n",
       "      <td>4</td>\n",
       "      <td>Returning_Visitor</td>\n",
       "      <td>False</td>\n",
       "      <td>False</td>\n",
       "    </tr>\n",
       "    <tr>\n",
       "      <th>4</th>\n",
       "      <td>0</td>\n",
       "      <td>0.0</td>\n",
       "      <td>0</td>\n",
       "      <td>0.0</td>\n",
       "      <td>10</td>\n",
       "      <td>627.500000</td>\n",
       "      <td>0.02</td>\n",
       "      <td>0.05</td>\n",
       "      <td>0.0</td>\n",
       "      <td>0.0</td>\n",
       "      <td>Feb</td>\n",
       "      <td>3</td>\n",
       "      <td>3</td>\n",
       "      <td>1</td>\n",
       "      <td>4</td>\n",
       "      <td>Returning_Visitor</td>\n",
       "      <td>True</td>\n",
       "      <td>False</td>\n",
       "    </tr>\n",
       "  </tbody>\n",
       "</table>\n",
       "</div>"
      ],
      "text/plain": [
       "   Administrative  Administrative_Duration  Informational  \\\n",
       "0               0                      0.0              0   \n",
       "1               0                      0.0              0   \n",
       "2               0                      0.0              0   \n",
       "3               0                      0.0              0   \n",
       "4               0                      0.0              0   \n",
       "\n",
       "   Informational_Duration  ProductRelated  ProductRelated_Duration  \\\n",
       "0                     0.0               1                 0.000000   \n",
       "1                     0.0               2                64.000000   \n",
       "2                     0.0               1                 0.000000   \n",
       "3                     0.0               2                 2.666667   \n",
       "4                     0.0              10               627.500000   \n",
       "\n",
       "   BounceRates  ExitRates  PageValues  SpecialDay Month  OperatingSystems  \\\n",
       "0         0.20       0.20         0.0         0.0   Feb                 1   \n",
       "1         0.00       0.10         0.0         0.0   Feb                 2   \n",
       "2         0.20       0.20         0.0         0.0   Feb                 4   \n",
       "3         0.05       0.14         0.0         0.0   Feb                 3   \n",
       "4         0.02       0.05         0.0         0.0   Feb                 3   \n",
       "\n",
       "   Browser  Region  TrafficType        VisitorType  Weekend  Revenue  \n",
       "0        1       1            1  Returning_Visitor    False    False  \n",
       "1        2       1            2  Returning_Visitor    False    False  \n",
       "2        1       9            3  Returning_Visitor    False    False  \n",
       "3        2       2            4  Returning_Visitor    False    False  \n",
       "4        3       1            4  Returning_Visitor     True    False  "
      ]
     },
     "execution_count": 4,
     "metadata": {},
     "output_type": "execute_result"
    }
   ],
   "source": [
    "data = pd.read_csv(\"online_shoppers_intention.csv\", sep=',')\n",
    "data.head()"
   ]
  },
  {
   "cell_type": "markdown",
   "metadata": {},
   "source": [
    "\"Administrative\", \"Administrative Duration\", \"Informational\", \"Informational Duration\", \"Product Related\" and \"Product Related Duration\" represent the number of different types of pages visited by the visitor in that session and total time spent in each of these page categories.\n",
    "\n",
    "The value of \"Bounce Rate\" feature for a web page refers to the percentage of visitors who enter the site from that page and then leave (\"bounce\") without triggering any other requests to the analytics server during that session.\n",
    "\n",
    "The value of \"Exit Rate\" feature for a specific web page is calculated as for all pageviews to the page, the percentage that were the last in the session.\n",
    "\n",
    "The \"Page Value\" feature represents the average value for a web page that a user visited before completing an e-commerce transaction.\n",
    "\n",
    "The \"Special Day\" feature indicates the closeness of the site visiting time to a specific special day (e.g. Mother’s Day, Valentine's Day) in which the sessions are more likely to be finalized with transaction. The value of this attribute is determined by considering the dynamics of e-commerce such as the duration between the order date and delivery date. For example, for Valentina’s day, this value takes a nonzero value between February 2 and February 12, zero before and after this date unless it is close to another special day, and its maximum value of 1 on February 8.\n",
    "\n",
    "The dataset also includes operating system, browser, region, traffic type, visitor type as returning or new visitor, a Boolean value indicating whether the date of the visit is weekend, and month of the year."
   ]
  },
  {
   "cell_type": "markdown",
   "metadata": {},
   "source": [
    "## Data Analysis"
   ]
  },
  {
   "cell_type": "markdown",
   "metadata": {},
   "source": [
    "### Revenue Based Analysis"
   ]
  },
  {
   "cell_type": "markdown",
   "metadata": {},
   "source": [
    "#### Revenue vs not revenue on the visits"
   ]
  },
  {
   "cell_type": "code",
   "execution_count": 5,
   "metadata": {},
   "outputs": [
    {
     "data": {
      "image/png": "[encoded data removed]",
      "text/plain": [
       "<Figure size 504x504 with 1 Axes>"
      ]
     },
     "metadata": {},
     "output_type": "display_data"
    }
   ],
   "source": [
    "plt.figure(figsize=(7,7))\n",
    "\n",
    "ax = sns.countplot(x='Revenue',data=data, palette='hls')\n",
    "\n",
    "# Adding respective values to the top of each bar\n",
    "for p in ax.patches: \n",
    "    ax.annotate(\"%i\" % p.get_height(), (p.get_x() + p.get_width() / 2, p.get_height()),\n",
    "                ha='center', va='center', fontsize=11, color='black', xytext=(0, 10), \n",
    "                textcoords='offset points')"
   ]
  },
  {
   "cell_type": "code",
   "execution_count": 40,
   "metadata": {},
   "outputs": [
    {
     "data": {
      "image/png": "[encoded data removed]",
      "text/plain": [
       "<Figure size 432x288 with 1 Axes>"
      ]
     },
     "metadata": {},
     "output_type": "display_data"
    }
   ],
   "source": [
    "# Data to plot\n",
    "labels = 'True', 'False'\n",
    "\n",
    "sizes = []\n",
    "length = data.Revenue.shape[0]\n",
    "for i in data.Revenue.value_counts().values:\n",
    "    sizes.append(round((i/length*100),2))\n",
    "    \n",
    "colors = ['gold', 'yellowgreen']\n",
    "explode = (0.1, 0)  # explode 1st slice\n",
    "\n",
    "def make_autopct(values):\n",
    "    def my_autopct(pct):\n",
    "        total = sum(values)\n",
    "        val = int(round(pct*total/100.0))\n",
    "        return '{p:.2f}%'.format(p=pct)\n",
    "    return my_autopct\n",
    "\n",
    "\n",
    "# Plot\n",
    "plt.pie(sizes, explode=explode, labels=labels, colors=colors, shadow=True, startangle=140, autopct=make_autopct(sizes))\n",
    "plt.legend(patches, labels, loc=\"best\")\n",
    "plt.axis('equal')\n",
    "plt.show()\n"
   ]
  },
  {
   "cell_type": "markdown",
   "metadata": {},
   "source": [
    "### As it is clear from pie plot, among the all website visits, 15.47% of them finally had revenue for website."
   ]
  },
  {
   "cell_type": "markdown",
   "metadata": {},
   "source": [
    "#### Most Revnue is made on weekends or not?"
   ]
  },
  {
   "cell_type": "code",
   "execution_count": 85,
   "metadata": {},
   "outputs": [
    {
     "data": {
      "text/plain": [
       "499"
      ]
     },
     "execution_count": 85,
     "metadata": {},
     "output_type": "execute_result"
    }
   ],
   "source": [
    "cnt = 0\n",
    "for index, row in data.iterrows():\n",
    "    for i in row.index.tolist():\n",
    "        if ((i == \"Weekend\")&(row[i] == True)) & (row[\"Revenue\"] == True) == True:\n",
    "            cnt+=1\n",
    "cnt"
   ]
  },
  {
   "cell_type": "code",
   "execution_count": 105,
   "metadata": {},
   "outputs": [
    {
     "data": {
      "image/png": "[encoded data removed]",
      "text/plain": [
       "<Figure size 360x504 with 1 Axes>"
      ]
     },
     "metadata": {},
     "output_type": "display_data"
    }
   ],
   "source": [
    "Weekend_Revenue = data[(data.Revenue == True) & (data.Weekend == True)].shape[0] / data[data.Revenue == True].shape[0]\n",
    "Weekday_Revenue = data[(data.Revenue == True) & (data.Weekend == False)].shape[0] / data[data.Revenue == True].shape[0]\n",
    "label = [\"Weekday_Revenue\", \"Weekend_Revenue\"]\n",
    "size = [Weekday_Revenue, Weekend_Revenue]\n",
    "\n",
    "# Plot\n",
    "plt.figure(figsize=(5,7))\n",
    "plt.pie(size, explode=explode, labels=label, colors=colors, shadow=True, startangle=140, autopct=make_autopct(size))\n",
    "plt.legend(patches, label, loc=\"upper right\")\n",
    "plt.axis('equal')\n",
    "plt.show()\n"
   ]
  },
  {
   "cell_type": "code",
   "execution_count": 79,
   "metadata": {},
   "outputs": [
    {
     "name": "stdout",
     "output_type": "stream",
     "text": [
      "['Administrative', 'Administrative_Duration', 'Informational', 'Informational_Duration', 'ProductRelated', 'ProductRelated_Duration', 'BounceRates', 'ExitRates', 'PageValues', 'SpecialDay', 'Month', 'OperatingSystems', 'Browser', 'Region', 'TrafficType', 'VisitorType', 'Weekend', 'Revenue']\n"
     ]
    }
   ],
   "source": [
    "cnt = 0\n",
    "for index, row in data.iterrows():\n",
    "    l = row.index.tolist()\n",
    "\n",
    "print (l)"
   ]
  },
  {
   "cell_type": "markdown",
   "metadata": {},
   "source": [
    "###### Code for multiple measues in barchart"
   ]
  },
  {
   "cell_type": "code",
   "execution_count": null,
   "metadata": {},
   "outputs": [],
   "source": [
    "#col should be less than 15 categories \n",
    "def plot_multiple_bar(col,list_of_measures,dataframe):\n",
    "    \n",
    "    temp_df = dataframe.groupby([col]).mean()[list_of_measures].reset_index()\n",
    "    temp_df_melt = pd.melt(temp_df, id_vars=col, var_name=\"Parameters\", value_name=\"Values\")\n",
    "    g =sns.factorplot(x=col, y='Values',hue ='Parameters', data=temp_df_melt, kind='bar',legend=False,size =7)\n",
    "    g.set_xticklabels(fontsize='20')\n",
    "    g.set_yticklabels(fontsize='20')\n",
    "    g.set_xlabels(fontsize='20')\n",
    "    g.set_ylabels(fontsize='20')\n",
    "    g.add_legend(fontsize='20')"
   ]
  },
  {
   "cell_type": "markdown",
   "metadata": {},
   "source": [
    "### Weekday/weekend effect on revenue"
   ]
  },
  {
   "cell_type": "code",
   "execution_count": null,
   "metadata": {},
   "outputs": [],
   "source": []
  },
  {
   "cell_type": "markdown",
   "metadata": {},
   "source": [
    "#### Region that had most revenue:"
   ]
  },
  {
   "cell_type": "code",
   "execution_count": 107,
   "metadata": {},
   "outputs": [
    {
     "data": {
      "text/plain": [
       "<matplotlib.axes._subplots.AxesSubplot at 0x25cf9021400>"
      ]
     },
     "execution_count": 107,
     "metadata": {},
     "output_type": "execute_result"
    },
    {
     "data": {
      "image/png": "[encoded data removed]",
      "text/plain": [
       "<Figure size 432x288 with 1 Axes>"
      ]
     },
     "metadata": {},
     "output_type": "display_data"
    }
   ],
   "source": [
    "a = data.groupby([\"Region\"]).mean().reset_index().sort_values([\"Revenue\"], ascending=False)\n",
    "sns.barplot(x=\"Region\", y=\"Revenue\", data=data, order=a['Region'])"
   ]
  },
  {
   "cell_type": "markdown",
   "metadata": {},
   "source": [
    "#### The region 9 made the highest revenue!"
   ]
  },
  {
   "cell_type": "markdown",
   "metadata": {},
   "source": [
    "### Does the regions have same result if we consider the revenues on weekends?"
   ]
  },
  {
   "cell_type": "code",
   "execution_count": 53,
   "metadata": {},
   "outputs": [
    {
     "data": {
      "text/plain": [
       "<matplotlib.axes._subplots.AxesSubplot at 0x1a8e1b8ef28>"
      ]
     },
     "execution_count": 53,
     "metadata": {},
     "output_type": "execute_result"
    },
    {
     "data": {
      "image/png": "[encoded data removed]",
      "text/plain": [
       "<Figure size 432x288 with 1 Axes>"
      ]
     },
     "metadata": {},
     "output_type": "display_data"
    }
   ],
   "source": [
    "a = data.groupby([\"Region\"]).mean().reset_index().sort_values([\"Revenue\"], ascending=False)\n",
    "sns.barplot(x=\"Region\", y=\"Revenue\", hue = \"Weekend\", data=data, order=a['Region'])"
   ]
  },
  {
   "cell_type": "markdown",
   "metadata": {},
   "source": [
    "#### Which type of visitores made the most revenue?"
   ]
  },
  {
   "cell_type": "code",
   "execution_count": 119,
   "metadata": {},
   "outputs": [
    {
     "data": {
      "text/plain": [
       "<matplotlib.axes._subplots.AxesSubplot at 0x25cf8a48ef0>"
      ]
     },
     "execution_count": 119,
     "metadata": {},
     "output_type": "execute_result"
    },
    {
     "data": {
      "image/png": "[encoded data removed]",
      "text/plain": [
       "<Figure size 432x288 with 1 Axes>"
      ]
     },
     "metadata": {},
     "output_type": "display_data"
    }
   ],
   "source": [
    "sns.barplot(x=\"VisitorType\", y=\"Revenue\",data=data)"
   ]
  },
  {
   "cell_type": "markdown",
   "metadata": {},
   "source": [
    "#### Revenue in different regions in weekends?"
   ]
  },
  {
   "cell_type": "code",
   "execution_count": 115,
   "metadata": {},
   "outputs": [
    {
     "data": {
      "image/png": "[encoded data removed]",
      "text/plain": [
       "<Figure size 360x504 with 1 Axes>"
      ]
     },
     "metadata": {},
     "output_type": "display_data"
    }
   ],
   "source": [
    "df = data.groupby(\"Region\").mean()[[\"Revenue\",\"Weekend\"]].reset_index().sort_values(by=['Revenue'],ascending=False)\n",
    "Rev = df[\"Revenue\"].tolist()\n",
    "Reg = df[\"Region\"].tolist()\n",
    "\n",
    "# Plot\n",
    "plt.figure(figsize=(5,7))\n",
    "plt.pie(Rev, labels=Reg, shadow=True, startangle=140, autopct=make_autopct(Rev))\n",
    "plt.axis('equal')\n",
    "plt.show()"
   ]
  },
  {
   "cell_type": "code",
   "execution_count": 123,
   "metadata": {},
   "outputs": [
    {
     "data": {
      "text/plain": [
       "<matplotlib.axes._subplots.AxesSubplot at 0x25cf8ec9b38>"
      ]
     },
     "execution_count": 123,
     "metadata": {},
     "output_type": "execute_result"
    },
    {
     "data": {
      "image/png": "[encoded data removed]",
      "text/plain": [
       "<Figure size 432x288 with 1 Axes>"
      ]
     },
     "metadata": {},
     "output_type": "display_data"
    }
   ],
   "source": [
    "sns.barplot(x='Month', y='Revenue', hue =\"Weekend\",data = data)"
   ]
  },
  {
   "cell_type": "code",
   "execution_count": 153,
   "metadata": {},
   "outputs": [
    {
     "data": {
      "text/plain": [
       "Region  Revenue\n",
       "1       False      4009\n",
       "        True        771\n",
       "2       False       948\n",
       "        True        188\n",
       "3       False      2054\n",
       "        True        349\n",
       "4       False      1007\n",
       "        True        175\n",
       "5       False       266\n",
       "        True         52\n",
       "6       False       693\n",
       "        True        112\n",
       "7       False       642\n",
       "        True        119\n",
       "8       False       378\n",
       "        True         56\n",
       "9       False       425\n",
       "        True         86\n",
       "Name: Revenue, dtype: int64"
      ]
     },
     "execution_count": 153,
     "metadata": {},
     "output_type": "execute_result"
    }
   ],
   "source": [
    "df3 = data.groupby(\"Region\").Revenue.value_counts()\n",
    "df3"
   ]
  },
  {
   "cell_type": "markdown",
   "metadata": {},
   "source": [
    "#### Special days effect on revenue?"
   ]
  },
  {
   "cell_type": "code",
   "execution_count": 120,
   "metadata": {},
   "outputs": [
    {
     "data": {
      "text/plain": [
       "<matplotlib.axes._subplots.AxesSubplot at 0x25cf8aa4390>"
      ]
     },
     "execution_count": 120,
     "metadata": {},
     "output_type": "execute_result"
    },
    {
     "data": {
      "image/png": "[encoded data removed]",
      "text/plain": [
       "<Figure size 432x288 with 1 Axes>"
      ]
     },
     "metadata": {},
     "output_type": "display_data"
    }
   ],
   "source": [
    "sns.barplot(x=\"Month\", y=\"SpecialDay\", hue = \"Revenue\",data=data)"
   ]
  },
  {
   "cell_type": "markdown",
   "metadata": {},
   "source": [
    "#### What is the pattern for purchases in special days?"
   ]
  },
  {
   "cell_type": "code",
   "execution_count": 121,
   "metadata": {},
   "outputs": [
    {
     "data": {
      "text/plain": [
       "<matplotlib.axes._subplots.AxesSubplot at 0x25cf8e4beb8>"
      ]
     },
     "execution_count": 121,
     "metadata": {},
     "output_type": "execute_result"
    },
    {
     "data": {
      "image/png": "[encoded data removed]",
      "text/plain": [
       "<Figure size 432x288 with 1 Axes>"
      ]
     },
     "metadata": {},
     "output_type": "display_data"
    }
   ],
   "source": [
    "sns.barplot(x=\"SpecialDay\", y=\"Revenue\", data = data)"
   ]
  },
  {
   "cell_type": "markdown",
   "metadata": {},
   "source": [
    "## 2. Visit Based Analysis"
   ]
  },
  {
   "cell_type": "markdown",
   "metadata": {},
   "source": [
    "### Which month had the most visit?"
   ]
  },
  {
   "cell_type": "code",
   "execution_count": 117,
   "metadata": {},
   "outputs": [
    {
     "data": {
      "text/plain": [
       "May     0.272830\n",
       "Nov     0.243147\n",
       "Mar     0.154663\n",
       "Dec     0.140065\n",
       "Oct     0.044526\n",
       "Sep     0.036334\n",
       "Aug     0.035118\n",
       "Jul     0.035036\n",
       "June    0.023358\n",
       "Feb     0.014923\n",
       "Name: Month, dtype: float64"
      ]
     },
     "execution_count": 117,
     "metadata": {},
     "output_type": "execute_result"
    }
   ],
   "source": [
    "data.Month.value_counts()/data.shape[0]"
   ]
  },
  {
   "cell_type": "markdown",
   "metadata": {},
   "source": [
    "### Rate of BounceRates and ExitRates in different regions?"
   ]
  },
  {
   "cell_type": "code",
   "execution_count": 16,
   "metadata": {},
   "outputs": [
    {
     "data": {
      "image/png": "[encoded data removed]",
      "text/plain": [
       "<Figure size 707.75x504 with 1 Axes>"
      ]
     },
     "metadata": {},
     "output_type": "display_data"
    }
   ],
   "source": [
    "plot_multiple_bar(\"Region\",[\"BounceRates\",\"ExitRates\"],data)"
   ]
  },
  {
   "cell_type": "markdown",
   "metadata": {},
   "source": [
    "### N products with highest revenue"
   ]
  },
  {
   "cell_type": "code",
   "execution_count": 198,
   "metadata": {},
   "outputs": [
    {
     "data": {
      "text/html": [
       "<div>\n",
       "<style scoped>\n",
       "    .dataframe tbody tr th:only-of-type {\n",
       "        vertical-align: middle;\n",
       "    }\n",
       "\n",
       "    .dataframe tbody tr th {\n",
       "        vertical-align: top;\n",
       "    }\n",
       "\n",
       "    .dataframe thead th {\n",
       "        text-align: right;\n",
       "    }\n",
       "</style>\n",
       "<table border=\"1\" class=\"dataframe\">\n",
       "  <thead>\n",
       "    <tr style=\"text-align: right;\">\n",
       "      <th></th>\n",
       "      <th>ProductRelated</th>\n",
       "      <th>Highest Rate Products</th>\n",
       "    </tr>\n",
       "  </thead>\n",
       "  <tbody>\n",
       "    <tr>\n",
       "      <th>10</th>\n",
       "      <td>10</td>\n",
       "      <td>50.0</td>\n",
       "    </tr>\n",
       "    <tr>\n",
       "      <th>13</th>\n",
       "      <td>13</td>\n",
       "      <td>45.0</td>\n",
       "    </tr>\n",
       "    <tr>\n",
       "      <th>22</th>\n",
       "      <td>22</td>\n",
       "      <td>44.0</td>\n",
       "    </tr>\n",
       "    <tr>\n",
       "      <th>14</th>\n",
       "      <td>14</td>\n",
       "      <td>43.0</td>\n",
       "    </tr>\n",
       "    <tr>\n",
       "      <th>21</th>\n",
       "      <td>21</td>\n",
       "      <td>42.0</td>\n",
       "    </tr>\n",
       "    <tr>\n",
       "      <th>19</th>\n",
       "      <td>19</td>\n",
       "      <td>42.0</td>\n",
       "    </tr>\n",
       "    <tr>\n",
       "      <th>8</th>\n",
       "      <td>8</td>\n",
       "      <td>42.0</td>\n",
       "    </tr>\n",
       "    <tr>\n",
       "      <th>12</th>\n",
       "      <td>12</td>\n",
       "      <td>40.0</td>\n",
       "    </tr>\n",
       "    <tr>\n",
       "      <th>15</th>\n",
       "      <td>15</td>\n",
       "      <td>40.0</td>\n",
       "    </tr>\n",
       "    <tr>\n",
       "      <th>17</th>\n",
       "      <td>17</td>\n",
       "      <td>40.0</td>\n",
       "    </tr>\n",
       "  </tbody>\n",
       "</table>\n",
       "</div>"
      ],
      "text/plain": [
       "    ProductRelated  Highest Rate Products\n",
       "10              10                   50.0\n",
       "13              13                   45.0\n",
       "22              22                   44.0\n",
       "14              14                   43.0\n",
       "21              21                   42.0\n",
       "19              19                   42.0\n",
       "8                8                   42.0\n",
       "12              12                   40.0\n",
       "15              15                   40.0\n",
       "17              17                   40.0"
      ]
     },
     "execution_count": 198,
     "metadata": {},
     "output_type": "execute_result"
    }
   ],
   "source": [
    "N = 10\n",
    "data.groupby([\"ProductRelated\"]).sum()[\"Revenue\"].reset_index(name = \"Highest Rate Products\").sort_values(by=[\"Highest Rate Products\"], ascending = False).head(N)"
   ]
  },
  {
   "cell_type": "markdown",
   "metadata": {},
   "source": [
    "## Is any product that has no revenue? How many?"
   ]
  },
  {
   "cell_type": "code",
   "execution_count": 122,
   "metadata": {},
   "outputs": [
    {
     "data": {
      "text/plain": [
       "86"
      ]
     },
     "execution_count": 122,
     "metadata": {},
     "output_type": "execute_result"
    }
   ],
   "source": [
    "df1 = data.groupby(\"ProductRelated\").mean()[[\"Revenue\"]].sort_values(by=['Revenue'],ascending=False)\n",
    "df2 = df1[df1.Revenue == False]\n",
    "df2.shape[0]  #86 products had no revenue"
   ]
  },
  {
   "cell_type": "markdown",
   "metadata": {},
   "source": [
    "### Is there multicolinearity problem among the features?"
   ]
  },
  {
   "cell_type": "code",
   "execution_count": 124,
   "metadata": {},
   "outputs": [
    {
     "name": "stdout",
     "output_type": "stream",
     "text": [
      "Administrative => Administrative_Duration : 0.6015833421250285\n",
      "Administrative_Duration => Administrative : 0.6015833421250285\n",
      "Informational => Informational_Duration : 0.618954861781397\n",
      "Informational_Duration => Informational : 0.618954861781397\n",
      "ProductRelated => ProductRelated_Duration : 0.8609268361763887\n",
      "ProductRelated_Duration => ProductRelated : 0.8609268361763887\n",
      "BounceRates => ExitRates : 0.9130043961814553\n",
      "ExitRates => BounceRates : 0.9130043961814553\n"
     ]
    }
   ],
   "source": [
    "correlationMatrix = data.corr()\n",
    "\n",
    "for index,rows in correlationMatrix.iterrows():\n",
    "    for i in rows.index.tolist():\n",
    "        if index != i and abs(rows[i])>0.5:\n",
    "            print(index ,'=>',i,\":\",rows[i])"
   ]
  },
  {
   "cell_type": "markdown",
   "metadata": {},
   "source": [
    "### There are two columns with correlation values greater than 0.9. So, I will keep only BounceRates to avoid multicolinearity issue."
   ]
  },
  {
   "cell_type": "code",
   "execution_count": 208,
   "metadata": {},
   "outputs": [
    {
     "data": {
      "text/plain": [
       "Index(['Administrative', 'Administrative_Duration', 'Informational',\n",
       "       'Informational_Duration', 'ProductRelated', 'ProductRelated_Duration',\n",
       "       'BounceRates', 'PageValues', 'SpecialDay', 'Month', 'OperatingSystems',\n",
       "       'Browser', 'Region', 'TrafficType', 'VisitorType', 'Weekend',\n",
       "       'Revenue'],\n",
       "      dtype='object')"
      ]
     },
     "execution_count": 208,
     "metadata": {},
     "output_type": "execute_result"
    }
   ],
   "source": [
    "new_data = data.drop(labels = \"ExitRates\", axis = 1)\n",
    "new_data.columns"
   ]
  },
  {
   "cell_type": "markdown",
   "metadata": {},
   "source": [
    "## Is threre class imbalance issue in dataset?"
   ]
  },
  {
   "cell_type": "code",
   "execution_count": 125,
   "metadata": {},
   "outputs": [
    {
     "data": {
      "text/plain": [
       "False    0.845255\n",
       "True     0.154745\n",
       "Name: Revenue, dtype: float64"
      ]
     },
     "execution_count": 125,
     "metadata": {},
     "output_type": "execute_result"
    }
   ],
   "source": [
    "data.Revenue.value_counts()/data.shape[0]   #Label Imbalance Issue exist in the dataset,\n",
    "                                            #so accuracy will not be enough as an evaluation matrix!"
   ]
  },
  {
   "cell_type": "markdown",
   "metadata": {},
   "source": [
    "Because of the imbalannce issue, accuracy will not be a good indicator in evaluating the prediction model.\n",
    "I will use prediction, recall and f1 as main factors in evaluating the models."
   ]
  },
  {
   "cell_type": "markdown",
   "metadata": {},
   "source": [
    "## Preparing data to build prediction model"
   ]
  },
  {
   "cell_type": "code",
   "execution_count": 209,
   "metadata": {
    "scrolled": false
   },
   "outputs": [],
   "source": [
    "### Independent Variables\n",
    "x = new_data.iloc[:, :-1]"
   ]
  },
  {
   "cell_type": "code",
   "execution_count": 214,
   "metadata": {},
   "outputs": [],
   "source": [
    "### dependent variable => Since we only have 2 different categories, those are mapped to 0 and 1.\n",
    "y = new_data.iloc[:, -1]"
   ]
  },
  {
   "cell_type": "code",
   "execution_count": 215,
   "metadata": {},
   "outputs": [],
   "source": [
    "from sklearn.preprocessing import LabelEncoder, OneHotEncoder\n",
    "\n",
    "### Although our categorical features do not have ordinal sequence to encode them as numbers and use them,\n",
    "### we need the transformation in the future to be incoded as numbers in encoding with OneHotEncoder \n",
    "labelencoder_x = LabelEncoder()\n",
    "labelencoder_y = LabelEncoder()\n",
    "x[\"VisitorType\"] = labelencoder_x.fit_transform(x[\"VisitorType\"])\n",
    "x[\"Month\"] = labelencoder_x.fit_transform(x[\"Month\"])\n",
    "x[\"Weekend\"] = labelencoder_x.fit_transform(x[\"Weekend\"])\n",
    "y = labelencoder_y.fit_transform(y)"
   ]
  },
  {
   "cell_type": "code",
   "execution_count": 220,
   "metadata": {},
   "outputs": [],
   "source": [
    "onehotencoder = OneHotEncoder(categorical_features = [[10,11,12,13,14,15]])\n",
    "x = onehotencoder.fit_transform(x).toarray()"
   ]
  },
  {
   "cell_type": "markdown",
   "metadata": {},
   "source": [
    "### Model 1: \n",
    "### Logistic Regression Classifier"
   ]
  },
  {
   "cell_type": "code",
   "execution_count": 221,
   "metadata": {},
   "outputs": [],
   "source": [
    "from sklearn.linear_model import LogisticRegression\n",
    "from sklearn.model_selection import cross_val_score\n",
    "classifier_LR = LogisticRegression(random_state = 0,penalty='l1')\n",
    "Log_Reg_clf = classifier_LR.fit(x, y)"
   ]
  },
  {
   "cell_type": "code",
   "execution_count": 222,
   "metadata": {},
   "outputs": [
    {
     "data": {
      "text/plain": [
       "array([0.89704094, 0.89217673, 0.87712895, 0.87505071, 0.8693712 ])"
      ]
     },
     "execution_count": 222,
     "metadata": {},
     "output_type": "execute_result"
    }
   ],
   "source": [
    "LR_scores = cross_val_score(Log_Reg_clf, x, y, cv=5, scoring='accuracy')\n",
    "LR_scores                                              "
   ]
  },
  {
   "cell_type": "markdown",
   "metadata": {},
   "source": [
    "###### The mean score and the 95% confidence interval of the score estimate are hence given by:"
   ]
  },
  {
   "cell_type": "code",
   "execution_count": 224,
   "metadata": {},
   "outputs": [
    {
     "name": "stdout",
     "output_type": "stream",
     "text": [
      "Accuracy for Logistic Regression Model is: 88.22 % (+/- 0.02)\n"
     ]
    }
   ],
   "source": [
    "print(\"Accuracy for Logistic Regression Model is: %0.2f %% (+/- %0.2f)\" % (LR_scores.mean()*100, LR_scores.std() * 2))"
   ]
  },
  {
   "cell_type": "code",
   "execution_count": 225,
   "metadata": {
    "scrolled": true
   },
   "outputs": [
    {
     "name": "stdout",
     "output_type": "stream",
     "text": [
      "LR_Recall = 0.37523601434637427 [0.40052356 0.39005236 0.38481675 0.34120735 0.35958005]\n",
      "LR_Precision = 0.7388698557625224 [0.85955056 0.81868132 0.68372093 0.69518717 0.6372093 ]\n",
      "LR_F1 = 0.49694753996200036 [0.54642857 0.52836879 0.49246231 0.45774648 0.45973154]\n"
     ]
    }
   ],
   "source": [
    "# precision, recall and F1\n",
    "from sklearn.preprocessing import LabelBinarizer\n",
    "y1 = y\n",
    "lb = LabelBinarizer()\n",
    "y1 = np.array([number[0] for number in lb.fit_transform(y1)])\n",
    "LR_Recall = cross_val_score(classifier_LR, x, y1, cv=5, scoring='recall')\n",
    "print('LR_Recall =', np.mean(LR_Recall), LR_Recall)\n",
    "LR_precision = cross_val_score(classifier_LR, x, y1, cv=5, scoring='precision')\n",
    "print('LR_Precision =', np.mean(LR_precision), LR_precision)\n",
    "LR_F1 = cross_val_score(classifier_LR, x, y1, cv=5, scoring='f1')\n",
    "print('LR_F1 =', np.mean(LR_F1), LR_F1)"
   ]
  },
  {
   "cell_type": "markdown",
   "metadata": {},
   "source": [
    "### Model 2:\n",
    "### KNN Classifier\n",
    "Feature scalling is requierd!"
   ]
  },
  {
   "cell_type": "code",
   "execution_count": 226,
   "metadata": {},
   "outputs": [],
   "source": [
    "# Feature Scaling\n",
    "from sklearn.preprocessing import StandardScaler\n",
    "sc = StandardScaler()\n",
    "x_scaled= sc.fit_transform(x)"
   ]
  },
  {
   "cell_type": "code",
   "execution_count": 227,
   "metadata": {},
   "outputs": [],
   "source": [
    "# Fitting K-NN to data\n",
    "from sklearn.neighbors import KNeighborsClassifier\n",
    "classifier_KNN = KNeighborsClassifier(n_neighbors = 5, metric = 'minkowski', p = 2)\n",
    "KNN_clf = classifier_KNN.fit(x_scaled, y)"
   ]
  },
  {
   "cell_type": "code",
   "execution_count": 228,
   "metadata": {},
   "outputs": [
    {
     "data": {
      "text/plain": [
       "array([0.86501824, 0.85447912, 0.84793187, 0.8474645 , 0.84381339])"
      ]
     },
     "execution_count": 228,
     "metadata": {},
     "output_type": "execute_result"
    }
   ],
   "source": [
    "KNN_scores = cross_val_score(KNN_clf, x_scaled, y, cv=5)\n",
    "KNN_scores  "
   ]
  },
  {
   "cell_type": "code",
   "execution_count": 229,
   "metadata": {},
   "outputs": [
    {
     "name": "stdout",
     "output_type": "stream",
     "text": [
      "Accuracy for KNN Model is: 85.17 % (+/- 0.01)\n"
     ]
    }
   ],
   "source": [
    "print(\"Accuracy for KNN Model is: %0.2f %% (+/- %0.2f)\" % (KNN_scores.mean()*100, KNN_scores.std() * 2))"
   ]
  },
  {
   "cell_type": "code",
   "execution_count": 230,
   "metadata": {},
   "outputs": [
    {
     "name": "stdout",
     "output_type": "stream",
     "text": [
      "KNN_Recall = 0.21332536312542083 [0.2382199  0.18848168 0.18848168 0.19947507 0.2519685 ]\n",
      "KNN_Precision = 0.5623204029947498 [0.68421053 0.59504132 0.52554745 0.5170068  0.48979592]\n",
      "KNN_F1 = 0.30755428645508065 [0.35339806 0.28628231 0.27745665 0.28787879 0.33275563]\n"
     ]
    }
   ],
   "source": [
    "KNN_Recall = cross_val_score(classifier_KNN, x_scaled, y1, cv=5, scoring='recall')\n",
    "print('KNN_Recall =', np.mean(KNN_Recall), KNN_Recall)\n",
    "KNN_precision = cross_val_score(classifier_KNN, x_scaled, y1, cv=5, scoring='precision')\n",
    "print('KNN_Precision =', np.mean(KNN_precision), KNN_precision)\n",
    "KNN_F1 = cross_val_score(classifier_KNN, x_scaled, y1, cv=5, scoring='f1')\n",
    "print('KNN_F1 =', np.mean(KNN_F1), KNN_F1)"
   ]
  },
  {
   "cell_type": "markdown",
   "metadata": {},
   "source": [
    "### Model 3:\n",
    "### Linear SVM"
   ]
  },
  {
   "cell_type": "code",
   "execution_count": 232,
   "metadata": {},
   "outputs": [],
   "source": [
    "from sklearn.svm import SVC\n",
    "classifier_LSVM = SVC(kernel = 'linear', random_state = 0)\n",
    "LSVM_clf = classifier_LSVM.fit(x_scaled, y1)"
   ]
  },
  {
   "cell_type": "code",
   "execution_count": 233,
   "metadata": {},
   "outputs": [
    {
     "data": {
      "text/plain": [
       "array([0.90271585, 0.89825699, 0.88199513, 0.86977688, 0.86855984])"
      ]
     },
     "execution_count": 233,
     "metadata": {},
     "output_type": "execute_result"
    }
   ],
   "source": [
    "LSVM_scores = cross_val_score(LSVM_clf, x_scaled, y1, cv=5)\n",
    "LSVM_scores"
   ]
  },
  {
   "cell_type": "code",
   "execution_count": 235,
   "metadata": {},
   "outputs": [
    {
     "name": "stdout",
     "output_type": "stream",
     "text": [
      "Accuracy for SVM Model is: 88.43 % (+/- 0.03)\n"
     ]
    }
   ],
   "source": [
    "print(\"Accuracy for SVM Model is: %0.2f %% (+/- %0.2f)\" % (LSVM_scores.mean()*100, LSVM_scores.std() * 2))"
   ]
  },
  {
   "cell_type": "code",
   "execution_count": 237,
   "metadata": {},
   "outputs": [
    {
     "name": "stdout",
     "output_type": "stream",
     "text": [
      "Accuracy for Linear SVM Model is: 88.43 % (+/- 0.03)\n",
      "LSVM_Recall = 0.3987811078588998 [0.44764398 0.45549738 0.41884817 0.33858268 0.33333333]\n",
      "LSVM_Precision = 0.7303436953161601 [0.855      0.80184332 0.69868996 0.65151515 0.64467005]\n",
      "LSVM_F1 = 0.5154741911424978 [0.58762887 0.58096828 0.52373159 0.44559585 0.43944637]\n"
     ]
    }
   ],
   "source": [
    "print(\"Accuracy for Linear SVM Model is: %0.2f %% (+/- %0.2f)\" % (LSVM_scores.mean()*100, LSVM_scores.std() * 2))\n",
    "LSVM_Recall = cross_val_score(classifier_LSVM, x_scaled, y1, cv=5, scoring='recall')\n",
    "print('LSVM_Recall =', np.mean(LSVM_Recall), LSVM_Recall)\n",
    "LSVM_precision = cross_val_score(classifier_LSVM, x_scaled, y1, cv=5, scoring='precision')\n",
    "print('LSVM_Precision =', np.mean(LSVM_precision), LSVM_precision)\n",
    "LSVM_F1 = cross_val_score(classifier_LSVM, x_scaled, y1, cv=5, scoring='f1')\n",
    "print('LSVM_F1 =', np.mean(LSVM_F1), LSVM_F1)"
   ]
  },
  {
   "cell_type": "markdown",
   "metadata": {},
   "source": [
    "### Model 4:\n",
    "### Kernel SVM"
   ]
  },
  {
   "cell_type": "code",
   "execution_count": 239,
   "metadata": {},
   "outputs": [
    {
     "name": "stdout",
     "output_type": "stream",
     "text": [
      "Accuracy for Kernel SVM Model is: 88.49 % (+/- 0.03)\n",
      "Kernel_SVM_Recall = 0.37833889873713433 [0.42670157 0.43455497 0.40314136 0.31496063 0.31233596]\n",
      "Kernel_SVM_Precision = 0.7539928283737776 [0.87165775 0.81773399 0.72641509 0.6741573  0.68      ]\n",
      "Kernel_SVM_F1 = 0.5032741034782781 [0.57293497 0.56752137 0.51851852 0.4293381  0.42805755]\n"
     ]
    }
   ],
   "source": [
    "classifier_Kernel_SVM = SVC(kernel = 'rbf', random_state = 0)\n",
    "Kernel_SVM_clf = classifier_Kernel_SVM.fit(x_scaled, y1)\n",
    "Kernel_SVM_scores = cross_val_score(Kernel_SVM_clf, x_scaled, y1, cv=5)\n",
    "print(\"Accuracy for Kernel SVM Model is: %0.2f %% (+/- %0.2f)\" % (Kernel_SVM_scores.mean()*100, Kernel_SVM_scores.std() * 2))\n",
    "Kernel_SVM_Recall = cross_val_score(classifier_Kernel_SVM, x_scaled, y1, cv=5, scoring='recall')\n",
    "print('Kernel_SVM_Recall =', np.mean(Kernel_SVM_Recall), Kernel_SVM_Recall)\n",
    "Kernel_SVM_precision = cross_val_score(classifier_Kernel_SVM, x_scaled, y1, cv=5, scoring='precision')\n",
    "print('Kernel_SVM_Precision =', np.mean(Kernel_SVM_precision), Kernel_SVM_precision)\n",
    "Kernel_SVM_F1 = cross_val_score(classifier_Kernel_SVM, x_scaled, y1, cv=5, scoring='f1')\n",
    "print('Kernel_SVM_F1 =', np.mean(Kernel_SVM_F1), Kernel_SVM_F1)"
   ]
  },
  {
   "cell_type": "markdown",
   "metadata": {},
   "source": [
    "### Model 5:\n",
    "### Naive Bayes"
   ]
  },
  {
   "cell_type": "code",
   "execution_count": 240,
   "metadata": {},
   "outputs": [
    {
     "name": "stdout",
     "output_type": "stream",
     "text": [
      "Accuracy for Naive Bayes Model is: 22.93 % (+/- 0.04)\n",
      "NB_Recall = 0.9879512443143561 [0.97382199 0.9921466  0.98691099 1.         0.98687664]\n",
      "NB_Precision = 0.16593460424294249 [0.16741674 0.17196007 0.16159451 0.16543639 0.16326531]\n",
      "NB_F1 = 0.28412618326797723 [0.28571429 0.29311678 0.27771639 0.28390462 0.28017884]\n"
     ]
    }
   ],
   "source": [
    "from sklearn.naive_bayes import GaussianNB\n",
    "classifier_NB = GaussianNB()\n",
    "NB_clf = classifier_NB.fit(x_scaled, y1)\n",
    "NB_scores = cross_val_score(NB_clf, x_scaled, y1, cv=5)\n",
    "print(\"Accuracy for Naive Bayes Model is: %0.2f %% (+/- %0.2f)\" % (NB_scores.mean()*100, NB_scores.std() * 2))\n",
    "NB_Recall = cross_val_score(classifier_NB, x_scaled, y1, cv=5, scoring='recall')\n",
    "print('NB_Recall =', np.mean(NB_Recall), NB_Recall)\n",
    "NB_precision = cross_val_score(classifier_NB, x_scaled, y1, cv=5, scoring='precision')\n",
    "print('NB_Precision =', np.mean(NB_precision), NB_precision)\n",
    "NB_F1 = cross_val_score(classifier_NB, x_scaled, y1, cv=5, scoring='f1')\n",
    "print('NB_F1 =', np.mean(NB_F1), NB_F1)"
   ]
  },
  {
   "cell_type": "markdown",
   "metadata": {},
   "source": [
    "### Model 6:\n",
    "### Decision Tree"
   ]
  },
  {
   "cell_type": "code",
   "execution_count": 241,
   "metadata": {},
   "outputs": [
    {
     "name": "stdout",
     "output_type": "stream",
     "text": [
      "Accuracy for Decision Tree Model is: 84.22 % (+/- 0.08)\n",
      "DT_Recall = 0.5439886768080691 [0.53403141 0.60209424 0.56544503 0.47506562 0.54330709]\n",
      "DT_Precision = 0.521865098380102 [0.71812081 0.65317919 0.46767241 0.39333333 0.37701975]\n",
      "DT_F1 = 0.5257610675046814 [0.61828737 0.63586957 0.50234742 0.41428571 0.45801527]\n"
     ]
    }
   ],
   "source": [
    "from sklearn import tree\n",
    "classifier_DT = tree.DecisionTreeClassifier()\n",
    "DT_clf = classifier_DT.fit(x, y1)\n",
    "DT_scores = cross_val_score(DT_clf, x, y1, cv=5)\n",
    "print(\"Accuracy for Decision Tree Model is: %0.2f %% (+/- %0.2f)\" % (DT_scores.mean()*100, DT_scores.std() * 2))\n",
    "DT_Recall = cross_val_score(classifier_DT, x_scaled, y1, cv=5, scoring='recall')\n",
    "print('DT_Recall =', np.mean(DT_Recall), DT_Recall)\n",
    "DT_precision = cross_val_score(classifier_DT, x, y1, cv=5, scoring='precision')\n",
    "print('DT_Precision =', np.mean(DT_precision), DT_precision)\n",
    "DT_F1 = cross_val_score(classifier_DT, x, y1, cv=5, scoring='f1')\n",
    "print('DT_F1 =', np.mean(DT_F1), DT_F1)"
   ]
  },
  {
   "cell_type": "markdown",
   "metadata": {},
   "source": [
    "### Model 7:\n",
    "### Random Forest"
   ]
  },
  {
   "cell_type": "code",
   "execution_count": 242,
   "metadata": {},
   "outputs": [
    {
     "name": "stdout",
     "output_type": "stream",
     "text": [
      "Accuracy for Random Forest Model is: 86.43 % (+/- 0.01)\n",
      "RF_Recall = 0.13837655109865193 [0.08376963 0.12565445 0.18324607 0.13385827 0.16535433]\n",
      "RF_Precision = 0.915121325135732 [0.96969697 1.         0.84337349 0.83606557 0.92647059]\n",
      "RF_F1 = 0.23798815780552401 [0.15421687 0.22325581 0.30107527 0.23076923 0.28062361]\n"
     ]
    }
   ],
   "source": [
    "from sklearn.ensemble import RandomForestClassifier\n",
    "classifier_RF = RandomForestClassifier(n_estimators=100, max_depth=5,random_state=0)\n",
    "RF_clf = classifier_RF.fit(x, y1)\n",
    "RF_scores = cross_val_score(RF_clf, x, y1, cv=5)\n",
    "print(\"Accuracy for Random Forest Model is: %0.2f %% (+/- %0.2f)\" % (RF_scores.mean()*100, RF_scores.std() * 2))\n",
    "RF_Recall = cross_val_score(classifier_RF, x_scaled, y1, cv=5, scoring='recall')\n",
    "print('RF_Recall =', np.mean(RF_Recall), RF_Recall)\n",
    "RF_precision = cross_val_score(classifier_RF, x, y1, cv=5, scoring='precision')\n",
    "print('RF_Precision =', np.mean(RF_precision), RF_precision)\n",
    "RF_F1 = cross_val_score(classifier_RF, x, y1, cv=5, scoring='f1')\n",
    "print('RF_F1 =', np.mean(RF_F1), RF_F1)"
   ]
  },
  {
   "cell_type": "code",
   "execution_count": 243,
   "metadata": {},
   "outputs": [
    {
     "name": "stdout",
     "output_type": "stream",
     "text": [
      "Accuracy for Random Forest Model is: 88.78 % (+/- 0.02)\n",
      "RF2_Recall = 0.36841736405985903 [0.30628272 0.42670157 0.43193717 0.29658793 0.38057743]\n",
      "RF2_Precision = 0.8015793000897553 [0.90769231 0.83589744 0.79710145 0.73856209 0.72864322]\n",
      "RF2_F1 = 0.5018842910261179 [0.4609375  0.56499133 0.56027165 0.42322097 0.5       ]\n"
     ]
    }
   ],
   "source": [
    "classifier_RF2 = RandomForestClassifier(n_estimators=100, max_depth=8,random_state=0)\n",
    "RF2_clf = classifier_RF2.fit(x, y1)\n",
    "RF2_scores = cross_val_score(RF2_clf, x, y1, cv=5)\n",
    "print(\"Accuracy for Random Forest Model is: %0.2f %% (+/- %0.2f)\" % (RF2_scores.mean()*100, RF2_scores.std() * 2))\n",
    "RF2_Recall = cross_val_score(classifier_RF2, x_scaled, y1, cv=5, scoring='recall')\n",
    "print('RF2_Recall =', np.mean(RF2_Recall), RF2_Recall)\n",
    "RF2_precision = cross_val_score(classifier_RF2, x, y1, cv=5, scoring='precision')\n",
    "print('RF2_Precision =', np.mean(RF2_precision), RF2_precision)\n",
    "RF2_F1 = cross_val_score(classifier_RF2, x, y1, cv=5, scoring='f1')\n",
    "print('RF2_F1 =', np.mean(RF2_F1), RF2_F1)"
   ]
  },
  {
   "cell_type": "code",
   "execution_count": 244,
   "metadata": {},
   "outputs": [
    {
     "name": "stdout",
     "output_type": "stream",
     "text": [
      "Accuracy for Random Forest Model is: 89.03 % (+/- 0.02)\n",
      "RF3_Recall = 0.4470393425952645 [0.37696335 0.4947644  0.51832461 0.39107612 0.45406824]\n",
      "RF3_Precision = 0.7551335157894288 [0.91558442 0.76829268 0.72527473 0.67727273 0.68924303]\n",
      "RF3_F1 = 0.5551838008671298 [0.5261194  0.60191083 0.60458015 0.49584027 0.54746835]\n"
     ]
    }
   ],
   "source": [
    "classifier_RF3 = RandomForestClassifier(n_estimators=100, max_depth=10,random_state=0)\n",
    "RF3_clf = classifier_RF3.fit(x, y1)\n",
    "RF3_scores = cross_val_score(RF3_clf, x, y1, cv=5)\n",
    "print(\"Accuracy for Random Forest Model is: %0.2f %% (+/- %0.2f)\" % (RF3_scores.mean()*100, RF3_scores.std() * 2))\n",
    "RF3_Recall = cross_val_score(classifier_RF3, x_scaled, y1, cv=5, scoring='recall')\n",
    "print('RF3_Recall =', np.mean(RF3_Recall), RF3_Recall)\n",
    "RF3_precision = cross_val_score(classifier_RF3, x, y1, cv=5, scoring='precision')\n",
    "print('RF3_Precision =', np.mean(RF3_precision), RF3_precision)\n",
    "RF3_F1 = cross_val_score(classifier_RF3, x, y1, cv=5, scoring='f1')\n",
    "print('RF3_F1 =', np.mean(RF3_F1), RF3_F1)"
   ]
  },
  {
   "cell_type": "code",
   "execution_count": 245,
   "metadata": {},
   "outputs": [
    {
     "data": {
      "text/plain": [
       "[88.22, 85.17, 88.43, 88.49, 22.93, 84.22, 89.03]"
      ]
     },
     "execution_count": 245,
     "metadata": {},
     "output_type": "execute_result"
    }
   ],
   "source": [
    "Accuracies = [round(LR_scores.mean()*100,2),\n",
    "              round(KNN_scores.mean()*100,2),\n",
    "              round(LSVM_scores.mean()*100,2),\n",
    "              round(Kernel_SVM_scores.mean()*100,2),\n",
    "              round(NB_scores.mean()*100,2),\n",
    "              round(DT_scores.mean()*100,2),\n",
    "              round(RF3_scores.mean()*100,2)]\n",
    "Accuracies"
   ]
  },
  {
   "cell_type": "code",
   "execution_count": 246,
   "metadata": {},
   "outputs": [
    {
     "data": {
      "text/html": [
       "<div>\n",
       "<style scoped>\n",
       "    .dataframe tbody tr th:only-of-type {\n",
       "        vertical-align: middle;\n",
       "    }\n",
       "\n",
       "    .dataframe tbody tr th {\n",
       "        vertical-align: top;\n",
       "    }\n",
       "\n",
       "    .dataframe thead th {\n",
       "        text-align: right;\n",
       "    }\n",
       "</style>\n",
       "<table border=\"1\" class=\"dataframe\">\n",
       "  <thead>\n",
       "    <tr style=\"text-align: right;\">\n",
       "      <th></th>\n",
       "      <th>Model</th>\n",
       "      <th>Accuracy</th>\n",
       "    </tr>\n",
       "  </thead>\n",
       "  <tbody>\n",
       "    <tr>\n",
       "      <th>0</th>\n",
       "      <td>Logistic Regression</td>\n",
       "      <td>88.22</td>\n",
       "    </tr>\n",
       "    <tr>\n",
       "      <th>1</th>\n",
       "      <td>K-Nearest Neighbor</td>\n",
       "      <td>85.17</td>\n",
       "    </tr>\n",
       "    <tr>\n",
       "      <th>2</th>\n",
       "      <td>Linear SVM</td>\n",
       "      <td>88.43</td>\n",
       "    </tr>\n",
       "    <tr>\n",
       "      <th>3</th>\n",
       "      <td>Kernel SVM</td>\n",
       "      <td>88.49</td>\n",
       "    </tr>\n",
       "    <tr>\n",
       "      <th>4</th>\n",
       "      <td>Naive Bayes</td>\n",
       "      <td>22.93</td>\n",
       "    </tr>\n",
       "    <tr>\n",
       "      <th>5</th>\n",
       "      <td>Decision Tree</td>\n",
       "      <td>84.22</td>\n",
       "    </tr>\n",
       "    <tr>\n",
       "      <th>6</th>\n",
       "      <td>Random Forest</td>\n",
       "      <td>89.03</td>\n",
       "    </tr>\n",
       "  </tbody>\n",
       "</table>\n",
       "</div>"
      ],
      "text/plain": [
       "                 Model  Accuracy\n",
       "0  Logistic Regression     88.22\n",
       "1   K-Nearest Neighbor     85.17\n",
       "2           Linear SVM     88.43\n",
       "3           Kernel SVM     88.49\n",
       "4          Naive Bayes     22.93\n",
       "5        Decision Tree     84.22\n",
       "6        Random Forest     89.03"
      ]
     },
     "execution_count": 246,
     "metadata": {},
     "output_type": "execute_result"
    }
   ],
   "source": [
    "Classifiers = [\"Logistic Regression\", \"K-Nearest Neighbor\", \"Linear SVM\", \"Kernel SVM\", \"Naive Bayes\",\"Decision Tree\", \"Random Forest\"]\n",
    "df = pd.DataFrame(list(zip(Classifiers, Accuracies)), columns = [\"Model\", \"Accuracy\"])\n",
    "df"
   ]
  },
  {
   "cell_type": "code",
   "execution_count": 247,
   "metadata": {},
   "outputs": [
    {
     "data": {
      "image/png": "[encoded data removed]",
      "text/plain": [
       "<Figure size 1152x576 with 1 Axes>"
      ]
     },
     "metadata": {},
     "output_type": "display_data"
    }
   ],
   "source": [
    "fig,ax = plt.subplots()\n",
    "fig.set_size_inches(16,8)\n",
    "\n",
    "#to get different colors for each of the variable assign the variable to hue\n",
    "g=sns.barplot(x='Model',y='Accuracy',data=df,ax=ax)\n",
    "\n",
    "#Code for to put legend outside the plot\n",
    "box = ax.get_position()\n",
    "ax.set_position([box.x0, box.y0, box.width * 0.8, box.height])\n",
    "# Put a legend to the right of the current axis\n",
    "#ax.legend(loc='center left', bbox_to_anchor=(1, 0.5))\n",
    "\n",
    "# Adding respective values to the top of each bar\n",
    "for p in ax.patches: \n",
    "    ax.annotate(\"%.2f\" % p.get_height(), (p.get_x() + p.get_width() / 2, p.get_height()),\n",
    "                ha='center', va='center', fontsize=11, color='black', xytext=(0, 10), \n",
    "                textcoords='offset points')\n",
    "\n",
    "#To save the plot as 'SO.png'    \n",
    "plt.savefig('SO.png',dpi=100,bbox_inches='tight')\n",
    "plt.show()"
   ]
  },
  {
   "cell_type": "code",
   "execution_count": 248,
   "metadata": {},
   "outputs": [
    {
     "data": {
      "text/html": [
       "<div>\n",
       "<style scoped>\n",
       "    .dataframe tbody tr th:only-of-type {\n",
       "        vertical-align: middle;\n",
       "    }\n",
       "\n",
       "    .dataframe tbody tr th {\n",
       "        vertical-align: top;\n",
       "    }\n",
       "\n",
       "    .dataframe thead th {\n",
       "        text-align: right;\n",
       "    }\n",
       "</style>\n",
       "<table border=\"1\" class=\"dataframe\">\n",
       "  <thead>\n",
       "    <tr style=\"text-align: right;\">\n",
       "      <th></th>\n",
       "      <th>Model</th>\n",
       "      <th>Precision</th>\n",
       "      <th>Recall</th>\n",
       "      <th>F1</th>\n",
       "    </tr>\n",
       "  </thead>\n",
       "  <tbody>\n",
       "    <tr>\n",
       "      <th>0</th>\n",
       "      <td>Logistic Regression</td>\n",
       "      <td>0.74</td>\n",
       "      <td>0.38</td>\n",
       "      <td>0.50</td>\n",
       "    </tr>\n",
       "    <tr>\n",
       "      <th>1</th>\n",
       "      <td>K-Nearest Neighbor</td>\n",
       "      <td>0.56</td>\n",
       "      <td>0.21</td>\n",
       "      <td>0.31</td>\n",
       "    </tr>\n",
       "    <tr>\n",
       "      <th>2</th>\n",
       "      <td>Linear SVM</td>\n",
       "      <td>0.73</td>\n",
       "      <td>0.40</td>\n",
       "      <td>0.52</td>\n",
       "    </tr>\n",
       "    <tr>\n",
       "      <th>3</th>\n",
       "      <td>Kernel SVM</td>\n",
       "      <td>0.75</td>\n",
       "      <td>0.38</td>\n",
       "      <td>0.50</td>\n",
       "    </tr>\n",
       "    <tr>\n",
       "      <th>4</th>\n",
       "      <td>Naive Bayes</td>\n",
       "      <td>0.17</td>\n",
       "      <td>0.99</td>\n",
       "      <td>0.28</td>\n",
       "    </tr>\n",
       "  </tbody>\n",
       "</table>\n",
       "</div>"
      ],
      "text/plain": [
       "                 Model  Precision  Recall    F1\n",
       "0  Logistic Regression       0.74    0.38  0.50\n",
       "1   K-Nearest Neighbor       0.56    0.21  0.31\n",
       "2           Linear SVM       0.73    0.40  0.52\n",
       "3           Kernel SVM       0.75    0.38  0.50\n",
       "4          Naive Bayes       0.17    0.99  0.28"
      ]
     },
     "execution_count": 248,
     "metadata": {},
     "output_type": "execute_result"
    }
   ],
   "source": [
    "Precisions = [round(np.mean(LR_precision),2),\n",
    "              round(np.mean(KNN_precision),2),\n",
    "              round(np.mean(LSVM_precision),2),\n",
    "              round(np.mean(Kernel_SVM_precision),2),\n",
    "              round(np.mean(NB_precision),2),\n",
    "              round(np.mean(DT_precision),2),\n",
    "              round(np.mean(RF3_precision),2)]\n",
    "\n",
    "Recalls = [round(np.mean(LR_Recall),2),\n",
    "              round(np.mean(KNN_Recall),2),\n",
    "              round(np.mean(LSVM_Recall),2),\n",
    "              round(np.mean(Kernel_SVM_Recall),2),\n",
    "              round(np.mean(NB_Recall),2),\n",
    "              round(np.mean(DT_Recall),2),\n",
    "              round(np.mean(RF3_Recall),2)]\n",
    "\n",
    "F1s = [round(np.mean(LR_F1),2),\n",
    "              round(np.mean(KNN_F1),2),\n",
    "              round(np.mean(LSVM_F1),2),\n",
    "              round(np.mean(Kernel_SVM_F1),2),\n",
    "              round(np.mean(NB_F1),2),\n",
    "              round(np.mean(DT_F1),2),\n",
    "              round(np.mean(RF3_F1),2)]\n",
    "\n",
    "df1 = pd.DataFrame(list(zip(Classifiers, Precisions, Recalls, F1s)), columns = [\"Model\", \"Precision\", \"Recall\", \"F1\"])\n",
    "df1.head()"
   ]
  },
  {
   "cell_type": "code",
   "execution_count": 249,
   "metadata": {},
   "outputs": [],
   "source": [
    "#col should be less than 15 categories \n",
    "def plot_multiple_bar2(col,list_of_measures,dataframe):\n",
    "    \n",
    "    temp_df = dataframe.groupby([col]).mean()[list_of_measures].reset_index()\n",
    "    temp_df_melt = pd.melt(temp_df, id_vars=col, var_name=\"Parameters\", value_name=\"Values\")\n",
    "    g =sns.factorplot(x=col, y='Values',hue ='Parameters', data=temp_df_melt, kind='bar',legend=False,size =7)\n",
    "    g.set_xticklabels(fontsize='10')\n",
    "    g.set_yticklabels(fontsize='20')\n",
    "    g.set_xlabels(fontsize='10')\n",
    "    g.set_ylabels(fontsize='20')\n",
    "    g.add_legend(fontsize='20')\n",
    "    g.set_xticklabels(ax.get_xticklabels(), rotation=40, ha=\"right\")"
   ]
  },
  {
   "cell_type": "code",
   "execution_count": 250,
   "metadata": {},
   "outputs": [
    {
     "data": {
      "image/png": "[encoded data removed]",
      "text/plain": [
       "<Figure size 666.125x504 with 1 Axes>"
      ]
     },
     "metadata": {},
     "output_type": "display_data"
    }
   ],
   "source": [
    "plot_multiple_bar2(\"Model\",[\"Precision\",\"Recall\",\"F1\"],df1)"
   ]
  },
  {
   "cell_type": "markdown",
   "metadata": {},
   "source": [
    "## Some techniques:"
   ]
  },
  {
   "cell_type": "markdown",
   "metadata": {},
   "source": [
    "### Filtering Data Set"
   ]
  },
  {
   "cell_type": "code",
   "execution_count": null,
   "metadata": {},
   "outputs": [],
   "source": [
    "# A data set including new visitors who made purchase\n",
    "f1 = data[\"VisitorType\"].isin([\"New_Visitor\"])\n",
    "f2 = data[\"Revenue\"].isin([True])\n",
    "df_new = data[f1 & f2]"
   ]
  },
  {
   "cell_type": "markdown",
   "metadata": {},
   "source": [
    "### Output as a csv file"
   ]
  },
  {
   "cell_type": "code",
   "execution_count": null,
   "metadata": {},
   "outputs": [],
   "source": [
    "df_new.to_csv('test.csv', index=True, header=True)"
   ]
  }
 ],
 "metadata": {
  "kernelspec": {
   "display_name": "Python 3",
   "language": "python",
   "name": "python3"
  },
  "language_info": {
   "codemirror_mode": {
    "name": "ipython",
    "version": 3
   },
   "file_extension": ".py",
   "mimetype": "text/x-python",
   "name": "python",
   "nbconvert_exporter": "python",
   "pygments_lexer": "ipython3",
   "version": "3.6.5"
  }
 },
 "nbformat": 4,
 "nbformat_minor": 2
}
